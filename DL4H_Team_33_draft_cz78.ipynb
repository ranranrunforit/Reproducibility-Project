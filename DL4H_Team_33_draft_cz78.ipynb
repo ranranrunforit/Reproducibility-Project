{
  "cells": [
    {
      "cell_type": "markdown",
      "metadata": {
        "id": "j_A1M01Ux5gl"
      },
      "source": [
        "# CS598 DL4H: Reproducibility Project Proposal for Graph Attention Networks model (Spring 2024)\n",
        "Chaoran Zhou\n",
        "\n",
        "cz78@illinois.edu\n",
        "\n",
        "Group ID: 33\n",
        "\n",
        "Paper ID: 13\n",
        "\n",
        "Github: https://github.com/ranranrunforit/Reproducibility-Project"
      ]
    },
    {
      "cell_type": "markdown",
      "metadata": {
        "id": "dlv6knX04FiY"
      },
      "source": [
        "### Mount Notebook to Google Drive"
      ]
    },
    {
      "cell_type": "code",
      "execution_count": 1,
      "metadata": {
        "colab": {
          "base_uri": "https://localhost:8080/"
        },
        "id": "sfk8Zrul_E8V",
        "outputId": "215a2617-6cf8-4de2-8d56-435c08fb2b18"
      },
      "outputs": [
        {
          "output_type": "stream",
          "name": "stdout",
          "text": [
            "Mounted at /content/drive\n"
          ]
        }
      ],
      "source": [
        "from google.colab import drive\n",
        "drive.mount('/content/drive')"
      ]
    },
    {
      "cell_type": "code",
      "execution_count": 2,
      "metadata": {
        "colab": {
          "base_uri": "https://localhost:8080/"
        },
        "id": "tS2I_7e0x5gq",
        "outputId": "67d5a7f2-4ffe-4b7e-dc2f-694904c5c09a"
      },
      "outputs": [
        {
          "output_type": "stream",
          "name": "stdout",
          "text": [
            "/content/drive/My Drive\n"
          ]
        }
      ],
      "source": [
        "# change the working directory to the Drive root\n",
        "%cd /content/drive/My\\ Drive"
      ]
    },
    {
      "cell_type": "markdown",
      "metadata": {
        "id": "AdGmGxThx5gq"
      },
      "source": [
        "# Introduction\n",
        "\n",
        "## Background of the Problem\n",
        "\n",
        "Many critical tasks involve data represented in irregular domains such as 3D meshes, social networks, telecommunication networks, biological networks, and brain connectomes, which can be modeled as graphs. Traditional Convolutional Neural Networks (CNNs) struggle with irregular data structures, leading to the introduction of Graph Neural Networks (GNNs) to handle general graphs. Attention mechanisms, widely used in sequence-based tasks, offer the flexibility to focus on relevant parts of varying inputs. Graph Attention Networks (GAT) represent a significant advancement in effectively applying neural network architectures to graph-structured data, particularly in scenarios where the data does not adhere to a grid-like structure.\n",
        "\n",
        "## Paper Explanation\n",
        "\n",
        "The paper introduces Graph Attention Networks (GAT) as an innovative approach to processing graph-structured data using convolution-style neural networks with masked self-attentional layers. GAT enables nodes to assign varying weights to their neighbors without costly matrix operations or prior knowledge of the entire graph structure. By leveraging attention mechanisms efficiently within the graph attentional layer, GAT achieves computational efficiency and can parallelize operations across all nodes in the graph. This dynamic assignment of node importance based on relationships leads to improved information propagation and feature learning, resulting in state-of-the-art performance on node classification benchmarks. GAT offers a more effective and scalable solution for handling complex relationships in graph data.\n"
      ]
    },
    {
      "cell_type": "markdown",
      "metadata": {
        "id": "uygL9tTPSVHB"
      },
      "source": [
        "# Scope of Reproducibility:\n",
        "\n",
        "Hypotheses\n",
        "\n",
        "- Hypothesis 1: The GAT model is expected to achieve a mean classification accuracy of 83.0 ± 0.7% on transductive tasks using Cora datasets.\n",
        "\n",
        "- Hypothesis 2: The GAT model is expected to achieve a mean classification accuracy of 72.5 ± 0.7% on transductive tasks using Citeseer datasets.\n",
        "\n",
        "- Hypothesis 3: The GAT model is expected to achieve a mean microaveraged F1 score of 97.3 ± 0.2% on inductive tasks using PPI datasets.\n",
        "\n",
        "\n",
        "It is important to note that the hypothesis has been adjusted based on the implementation and testing with the GAT model."
      ]
    },
    {
      "cell_type": "markdown",
      "metadata": {
        "id": "xWAHJ_1CdtaA"
      },
      "source": [
        "# Methodology\n"
      ]
    },
    {
      "cell_type": "markdown",
      "metadata": {
        "id": "6ocUPVe2ZiWn"
      },
      "source": [
        "It is important to note that in each section of this draft report, two GAT models' codes are presented.\n",
        "\n",
        "It is recommended to run one model's code at a time to accurately assess the performance of each model, given the time constraints of less than 8 minutes."
      ]
    },
    {
      "cell_type": "code",
      "execution_count": 3,
      "metadata": {
        "colab": {
          "base_uri": "https://localhost:8080/"
        },
        "id": "FpncfiKLsK13",
        "outputId": "db6f387d-c888-4a2a-a190-c70f9dd7dd2b"
      },
      "outputs": [
        {
          "output_type": "stream",
          "name": "stdout",
          "text": [
            "Sun Apr 21 06:02:21 2024       \n",
            "+---------------------------------------------------------------------------------------+\n",
            "| NVIDIA-SMI 535.104.05             Driver Version: 535.104.05   CUDA Version: 12.2     |\n",
            "|-----------------------------------------+----------------------+----------------------+\n",
            "| GPU  Name                 Persistence-M | Bus-Id        Disp.A | Volatile Uncorr. ECC |\n",
            "| Fan  Temp   Perf          Pwr:Usage/Cap |         Memory-Usage | GPU-Util  Compute M. |\n",
            "|                                         |                      |               MIG M. |\n",
            "|=========================================+======================+======================|\n",
            "|   0  Tesla T4                       Off | 00000000:00:04.0 Off |                    0 |\n",
            "| N/A   39C    P8               9W /  70W |      0MiB / 15360MiB |      0%      Default |\n",
            "|                                         |                      |                  N/A |\n",
            "+-----------------------------------------+----------------------+----------------------+\n",
            "                                                                                         \n",
            "+---------------------------------------------------------------------------------------+\n",
            "| Processes:                                                                            |\n",
            "|  GPU   GI   CI        PID   Type   Process name                            GPU Memory |\n",
            "|        ID   ID                                                             Usage      |\n",
            "|=======================================================================================|\n",
            "|  No running processes found                                                           |\n",
            "+---------------------------------------------------------------------------------------+\n"
          ]
        }
      ],
      "source": [
        "!nvidia-smi"
      ]
    },
    {
      "cell_type": "code",
      "execution_count": 4,
      "metadata": {
        "colab": {
          "base_uri": "https://localhost:8080/"
        },
        "id": "yu61Jp1xrnKk",
        "outputId": "15549afc-c50d-4f3c-810d-aad194633a26"
      },
      "outputs": [
        {
          "output_type": "stream",
          "name": "stdout",
          "text": [
            "Collecting torch-geometric\n",
            "  Downloading torch_geometric-2.5.3-py3-none-any.whl (1.1 MB)\n",
            "\u001b[2K     \u001b[90m━━━━━━━━━━━━━━━━━━━━━━━━━━━━━━━━━━━━━━━━\u001b[0m \u001b[32m1.1/1.1 MB\u001b[0m \u001b[31m7.5 MB/s\u001b[0m eta \u001b[36m0:00:00\u001b[0m\n",
            "\u001b[?25hRequirement already satisfied: tqdm in /usr/local/lib/python3.10/dist-packages (from torch-geometric) (4.66.2)\n",
            "Requirement already satisfied: numpy in /usr/local/lib/python3.10/dist-packages (from torch-geometric) (1.25.2)\n",
            "Requirement already satisfied: scipy in /usr/local/lib/python3.10/dist-packages (from torch-geometric) (1.11.4)\n",
            "Requirement already satisfied: fsspec in /usr/local/lib/python3.10/dist-packages (from torch-geometric) (2023.6.0)\n",
            "Requirement already satisfied: jinja2 in /usr/local/lib/python3.10/dist-packages (from torch-geometric) (3.1.3)\n",
            "Requirement already satisfied: aiohttp in /usr/local/lib/python3.10/dist-packages (from torch-geometric) (3.9.5)\n",
            "Requirement already satisfied: requests in /usr/local/lib/python3.10/dist-packages (from torch-geometric) (2.31.0)\n",
            "Requirement already satisfied: pyparsing in /usr/local/lib/python3.10/dist-packages (from torch-geometric) (3.1.2)\n",
            "Requirement already satisfied: scikit-learn in /usr/local/lib/python3.10/dist-packages (from torch-geometric) (1.2.2)\n",
            "Requirement already satisfied: psutil>=5.8.0 in /usr/local/lib/python3.10/dist-packages (from torch-geometric) (5.9.5)\n",
            "Requirement already satisfied: aiosignal>=1.1.2 in /usr/local/lib/python3.10/dist-packages (from aiohttp->torch-geometric) (1.3.1)\n",
            "Requirement already satisfied: attrs>=17.3.0 in /usr/local/lib/python3.10/dist-packages (from aiohttp->torch-geometric) (23.2.0)\n",
            "Requirement already satisfied: frozenlist>=1.1.1 in /usr/local/lib/python3.10/dist-packages (from aiohttp->torch-geometric) (1.4.1)\n",
            "Requirement already satisfied: multidict<7.0,>=4.5 in /usr/local/lib/python3.10/dist-packages (from aiohttp->torch-geometric) (6.0.5)\n",
            "Requirement already satisfied: yarl<2.0,>=1.0 in /usr/local/lib/python3.10/dist-packages (from aiohttp->torch-geometric) (1.9.4)\n",
            "Requirement already satisfied: async-timeout<5.0,>=4.0 in /usr/local/lib/python3.10/dist-packages (from aiohttp->torch-geometric) (4.0.3)\n",
            "Requirement already satisfied: MarkupSafe>=2.0 in /usr/local/lib/python3.10/dist-packages (from jinja2->torch-geometric) (2.1.5)\n",
            "Requirement already satisfied: charset-normalizer<4,>=2 in /usr/local/lib/python3.10/dist-packages (from requests->torch-geometric) (3.3.2)\n",
            "Requirement already satisfied: idna<4,>=2.5 in /usr/local/lib/python3.10/dist-packages (from requests->torch-geometric) (3.7)\n",
            "Requirement already satisfied: urllib3<3,>=1.21.1 in /usr/local/lib/python3.10/dist-packages (from requests->torch-geometric) (2.0.7)\n",
            "Requirement already satisfied: certifi>=2017.4.17 in /usr/local/lib/python3.10/dist-packages (from requests->torch-geometric) (2024.2.2)\n",
            "Requirement already satisfied: joblib>=1.1.1 in /usr/local/lib/python3.10/dist-packages (from scikit-learn->torch-geometric) (1.4.0)\n",
            "Requirement already satisfied: threadpoolctl>=2.0.0 in /usr/local/lib/python3.10/dist-packages (from scikit-learn->torch-geometric) (3.4.0)\n",
            "Installing collected packages: torch-geometric\n",
            "Successfully installed torch-geometric-2.5.3\n"
          ]
        }
      ],
      "source": [
        "# Install library torch-torch-geometric\n",
        "!pip install torch-geometric\n"
      ]
    },
    {
      "cell_type": "markdown",
      "metadata": {
        "id": "2NbPHUTMbkD3"
      },
      "source": [
        "##  Data\n",
        "\n",
        "### Data descriptions\n",
        "\n",
        "The project utilized three classic graph datasets, namely Cora, CiteSeer, and Protein-Protein Interactions (PPI) datasets.\n",
        "\n",
        "For transductive learning, both Cora and CiteSeer Datasets were used, representing networks of research papers with each connection representing a citation. The Cora dataset consists of 2708 scientific publications classified into seven classes, with a citation network of 5429 links. Each publication is described by a word vector (node features) indicating the presence or absence of 1433 unique words in a paper. The CiteSeer dataset consists of 3327 scientific publications classified into six classes, with a citation network of 4732 links. Each publication is described by a word vector indicating the presence or absence of 3703 unique words.\n",
        "\n",
        "For inductive learning, the PPI dataset contains 24 graphs corresponding to different human tissues, with 20 graphs for training, 2 for validation, and 2 for testing. The average number of nodes per graph is 2372, and each node has 50 features composed of positional gene sets, motif gene sets, and immunological signatures, as well as 121 labels from the Molecular Signatures Database."
      ]
    },
    {
      "cell_type": "markdown",
      "metadata": {
        "id": "XzVUQS0CHry0"
      },
      "source": [
        "### Implementation code"
      ]
    },
    {
      "cell_type": "markdown",
      "metadata": {
        "id": "h9TiRFLux5gs"
      },
      "source": [
        "The data processing involves loading data from files for the Cora dataset, extracting features and labels, adapting the data to PyTorch format, creating an adjacency matrix, adding self-loops to the adjacency matrix, and transferring the data to the device. Similarly, for the Citeseer dataset, isolated nodes in the graph are identified and added as zero vectors, followed by the same data pre-processing steps as the Cora dataset.\n",
        "\n",
        "The trained models' predictive power is evaluated on 1000 test nodes, with an additional 500 nodes used for validation. In the case of the Cora dataset, there are 140 training nodes, while the Citeseer dataset has 120 training nodes.\n"
      ]
    },
    {
      "cell_type": "code",
      "execution_count": null,
      "metadata": {
        "id": "27lEopmix5gs"
      },
      "outputs": [],
      "source": [
        "# Function to load Cora\n",
        "import os\n",
        "import time\n",
        "import requests\n",
        "import tarfile\n",
        "import numpy as np\n",
        "import argparse\n",
        "import torch\n",
        "\n",
        "def load_cora(path='./datasets/cora/', device='cpu'):\n",
        "\n",
        "    # Set the paths to the data files\n",
        "    content_path = os.path.join(path, 'cora.content')\n",
        "    cites_path = os.path.join(path, 'cora.cites')\n",
        "\n",
        "    # Load data from files\n",
        "    content_tensor = np.genfromtxt(content_path, dtype=np.dtype(str))\n",
        "    cites_tensor = np.genfromtxt(cites_path, dtype=np.int32)\n",
        "\n",
        "    # Process features\n",
        "    features = torch.FloatTensor(content_tensor[:, 1:-1].astype(np.int32)) # Extract feature values\n",
        "    scale_vector = torch.sum(features, dim=1) # Compute sum of features for each node\n",
        "    scale_vector = 1 / scale_vector # Compute reciprocal of the sums\n",
        "    scale_vector[scale_vector == float('inf')] = 0 # Handle division by zero cases\n",
        "    scale_vector = torch.diag(scale_vector).to_sparse() # Convert the scale vector to a sparse diagonal matrix\n",
        "    features = scale_vector @ features # Scale the features using the scale vector\n",
        "\n",
        "    # Process labels\n",
        "    classes, labels = np.unique(content_tensor[:, -1], return_inverse=True) # Extract unique classes and map labels to indices\n",
        "    labels = torch.LongTensor(labels) # Convert labels to a tensor\n",
        "\n",
        "    # Process adjacency matrix\n",
        "    idx = content_tensor[:, 0].astype(np.int32) # Extract node indices\n",
        "    idx_map = {id: pos for pos, id in enumerate(idx)} # Create a dictionary to map indices to positions\n",
        "\n",
        "    # Map node indices to positions in the adjacency matrix\n",
        "    edges = np.array(\n",
        "        list(map(lambda edge: [idx_map[edge[0]], idx_map[edge[1]]],\n",
        "            cites_tensor)), dtype=np.int32)\n",
        "\n",
        "    V = len(idx) # Number of nodes\n",
        "    E = edges.shape[0] # Number of edges\n",
        "    adj_mat = torch.sparse_coo_tensor(edges.T, torch.ones(E), (V, V), dtype=torch.int64) # Create the initial adjacency matrix as a sparse tensor\n",
        "    adj_mat = torch.eye(V) + adj_mat # Add self-loops to the adjacency matrix\n",
        "\n",
        "    return features.to(device), labels.to(device), adj_mat.to(device)"
      ]
    },
    {
      "cell_type": "code",
      "execution_count": null,
      "metadata": {
        "colab": {
          "base_uri": "https://localhost:8080/"
        },
        "id": "zK4uSmNJx5gt",
        "outputId": "b6b60937-badf-4a19-929c-287c2487abac"
      },
      "outputs": [
        {
          "name": "stdout",
          "output_type": "stream",
          "text": [
            "Using cpu device\n"
          ]
        }
      ],
      "source": [
        "import torch\n",
        "import os\n",
        "import requests\n",
        "import tarfile\n",
        "import glob\n",
        "\n",
        "# Set the parameters directly\n",
        "args = {\n",
        "    'seed': 9,  # 42\n",
        "    'no_cuda': False,\n",
        "    'no_mps': False,\n",
        "    'hidden_dim': 64,\n",
        "    'num_heads': 8,\n",
        "    'concat_heads': False,\n",
        "    'dropout_p': 0.6,\n",
        "    'lr': 0.005,\n",
        "    'l2': 5e-4,\n",
        "    'epochs': 300,\n",
        "    'patience': 100,\n",
        "    'print': True,\n",
        "}\n",
        "\n",
        "torch.manual_seed(args['seed'])\n",
        "use_cuda = not args['no_cuda'] and torch.cuda.is_available()\n",
        "use_mps = not args['no_mps'] and torch.backends.mps.is_available()\n",
        "\n",
        "# Set the device to run on\n",
        "if use_cuda:\n",
        "    device = torch.device('cuda')\n",
        "elif use_mps:\n",
        "    device = torch.device('mps')\n",
        "else:\n",
        "    device = torch.device('cpu')\n",
        "print(f'Using {device} device')\n",
        "\n",
        "# Load the cora dataset\n",
        "features, labels, adj_mat = load_cora(device=device)\n",
        "# Split the dataset into training, validation, and test sets\n",
        "idx = torch.randperm(len(labels)).to(device)\n",
        "idx_test, idx_val, idx_train = idx[:1000], idx[1000:1500], idx[1500:1620]"
      ]
    },
    {
      "cell_type": "code",
      "execution_count": null,
      "metadata": {
        "id": "G8NPP0hHx5gt"
      },
      "outputs": [],
      "source": [
        "# Function to load CiteSeer\n",
        "# (This is for the demonstration, you can run it. However running this cell will add chance to exceed the 8 minutes limits depends on the device )\n",
        "import os\n",
        "import time\n",
        "import requests\n",
        "import tarfile\n",
        "import numpy as np\n",
        "import argparse\n",
        "\n",
        "import torch\n",
        "\n",
        "def preprocess_index(cites_data, content_data):\n",
        "    # Fix citeseer dataset (there are some isolated nodes in the graph)\n",
        "    # Find isolated nodes, add them as zero-vecs into the right position\n",
        "\n",
        "    # Get unique IDs from both files\n",
        "    content_ids = np.unique(content_data[:, 0])\n",
        "    cites_ids = np.unique(np.concatenate((cites_data[:, 0], cites_data[:, 1])))\n",
        "\n",
        "    # Create ID mappings\n",
        "    content_id_mapping = dict(zip(content_ids, range(len(content_ids))))\n",
        "    cites_id_mapping = {id: content_id_mapping.get(id, len(content_id_mapping) + idx) for idx, id in enumerate(np.setdiff1d(cites_ids, content_ids))}\n",
        "    len_diff = len(cites_id_mapping)\n",
        "    cites_id_mapping.update(content_id_mapping)\n",
        "\n",
        "    # Update IDs in .cites file\n",
        "    cites_data[:, 0] = [cites_id_mapping[id] for id in cites_data[:, 0]]\n",
        "    cites_data[:, 1] = [cites_id_mapping[id] for id in cites_data[:, 1]]\n",
        "\n",
        "    # Update IDs in .content file\n",
        "    content_data[:, 0] = [content_id_mapping[id] for id in content_data[:, 0]]\n",
        "    # Add len_diff rows to content_data\n",
        "    additional_rows = np.zeros((len_diff, content_data.shape[1]),  dtype=content_data.dtype)\n",
        "    additional_rows[:, 1:-1] = np.array([['0'] * (content_data.shape[1] - 2)] * len_diff)\n",
        "    additional_rows[:, 0] = np.arange(len(content_ids), len(content_ids) + len_diff)\n",
        "    additional_rows[:, -1] = np.array(['NONE'] * len_diff)\n",
        "\n",
        "    new_content_data = np.vstack((content_data, additional_rows))\n",
        "\n",
        "    return new_content_data, cites_data.astype(np.int64)\n",
        "\n",
        "def load_citeseer(path='./datasets/citeseer/', device='cpu'):\n",
        "\n",
        "    # Set the paths to the data files\n",
        "    content_path = os.path.join(path, 'citeseer.content')\n",
        "    cites_path = os.path.join(path, 'citeseer.cites')\n",
        "\n",
        "    # Load data from files\n",
        "    content_data = np.genfromtxt(content_path, dtype=np.dtype(str))\n",
        "    cites_data = np.genfromtxt(cites_path, dtype=np.dtype(str))\n",
        "\n",
        "    content_tensor, cites_tensor = preprocess_index(cites_data, content_data)\n",
        "\n",
        "    # Process features\n",
        "    features = torch.FloatTensor(content_tensor[:, 1:-1].astype(np.int32)) # Extract feature values\n",
        "    scale_vector = torch.sum(features, dim=1) # Compute sum of features for each node\n",
        "    scale_vector = 1 / scale_vector # Compute reciprocal of the sums\n",
        "    scale_vector[scale_vector == float('inf')] = 0 # Handle division by zero cases\n",
        "    scale_vector = torch.diag(scale_vector).to_sparse() # Convert the scale vector to a sparse diagonal matrix\n",
        "    features = scale_vector @ features # Scale the features using the scale vector\n",
        "\n",
        "    # Process labels\n",
        "    classes, labels = np.unique(content_tensor[:, -1], return_inverse=True) # Extract unique classes and map labels to indices\n",
        "    labels = torch.LongTensor(labels) # Convert labels to a tensor\n",
        "\n",
        "    # Process adjacency matrix\n",
        "    idx = content_tensor[:, 0].astype(np.int32) # Extract node indices\n",
        "    idx_map = {id: pos for pos, id in enumerate(idx)} # Create a dictionary to map indices to positions\n",
        "\n",
        "    # Map node indices to positions in the adjacency matrix\n",
        "    edges = np.array(\n",
        "        list(map(lambda edge: [idx_map[edge[0]], idx_map[edge[1]]],\n",
        "            cites_tensor)), dtype=np.int32)\n",
        "\n",
        "    V = len(idx) # Number of nodes\n",
        "    E = edges.shape[0] # Number of edges\n",
        "    adj_mat = torch.sparse_coo_tensor(edges.T, torch.ones(E), (V, V), dtype=torch.int64) # Create the initial adjacency matrix as a sparse tensor\n",
        "    adj_mat = torch.eye(V) + adj_mat # Add self-loops to the adjacency matrix\n",
        "\n",
        "    # return features.to_sparse().to(device), labels.to(device), adj_mat.to_sparse().to(device)\n",
        "    return features.to(device), labels.to(device), adj_mat.to(device)"
      ]
    },
    {
      "cell_type": "code",
      "execution_count": null,
      "metadata": {
        "id": "A968BI7Dx5gt"
      },
      "outputs": [],
      "source": [
        "# Load the citeseer dataset\n",
        "# (This is for the demonstration, you can run it. However running this cell will add chance to exceed the 8 minutes limits depends on the device )\n",
        "features, labels, adj_mat = load_citeseer(device=device)\n",
        "# Split the dataset into training, validation, and test sets\n",
        "idx = torch.randperm(len(labels)).to(device)\n",
        "idx_test, idx_val, idx_train = idx[:1000], idx[1000:1500], idx[1500:1640]"
      ]
    },
    {
      "cell_type": "markdown",
      "metadata": {
        "id": "tYcGYzZIx5gt"
      },
      "source": [
        "For inductive learning using the PPI dataset, the data and dataloader were directly loaded from the torch_geometric library. The dataset contained 20 graphs for training, 2 for validation, and 2 for testing, with a batch size of 2 graphs utilized during training."
      ]
    },
    {
      "cell_type": "code",
      "execution_count": 5,
      "metadata": {
        "id": "HTOHuaS-x5gu",
        "colab": {
          "base_uri": "https://localhost:8080/"
        },
        "outputId": "155ad527-dfed-4ecb-d825-02e01fb89b84"
      },
      "outputs": [
        {
          "output_type": "stream",
          "name": "stderr",
          "text": [
            "Downloading https://data.dgl.ai/dataset/ppi.zip\n",
            "Extracting ./ppi.zip\n",
            "Processing...\n",
            "Done!\n"
          ]
        }
      ],
      "source": [
        "from torch_geometric.datasets import PPI\n",
        "from torch_geometric.loader import DataLoader\n",
        "from torch_geometric.transforms import AddSelfLoops\n",
        "\n",
        "# Load the PPI dataset\n",
        "train_dataset = PPI(root='', split='train', transform=AddSelfLoops())\n",
        "val_dataset = PPI(root='', split='val', transform=AddSelfLoops())\n",
        "test_dataset = PPI(root='', split='test', transform=AddSelfLoops())\n",
        "\n",
        "num_features = 50\n",
        "num_labels = 121\n",
        "train_loader = DataLoader(train_dataset, batch_size=2)\n",
        "val_loader = DataLoader(val_dataset, batch_size=2)\n",
        "test_loader = DataLoader(test_dataset, batch_size=2)"
      ]
    },
    {
      "cell_type": "markdown",
      "metadata": {
        "id": "3muyDPFPbozY"
      },
      "source": [
        "##   Model\n",
        "###  Model descriptions\n",
        "The model architecture for Graph Attention Networks (GAT) as proposed by Veličković et al. consists of two main model configurations, transductive learning model on Cora and Citeseer datasets, and inductive learning model on the PPI dataset. Both models are initialized using Glorot initialization and trained to minimize cross-entropy on the training nodes using the Adam SGD optimizer with an initial learning rate of 0.005 for all datasets. In both cases, an early stopping strategy is employed on both the cross-entropy loss and accuracy (transductive) or micro-F1 (inductive) score on the validation nodes, with a patience of 100 epochs.\n",
        "\n",
        "For transductive learning, a two-layer GAT model is applied. The first layer consists of K = 8 attention heads computing F = 8 features each, followed by an exponential linear unit (ELU) nonlinearity. This results in a total of 64 features. The second layer is used for classification and consists of a single attention head that computes C features, where C is the number of classes, followed by a softmax activation. To address the small training set sizes, regularization is applied within the model. Specifically, L2 regularization with lambda = 0.0005 is applied during training. Additionally, dropout with p = 0.6 is applied to both layers’ inputs, as well as to the normalized attention coefficients.\n",
        "The architectural hyperparameters have been optimized on the Cora dataset and then reused for the Citeseer dataset.\n",
        "\n",
        "For inductive learning, a three-layer GAT model is applied. Both of the first two layers consist of K = 4 attention heads computing F = 256 features each, followed by an ELU nonlinearity, resulting in a total of 1024 features. The final layer is used for (multi-label) classification and consists of K = 6 attention heads computing 121 features each, which are averaged and followed by a logistic sigmoid activation. In this case, the training sets are sufficiently large, and there is no need to apply L2 regularization or dropout. However, skip connections across the intermediate attentional layer have been successfully employed. A batch size of 2 graphs is utilized during training for this task.\n",
        "\n",
        "\n",
        "Reference\n",
        "\n",
        "\n",
        "```\n",
        "@article{\n",
        "  velickovic2018graph,\n",
        "  title=\"{Graph Attention Networks}\",\n",
        "  author={Veli{\\v{c}}kovi{\\'{c}}, Petar and Cucurull, Guillem and Casanova, Arantxa and Romero, Adriana and Li{\\`{o}}, Pietro and Bengio, Yoshua},\n",
        "  journal={International Conference on Learning Representations},\n",
        "  year={2018},\n",
        "  url={https://openreview.net/forum?id=rJXMpikCZ},\n",
        "}\n",
        "```\n",
        "- Paper on arxiv: [arXiv:1710.10903v3](https://doi.org/10.48550/arXiv.1710.10903)\n",
        "- Original paper repository: [https://github.com/PetarV-/GAT](https://github.com/PetarV-/GAT)\n",
        "\n"
      ]
    },
    {
      "cell_type": "markdown",
      "metadata": {
        "id": "CjJn7-kmx5gu"
      },
      "source": [
        "### Implementation code"
      ]
    },
    {
      "cell_type": "markdown",
      "metadata": {
        "id": "J_Zmdmkqx5gu"
      },
      "source": [
        "For transductive learning GAT:"
      ]
    },
    {
      "cell_type": "code",
      "execution_count": null,
      "metadata": {
        "id": "oDQxSHayyLuG"
      },
      "outputs": [],
      "source": [
        "# implementation of GAT for Cora, Citeseer dataset\n",
        "import torch\n",
        "from torch import nn\n",
        "import torch.nn.functional as F\n",
        "\n",
        "class GraphAttentionLayer(nn.Module):\n",
        "    \"\"\"\n",
        "    Graph Attention Layer (GAT) as described in the paper `\"Graph Attention Networks\" <https://arxiv.org/pdf/1710.10903.pdf>`.\n",
        "\n",
        "        This operation can be mathematically described as:\n",
        "\n",
        "            e_ij = a(W h_i, W h_j)\n",
        "            α_ij = softmax_j(e_ij) = exp(e_ij) / Σ_k(exp(e_ik))\n",
        "            h_i' = σ(Σ_j(α_ij W h_j))\n",
        "\n",
        "            where h_i and h_j are the feature vectors of nodes i and j respectively, W is a learnable weight matrix,\n",
        "            a is an attention mechanism that computes the attention coefficients e_ij, and σ is an activation function.\n",
        "\n",
        "    \"\"\"\n",
        "    def __init__(self, in_features: int, out_features: int, n_heads: int, concat: bool = False, dropout: float = 0.4, leaky_relu_slope: float = 0.2):\n",
        "        super(GraphAttentionLayer, self).__init__()\n",
        "\n",
        "        self.n_heads = n_heads # Number of attention heads\n",
        "        self.concat = concat # wether to concatenate the final attention heads\n",
        "        self.dropout = dropout # Dropout rate\n",
        "\n",
        "        if concat: # concatenating the attention heads\n",
        "            self.out_features = out_features # Number of output features per node\n",
        "            assert out_features % n_heads == 0 # Ensure that out_features is a multiple of n_heads\n",
        "            self.n_hidden = out_features // n_heads\n",
        "        else: # averaging output over the attention heads (Used in the main paper)\n",
        "            self.n_hidden = out_features\n",
        "\n",
        "        #  A shared linear transformation, parametrized by a weight matrix W is applied to every node\n",
        "        #  Initialize the weight matrix W\n",
        "        self.W = nn.Parameter(torch.empty(size=(in_features, self.n_hidden * n_heads)))\n",
        "\n",
        "        # Initialize the attention weights a\n",
        "        self.a = nn.Parameter(torch.empty(size=(n_heads, 2 * self.n_hidden, 1)))\n",
        "\n",
        "        self.leakyrelu = nn.LeakyReLU(leaky_relu_slope) # LeakyReLU activation function\n",
        "        self.softmax = nn.Softmax(dim=1) # softmax activation function to the attention coefficients\n",
        "\n",
        "        self.reset_parameters() # Reset the parameters\n",
        "\n",
        "\n",
        "    def reset_parameters(self):\n",
        "        \"\"\"\n",
        "        Reinitialize learnable parameters.\n",
        "        \"\"\"\n",
        "        nn.init.xavier_normal_(self.W)\n",
        "        nn.init.xavier_normal_(self.a)\n",
        "\n",
        "\n",
        "    def forward(self,  h: torch.Tensor, adj_mat: torch.Tensor):\n",
        "        \"\"\"\n",
        "        Performs a graph attention layer operation.\n",
        "\n",
        "        Args:\n",
        "            h (torch.Tensor): Input tensor representing node features.\n",
        "            adj_mat (torch.Tensor): Adjacency matrix representing graph structure.\n",
        "\n",
        "        Returns:\n",
        "            torch.Tensor: Output tensor after the graph convolution operation.\n",
        "        \"\"\"\n",
        "        n_nodes = h.shape[0]\n",
        "\n",
        "        # Apply linear transformation to node feature -> W h\n",
        "        # output shape (n_nodes, n_hidden * n_heads)\n",
        "        h_transformed = torch.mm(h, self.W)\n",
        "        h_transformed = F.dropout(h_transformed, self.dropout, training=self.training)\n",
        "\n",
        "        # splitting the heads by reshaping the tensor and putting heads dim first\n",
        "        # output shape (n_heads, n_nodes, n_hidden)\n",
        "        h_transformed = h_transformed.view(n_nodes, self.n_heads, self.n_hidden).permute(1, 0, 2)\n",
        "\n",
        "        # getting the attention scores\n",
        "        # output shape (n_heads, n_nodes, n_nodes)\n",
        "        # e = self._get_attention_scores(h_transformed) ORGINIAL\n",
        "        source_scores = torch.matmul(h_transformed, self.a[:, :self.n_hidden, :])\n",
        "        target_scores = torch.matmul(h_transformed, self.a[:, self.n_hidden:, :])\n",
        "\n",
        "        # broadcast add\n",
        "        # (n_heads, n_nodes, 1) + (n_heads, 1, n_nodes) = (n_heads, n_nodes, n_nodes)\n",
        "        e = source_scores + target_scores.mT\n",
        "        e = self.leakyrelu(e)\n",
        "\n",
        "        # Set the attention score for non-existent edges to -9e15 (MASKING NON-EXISTENT EDGES)\n",
        "        connectivity_mask = -9e16 * torch.ones_like(e)\n",
        "        e = torch.where(adj_mat > 0, e, connectivity_mask) # masked attention scores\n",
        "\n",
        "        # attention coefficients are computed as a softmax over the rows\n",
        "        # for each column j in the attention score matrix e\n",
        "        attention = F.softmax(e, dim=-1)\n",
        "        attention = F.dropout(attention, self.dropout, training=self.training)\n",
        "\n",
        "        # final node embeddings are computed as a weighted average of the features of its neighbors\n",
        "        h_prime = torch.matmul(attention, h_transformed)\n",
        "\n",
        "        # concatenating/averaging the attention heads\n",
        "        # output shape (n_nodes, out_features)\n",
        "        if self.concat:\n",
        "            h_prime = h_prime.permute(1, 0, 2).contiguous().view(n_nodes, self.out_features)\n",
        "        else:\n",
        "            h_prime = h_prime.mean(dim=0)\n",
        "\n",
        "        return h_prime\n",
        "\n",
        "class GAT(nn.Module):\n",
        "    \"\"\"\n",
        "    Graph Attention Network (GAT) as described in the paper `\"Graph Attention Networks\" <https://arxiv.org/pdf/1710.10903.pdf>`.\n",
        "    Consists of a 2-layer stack of Graph Attention Layers (GATs). The fist GAT Layer is followed by an ELU activation.\n",
        "    And the second (final) layer is a GAT layer with a single attention head and softmax activation function.\n",
        "    \"\"\"\n",
        "    def __init__(self,\n",
        "        in_features,\n",
        "        n_hidden,\n",
        "        n_heads,\n",
        "        num_classes,\n",
        "        concat=False,\n",
        "        dropout=0.4,\n",
        "        leaky_relu_slope=0.2):\n",
        "        \"\"\" Initializes the GAT model.\n",
        "\n",
        "        Args:\n",
        "            in_features (int): number of input features per node.\n",
        "            n_hidden (int): output size of the first Graph Attention Layer.\n",
        "            n_heads (int): number of attention heads in the first Graph Attention Layer.\n",
        "            num_classes (int): number of classes to predict for each node.\n",
        "            concat (bool, optional): Wether to concatinate attention heads or take an average over them for the\n",
        "                output of the first Graph Attention Layer. Defaults to False.\n",
        "            dropout (float, optional): dropout rate. Defaults to 0.4.\n",
        "            leaky_relu_slope (float, optional): alpha (slope) of the leaky relu activation. Defaults to 0.2.\n",
        "        \"\"\"\n",
        "\n",
        "        super(GAT, self).__init__()\n",
        "\n",
        "        # Define the Graph Attention layers\n",
        "        self.gat1 = GraphAttentionLayer(\n",
        "            in_features=in_features, out_features=n_hidden, n_heads=n_heads,\n",
        "            concat=concat, dropout=dropout, leaky_relu_slope=leaky_relu_slope\n",
        "            )\n",
        "\n",
        "        self.gat2 = GraphAttentionLayer(\n",
        "            in_features=n_hidden, out_features=num_classes, n_heads=1,\n",
        "            concat=False, dropout=dropout, leaky_relu_slope=leaky_relu_slope\n",
        "            )\n",
        "\n",
        "    def forward(self, input_tensor: torch.Tensor , adj_mat: torch.Tensor):\n",
        "        \"\"\"\n",
        "        Performs a forward pass through the network.\n",
        "\n",
        "        Args:\n",
        "            input_tensor (torch.Tensor): Input tensor representing node features.\n",
        "            adj_mat (torch.Tensor): Adjacency matrix representing graph structure.\n",
        "\n",
        "        Returns:\n",
        "            torch.Tensor: Output tensor after the forward pass.\n",
        "        \"\"\"\n",
        "\n",
        "        # Apply the first Graph Attention layer\n",
        "        x = self.gat1(input_tensor, adj_mat)\n",
        "        x = F.elu(x) # Apply ELU activation function to the output of the first layer\n",
        "\n",
        "        # Apply the second Graph Attention layer\n",
        "        x = self.gat2(x, adj_mat)\n",
        "\n",
        "        return F.log_softmax(x, dim=1) # Apply log softmax activation function"
      ]
    },
    {
      "cell_type": "code",
      "source": [
        "import os\n",
        "import time\n",
        "import requests\n",
        "import tarfile\n",
        "import numpy as np\n",
        "import argparse\n",
        "\n",
        "import torch\n",
        "from torch import nn\n",
        "import torch.nn.functional as F\n",
        "from torch.optim import Adam\n",
        "# train function\n",
        "\n",
        "\n",
        "def train_iter(epoch, model, optimizer, criterion, input, target, mask_train, mask_val):\n",
        "    start_t = time.time()\n",
        "    model.train()\n",
        "    optimizer.zero_grad()\n",
        "\n",
        "    # Forward pass\n",
        "    output = model(*input)\n",
        "    loss = criterion(output[mask_train], target[mask_train])  # Compute the loss using the training mask\n",
        "\n",
        "    loss.backward()\n",
        "    optimizer.step()\n",
        "\n",
        "    # Evaluate the model performance on training and validation sets\n",
        "    loss_train, acc_train = evaluate(model, criterion, input, target, mask_train)\n",
        "    loss_val, acc_val = evaluate(model, criterion, input, target, mask_val)\n",
        "\n",
        "    #if epoch % print_every == 0:\n",
        "        # Print the training progress at specified intervals\n",
        "    # print(f'Epoch: {epoch:04d} ({(time.time() - start_t):.4f}s) loss_train: {loss_train:.4f} acc_train: {acc_train:.4f} loss_val: {loss_val:.4f} acc_val: {acc_val:.4f}')\n",
        "    # Print the training progress\n",
        "    print(\" | \".join([f\"Epoch: {(epoch + 1) :04d}\", f\"time: {(time.time() - start_t):.4f}s\", f\"Train loss: {loss_train:.4f}\",\n",
        "                          f\"Train Accuracy: {acc_train:.4f}\",\n",
        "                          f\"Val loss: {loss_val:.4f}\",\n",
        "                          f\"Val Accuracy: {acc_val:.4f}\"]))\n",
        "\n",
        "    return loss_train, acc_train, loss_val, acc_val\n",
        "\n",
        "\n",
        "def training_and_evaluate(model, input, target, mask_train, mask_val, epochs, patience):\n",
        "    optimizer = Adam(model.parameters(), lr=args['lr'], weight_decay=args['l2'])\n",
        "    # model.to(device).reset_parameters()\n",
        "    # model.reset_parameters()\n",
        "    criterion = nn.NLLLoss()\n",
        "\n",
        "    t_total = time.time()\n",
        "    loss_values = []\n",
        "    acc_values = []\n",
        "\n",
        "    best_val_acc = 0.0\n",
        "    best_val_loss = np.inf\n",
        "    curr_step = 0\n",
        "\n",
        "    best_model_state_dict = None\n",
        "    best_optimizer_state_dict = None\n",
        "\n",
        "    best = -1\n",
        "    best_epoch = 0\n",
        "\n",
        "    for epoch in range(epochs):\n",
        "        # Evaluate the model performance on training and validation sets\n",
        "        loss_train, acc_train, loss_val, acc_val = train_iter(epoch + 1, gat_net, optimizer, criterion, (features, adj_mat), labels, idx_train, idx_val, args.val_every)\n",
        "\n",
        "        loss_values.append(loss_val)\n",
        "        acc_values.append(acc_val)\n",
        "\n",
        "\n",
        "        #if print_result:\n",
        "        #    print(f'Epoch: {epoch + 1:04d} ({(time.time() - start_t):.4f}s) loss_train: {loss_train:.4f} acc_train: {acc_train:.4f} loss_val: {loss_val:.4f} acc_val: {acc_val:.4f}')\n",
        "\n",
        "        if acc_val > best_val_acc or loss_val < best_val_loss:\n",
        "            best_val_acc = max(acc_val, best_val_acc)\n",
        "            best_val_loss = min(loss_val, best_val_loss)\n",
        "            best_model_state_dict = model.state_dict()\n",
        "            best_optimizer_state_dict = optimizer.state_dict()\n",
        "            best_epoch = epoch\n",
        "            curr_step = 0\n",
        "            best_so_far = True\n",
        "        else:\n",
        "            curr_step += 1\n",
        "            best_so_far = False\n",
        "\n",
        "        if best_so_far:\n",
        "            torch.save({\n",
        "                    'epoch': epoch,\n",
        "                    'model_state_dict': best_model_state_dict,\n",
        "                    'optimizer_state_dict': best_optimizer_state_dict,\n",
        "                }, 'GAT')\n",
        "\n",
        "        if curr_step == patience:\n",
        "            print('Early stopping...')\n",
        "            print(f'Best Val Loss: {best_val_loss:.4f}, Best Val Acc: {best_val_acc:.4f}')\n",
        "            break\n",
        "\n",
        "    print(\"Optimization Finished!\")\n",
        "    print(\"Total time elapsed: {:.4f}s\".format(time.time() - t_total))\n",
        "    # Restore best model\n",
        "    print('Loading {}th epoch'.format(best_epoch + 1))\n",
        "    state = torch.load('GAT')\n",
        "    model.load_state_dict(state['model_state_dict'])\n",
        "    loss_test, acc_test = evaluate(model, criterion, (features, adj_mat), labels, idx_test)\n",
        "    print(f'Test set results: loss {loss_test:.4f} accuracy {acc_test:.4f}')\n",
        "    return model, loss_values, acc_values, loss_test, acc_test\n",
        "\n",
        "# evaluate function\n",
        "def evaluate(model, criterion, input, target, mask):\n",
        "    # model = model.to(device)\n",
        "    model.eval()\n",
        "    with torch.no_grad():\n",
        "        output = model(*input)\n",
        "        output, target = output[mask], target[mask]\n",
        "\n",
        "        loss = criterion(output, target)\n",
        "        acc = (output.argmax(dim=1) == target).float().sum() / len(target)\n",
        "\n",
        "    return loss.item(), acc.item()"
      ],
      "metadata": {
        "id": "YsRkWXof-hwo"
      },
      "execution_count": null,
      "outputs": []
    },
    {
      "cell_type": "code",
      "execution_count": null,
      "metadata": {
        "id": "_HJsME5g3vJj"
      },
      "outputs": [],
      "source": [
        "import os\n",
        "import time\n",
        "import requests\n",
        "import tarfile\n",
        "import numpy as np\n",
        "import argparse\n",
        "\n",
        "import torch\n",
        "from torch import nn\n",
        "import torch.nn.functional as F\n",
        "from torch.optim import Adam\n",
        "# train function\n",
        "def train_and_evaluate(model, input, target, mask_train, mask_val, epochs, patience, print_result):\n",
        "    optimizer = Adam(model.parameters(), lr=args['lr'], weight_decay=args['l2'])\n",
        "    # model.to(device).reset_parameters()\n",
        "    # model.reset_parameters()\n",
        "    criterion = nn.NLLLoss()\n",
        "\n",
        "    t_total = time.time()\n",
        "    loss_values = []\n",
        "    acc_values = []\n",
        "\n",
        "    best_val_acc = 0.0\n",
        "    best_val_loss = np.inf\n",
        "    curr_step = 0\n",
        "\n",
        "    best_model_state_dict = None\n",
        "    best_optimizer_state_dict = None\n",
        "\n",
        "    best = -1\n",
        "    best_epoch = 0\n",
        "\n",
        "    for epoch in range(epochs):\n",
        "        # Configure the optimizer and loss function\n",
        "\n",
        "        start_t = time.time()\n",
        "        model.train()\n",
        "        optimizer.zero_grad()\n",
        "\n",
        "        # Forward pass\n",
        "        output = model(*input)\n",
        "        loss = criterion(output[mask_train], target[mask_train])  # Compute the loss using the training mask\n",
        "\n",
        "        loss.backward()\n",
        "        optimizer.step()\n",
        "\n",
        "        # Evaluate the model performance on training and validation sets\n",
        "        loss_train, acc_train = evaluate(model, criterion, input, target, mask_train)\n",
        "        loss_val, acc_val = evaluate(model, criterion, input, target, mask_val)\n",
        "\n",
        "        loss_values.append(loss_val)\n",
        "        acc_values.append(acc_val)\n",
        "\n",
        "        # Print the training progress\n",
        "        if print_result:\n",
        "            print(f'Epoch: {epoch + 1:04d} ({(time.time() - start_t):.4f}s) loss_train: {loss_train:.4f} acc_train: {acc_train:.4f} loss_val: {loss_val:.4f} acc_val: {acc_val:.4f}')\n",
        "\n",
        "        if acc_val > best_val_acc or loss_val < best_val_loss:\n",
        "            best_val_acc = max(acc_val, best_val_acc)\n",
        "            best_val_loss = min(loss_val, best_val_loss)\n",
        "            best_model_state_dict = model.state_dict()\n",
        "            best_optimizer_state_dict = optimizer.state_dict()\n",
        "            best_epoch = epoch\n",
        "            curr_step = 0\n",
        "            best_so_far = True\n",
        "        else:\n",
        "            curr_step += 1\n",
        "            best_so_far = False\n",
        "\n",
        "        if best_so_far:\n",
        "            torch.save({\n",
        "                    'epoch': epoch,\n",
        "                    'model_state_dict': best_model_state_dict,\n",
        "                    'optimizer_state_dict': best_optimizer_state_dict,\n",
        "                }, 'GAT')\n",
        "\n",
        "        if curr_step == patience:\n",
        "            print('Early stopping...')\n",
        "            print(f'Best Val Loss: {best_val_loss:.4f}, Best Val Acc: {best_val_acc:.4f}')\n",
        "            break\n",
        "\n",
        "    print(\"Optimization Finished!\")\n",
        "    print(\"Total time elapsed: {:.4f}s\".format(time.time() - t_total))\n",
        "    # Restore best model\n",
        "    print('Loading {}th epoch'.format(best_epoch + 1))\n",
        "    state = torch.load('GAT')\n",
        "    model.load_state_dict(state['model_state_dict'])\n",
        "    loss_test, acc_test = evaluate(model, criterion, (features, adj_mat), labels, idx_test)\n",
        "    print(f'Test set results: loss {loss_test:.4f} accuracy {acc_test:.4f}')\n",
        "    return model, loss_values, acc_values, loss_test, acc_test\n",
        "\n",
        "# evaluate function\n",
        "def evaluate(model, criterion, input, target, mask):\n",
        "    # model = model.to(device)\n",
        "    model.eval()\n",
        "    with torch.no_grad():\n",
        "        output = model(*input)\n",
        "        output, target = output[mask], target[mask]\n",
        "\n",
        "        loss = criterion(output, target)\n",
        "        acc = (output.argmax(dim=1) == target).float().sum() / len(target)\n",
        "\n",
        "    return loss.item(), acc.item()"
      ]
    },
    {
      "cell_type": "code",
      "execution_count": null,
      "metadata": {
        "id": "BesK4K5F8WvZ"
      },
      "outputs": [],
      "source": [
        "# Create the model\n",
        "# The model consists of a 2-layer stack of Graph Attention Layers (GATs).\n",
        "GAT_cora = GAT(\n",
        "    in_features=features.shape[1],          # Number of input features per node\n",
        "    n_hidden=args['hidden_dim'],            # Output size of the first Graph Attention Layer\n",
        "    n_heads=args['num_heads'],               # Number of attention heads in the first Graph Attention Layer\n",
        "    num_classes=labels.max().item() + 1,     # Number of classes to predict for each node\n",
        "    concat=args['concat_heads'],             # Whether to concatenate attention heads\n",
        "    dropout=args['dropout_p'],                # Dropout rate\n",
        "    leaky_relu_slope=0.2                     # Alpha (slope) of the leaky ReLU activation\n",
        ").to(device)"
      ]
    },
    {
      "cell_type": "code",
      "execution_count": null,
      "metadata": {
        "id": "kQk7PeHN4Z6q"
      },
      "outputs": [],
      "source": [
        "# Create the model\n",
        "# The model consists of a 2-layer stack of Graph Attention Layers (GATs).\n",
        "GAT_citeseer = GAT(\n",
        "    in_features=features.shape[1],          # Number of input features per node\n",
        "    n_hidden=args['hidden_dim'],            # Output size of the first Graph Attention Layer\n",
        "    n_heads=args['num_heads'],               # Number of attention heads in the first Graph Attention Layer\n",
        "    num_classes=labels.max().item() + 1,     # Number of classes to predict for each node\n",
        "    concat=args['concat_heads'],             # Whether to concatenate attention heads\n",
        "    dropout=args['dropout_p'],                # Dropout rate\n",
        "    leaky_relu_slope=0.2                     # Alpha (slope) of the leaky ReLU activation\n",
        ").to(device)"
      ]
    },
    {
      "cell_type": "markdown",
      "metadata": {
        "id": "5F3wRiIyx5gu"
      },
      "source": [
        "For Inductive Learning GAT:"
      ]
    },
    {
      "cell_type": "code",
      "execution_count": 6,
      "metadata": {
        "id": "gBdVZoTvsSFV"
      },
      "outputs": [],
      "source": [
        "# implementation of GAT for PPI dataset\n",
        "import torch\n",
        "import torch.nn as nn\n",
        "import torch.nn.functional as F\n",
        "from torch_geometric.utils import softmax, scatter\n",
        "import numpy as np\n",
        "\n",
        "def glorot(value, name=None):\n",
        "    \"\"\"Glorot & Bengio (AISTATS 2010) init.\"\"\"\n",
        "    init_range = np.sqrt(6.0 / (value.size(-2) + value.size(-1)))\n",
        "    initial = value.data.uniform_(-init_range, init_range)\n",
        "    return nn.Parameter(initial, requires_grad=True)\n",
        "\n",
        "class GATLayer(nn.Module):\n",
        "\n",
        "  def __init__(self,\n",
        "               D_in: int,\n",
        "               D_out: int,\n",
        "               num_heads: int = 1,\n",
        "               act=F.elu,\n",
        "               dropout: float = 0.0,\n",
        "               reduce='none',\n",
        "               skip=False):\n",
        "    super().__init__()\n",
        "    self.D_in = D_in\n",
        "    self.D_out = D_out\n",
        "    self.N_h = num_heads\n",
        "    self.act = act\n",
        "\n",
        "    self.W = nn.Parameter(torch.zeros((num_heads, D_out, D_in)))\n",
        "    self.W_skip = nn.Parameter(torch.zeros((num_heads, D_out, D_in)))\n",
        "    self.A_src = nn.Parameter(torch.zeros((num_heads, D_out, 1)))\n",
        "    self.A_tgt = nn.Parameter(torch.zeros((num_heads, D_out, 1)))\n",
        "\n",
        "    self.reduce = reduce\n",
        "    self.dropout = dropout\n",
        "    self.skip = skip\n",
        "\n",
        "    self.reset_parameters()\n",
        "\n",
        "  def reset_parameters(self):\n",
        "    glorot(self.W)\n",
        "    glorot(self.W_skip)\n",
        "    glorot(self.A_src)\n",
        "    glorot(self.A_tgt)\n",
        "\n",
        "\n",
        "  def forward(self, H_in: torch.tensor, edge_index: torch.tensor) -> torch.tensor:\n",
        "    edge_src, edge_tgt = edge_index\n",
        "\n",
        "    N, _ = H_in.shape\n",
        "    W = self.W\n",
        "    W_skip = self.W_skip\n",
        "\n",
        "    A_src = self.A_src\n",
        "    A_tgt = self.A_tgt\n",
        "    D_in = self.D_in\n",
        "    D_out = self.D_out\n",
        "    N_h = self.N_h\n",
        "    act = self.act\n",
        "    dropout = self.dropout\n",
        "    training = self.training\n",
        "    skip = self.skip\n",
        "\n",
        "    W = W.view((N_h, D_out, D_in))\n",
        "    W_skip = W.view((N_h, D_out, D_in))\n",
        "\n",
        "    A_src = A_src.view((N_h, D_out))\n",
        "    A_tgt = A_tgt.view((N_h, D_out))\n",
        "\n",
        "    H_in = F.dropout(H_in, dropout, training)\n",
        "\n",
        "    # H_w = torch.matmul(H_in, W.transpose(1, 2)) # works too!\n",
        "    H_w = torch.matmul(H_in, W.permute(0, 2, 1)) # works too!\n",
        "\n",
        "    H_w = F.dropout(H_w, dropout, training)  # (N_h, |V|, D_out)\n",
        "\n",
        "\n",
        "    H_w_src = H_w[:, edge_src]\n",
        "    H_w_tgt = H_w[:, edge_tgt]\n",
        "\n",
        "\n",
        "    E_pre_src = torch.matmul(H_w_src, A_src.unsqueeze(-1)).squeeze()\n",
        "    E_pre_tgt = torch.matmul(H_w_tgt, A_tgt.unsqueeze(-1)).squeeze()\n",
        "\n",
        "    E_pre = E_pre_src + E_pre_tgt  # (N_h, |E|, 1), a^T [Whi || Whj]\n",
        "    E = F.leaky_relu(E_pre, negative_slope=0.2)  # (N_h, |E|, 1), LeakyRelu(a^T [Whi || Whj])\n",
        "\n",
        "    alpha_scores = softmax(E, edge_tgt, dim=1).view((N_h, *edge_src.shape, 1))  # (N_h, |E|, 1)\n",
        "\n",
        "\n",
        "    alpha_scores = F.dropout(alpha_scores, dropout, training)\n",
        "    Alpha = alpha_scores.repeat(1, 1, D_out)  # (N_h, |E|, D_out)\n",
        "\n",
        "    self.attention_scores = alpha_scores\n",
        "\n",
        "    H_out_pre = scatter(Alpha * H_w_src, edge_tgt, dim=1, reduce='sum')  # (N_h, |V|, D_out)\n",
        "\n",
        "    if skip:\n",
        "      H_skip_to_add = torch.zeros_like(H_out_pre)\n",
        "      if D_in != D_out:\n",
        "        H_skip_to_add = torch.matmul(H_in, W_skip.transpose(1, 2))\n",
        "      else:\n",
        "        H_skip_to_add = H_in.repeat(N_h, 1, 1)\n",
        "\n",
        "      H_out_pre += H_skip_to_add\n",
        "\n",
        "    if self.reduce == 'none':\n",
        "      H_out = act(H_out_pre)  # (N_h, |V|, D_out)\n",
        "      assert (H_out.shape == (N_h, N, D_out))\n",
        "      return H_out\n",
        "    elif self.reduce == 'concat':\n",
        "      H_out = act(H_out_pre)\n",
        "      H_out_per_head = torch.tensor_split(H_out, N_h)\n",
        "      H_out_cat = torch.cat(H_out_per_head, dim=-1).squeeze()\n",
        "      self.embeddings = H_out_cat\n",
        "      assert (H_out_cat.shape == (N, N_h * D_out))\n",
        "      return H_out_cat\n",
        "    else:\n",
        "      H_out_pre_avg = torch.mean(H_out_pre, dim=0)\n",
        "      H_out = act(H_out_pre_avg)\n",
        "      self.embeddings = H_out\n",
        "      assert (H_out.shape == (N, D_out))\n",
        "      return H_out\n",
        "\n",
        "\n",
        "\n",
        "class GAT_PPI(nn.Module):\n",
        "\n",
        "  def __init__(self, dim_in: int, num_classes: int):\n",
        "    super().__init__()\n",
        "    self.model_name = 'GAT_PPI'\n",
        "    self.layers = nn.ModuleList([\n",
        "        GATLayer(dim_in, 256, 4, act=F.elu, reduce='concat'),\n",
        "        GATLayer(1024, 256, 4, act=F.elu, reduce='concat', skip=True),\n",
        "        GATLayer(1024, num_classes, 6, act=nn.Identity(), reduce='avg', skip=True)\n",
        "    ])\n",
        "    self.reset_parameters()\n",
        "\n",
        "  def forward(self, X: torch.tensor, edge_index: torch.tensor) -> torch.tensor:\n",
        "    out = X\n",
        "    for layer in self.layers:\n",
        "      out = layer(out, edge_index)\n",
        "    return out\n",
        "\n",
        "  def reset_parameters(self):\n",
        "    for layer in self.layers:\n",
        "      layer.reset_parameters()\n"
      ]
    },
    {
      "cell_type": "code",
      "execution_count": 7,
      "metadata": {
        "id": "Y0HevKBax5gv"
      },
      "outputs": [],
      "source": [
        "# evaluate function\n",
        "# set device\n",
        "# device = torch.device('cuda' if torch.cuda.is_available() else 'cpu')\n",
        "\n",
        "import torch\n",
        "import torch.nn as nn\n",
        "from sklearn.metrics import f1_score\n",
        "import numpy as np\n",
        "\n",
        "def evaluate(model, batch_loader):\n",
        "    # model = model.to(device)\n",
        "\n",
        "    loss_fcn = nn.BCEWithLogitsLoss()\n",
        "\n",
        "    total_score = 0\n",
        "    total_loss = 0\n",
        "\n",
        "    model.eval()\n",
        "    with torch.no_grad():\n",
        "        for (batch_id, batched_graph) in enumerate(batch_loader):\n",
        "            node_features = batched_graph.x.to(device)\n",
        "            edge_index = batched_graph.edge_index.to(device)\n",
        "            labels = batched_graph.y.to(device)\n",
        "\n",
        "            logits = model(node_features, edge_index)\n",
        "            pred = (logits >= 0).float().cpu().numpy() # torch.where(logits >= 0, 1, 0)\n",
        "            loss = loss_fcn(logits, labels)\n",
        "            score = torch.tensor(f1_score(labels.cpu().numpy(), pred, average='micro'), dtype=torch.float32, device=device) #\n",
        "\n",
        "        total_loss += loss.item()\n",
        "        total_score += score.item()\n",
        "\n",
        "    avg_loss = total_loss / (batch_id + 1)\n",
        "    avg_score = total_score / (batch_id + 1)\n",
        "\n",
        "    return avg_loss, avg_score"
      ]
    },
    {
      "cell_type": "code",
      "execution_count": 8,
      "metadata": {
        "id": "3GGWBh5__7rG"
      },
      "outputs": [],
      "source": [
        "import torch\n",
        "import torch.nn as nn\n",
        "import torch.optim as optim\n",
        "import time\n",
        "\n",
        "# set device\n",
        "device = torch.device('cuda' if torch.cuda.is_available() else 'cpu')\n",
        "\n",
        "def train_one_iter(train_batch, model, loss_func, optimizer):\n",
        "    model.train()\n",
        "\n",
        "    node_features, edge_index, labels = (train_batch.x.to(device), train_batch.edge_index.to(device),\n",
        "                                         train_batch.y.to(device))\n",
        "\n",
        "    # perform training step\n",
        "    optimizer.zero_grad()\n",
        "    logits = model(node_features, edge_index)\n",
        "    pred = torch.where(logits >= 0, 1, 0)\n",
        "    loss = loss_func(logits, labels)\n",
        "    loss.backward()\n",
        "    optimizer.step()\n",
        "\n",
        "    pred_np = pred.cpu().numpy()\n",
        "    labels_np = labels.cpu().numpy()\n",
        "    f1 = f1_score(labels_np, pred_np, average='micro')\n",
        "\n",
        "    return (loss.item(), torch.tensor(f1, dtype=torch.float32, device=device).item())\n",
        "\n",
        "def training_loop(model, params: dict, verbose: bool = True) -> torch.nn.Module:\n",
        "    #print('training model {}'.format(params['model_name']))\n",
        "    #print(model)\n",
        "    print('Training model...')\n",
        "    model = model.to(device)\n",
        "    optimizer = optim.Adam(model.parameters(), lr=params['lr'], weight_decay=params['weight_decay'])\n",
        "    model.reset_parameters()\n",
        "    batch_criterion = nn.BCEWithLogitsLoss()\n",
        "\n",
        "    # Train model\n",
        "    t_total = time.time()\n",
        "    best_f1 = -1\n",
        "    best_loss = pow(10, 9)\n",
        "    patience = params['patience']\n",
        "    underperformed = 0\n",
        "\n",
        "    train_losses, train_scores = [], []\n",
        "    val_losses, val_scores = [], []\n",
        "\n",
        "    best_model_state_dict = None\n",
        "    best_optimizer_state_dict = None\n",
        "    best_epoch = 0\n",
        "\n",
        "    for epoch in range(params['epochs']):\n",
        "        start_t = time.time()\n",
        "        model.train()\n",
        "        total_train_loss = 0\n",
        "        total_train_score = 0\n",
        "\n",
        "        for (batch_ix, batch) in enumerate(train_loader):\n",
        "\n",
        "            batch_loss, batch_score = train_one_iter(batch, model, batch_criterion, optimizer )\n",
        "            total_train_loss += batch_loss\n",
        "            total_train_score += batch_score\n",
        "\n",
        "        avg_train_loss = total_train_loss / (batch_ix + 1)\n",
        "        avg_train_score = total_train_score / (batch_ix + 1)\n",
        "\n",
        "        val_loss, val_score = evaluate(model, val_loader)\n",
        "\n",
        "        if verbose:\n",
        "            # print('epoch {:05d}'.format(epoch + 1))\n",
        "            # print('\\t{}_loss: {:.4f} | {}_micro_f1: {:.4f}'.format('train', avg_train_loss,'train', avg_train_score))\n",
        "            # print('\\t{}_loss: {:.4f} | {}_micro_f1: {:.4f}'.format('val', val_loss,'val', val_score))\n",
        "            print(\" | \".join([f\"Epoch: {(epoch + 1) :04d}\", f\"time: {(time.time() - start_t):.4f}s\", f\"Train loss: {avg_train_loss:.4f}\",\n",
        "                          f\"Train micro F1: {avg_train_score:.4f}\",\n",
        "                          f\"Val loss: {val_loss:.4f}\",\n",
        "                          f\"Val micro F1: {val_score:.4f}\"]))\n",
        "\n",
        "        train_losses.append(avg_train_loss)\n",
        "        train_scores.append(avg_train_loss)\n",
        "        val_losses.append(val_loss)\n",
        "        val_scores.append(val_score)\n",
        "\n",
        "        if (val_score > best_f1 or val_loss < best_loss):\n",
        "            best_f1 = max(best_f1, val_score)\n",
        "            best_loss = min(best_loss, val_loss)\n",
        "            underperformed = 0\n",
        "            was_best_so_far = True\n",
        "            best_model_state_dict = model.state_dict()\n",
        "            best_optimizer_state_dict = optimizer.state_dict()\n",
        "            best_epoch = epoch\n",
        "        else:\n",
        "            underperformed += 1\n",
        "            was_best_so_far = False\n",
        "\n",
        "        if underperformed >= patience:\n",
        "            print('Early stopping condition met. Stopped at Epoch {:04d}: '.format(epoch + 1))\n",
        "            break\n",
        "\n",
        "        if was_best_so_far:\n",
        "            torch.save({\n",
        "                'epoch': epoch,\n",
        "                'model_state_dict': best_model_state_dict,\n",
        "                'optimizer_state_dict': best_optimizer_state_dict,\n",
        "            }, params['model_name'])\n",
        "\n",
        "\n",
        "    print()\n",
        "    #print(\"Total time elapsed: {:.4f}s\".format(time.time() - t_total))\n",
        "    print(f\"Total time elapsed: {(time.time() - t_total):.4f}s  |  Average time elapsed: {((time.time() - t_total)/params['epochs']):.4f}s\")\n",
        "\n",
        "    state = torch.load(params['model_name'])\n",
        "    model.load_state_dict(state['model_state_dict'])\n",
        "    model.eval()\n",
        "\n",
        "    best_epoch, best_model = state['epoch'], model\n",
        "    best_val_loss, best_val_score = evaluate(model, val_loader)\n",
        "    best_test_loss, best_test_score = evaluate(model, test_loader)\n",
        "\n",
        "    print()\n",
        "    print('Best model performance @ Epoch {:04d}: '.format(best_epoch + 1))\n",
        "    print(f\"Test loss: {best_test_loss:.4f}  |  Test micro F1: {best_test_score:.4f}\")\n",
        "    #print('\\t{}_loss: {:.4f} | {}_micro_f1: {:.4f}'.format('val', best_val_loss, 'val', best_val_score))\n",
        "    #print('\\t{}_loss: {:.4f} | {}_micro_f1: {:.4f}'.format('test', best_test_loss,'test', best_test_score))\n",
        "\n",
        "    return best_model, train_losses, train_scores, val_losses, val_scores"
      ]
    },
    {
      "cell_type": "code",
      "execution_count": 9,
      "metadata": {
        "colab": {
          "base_uri": "https://localhost:8080/"
        },
        "id": "eMAxHvGfx5gw",
        "outputId": "513b1622-1329-4195-c789-5d4cce381267"
      },
      "outputs": [
        {
          "output_type": "execute_result",
          "data": {
            "text/plain": [
              "<torch._C.Generator at 0x7e3a840b8550>"
            ]
          },
          "metadata": {},
          "execution_count": 9
        }
      ],
      "source": [
        "import torch\n",
        "import random\n",
        "\n",
        "random.seed(42)\n",
        "torch.manual_seed(42)"
      ]
    },
    {
      "cell_type": "code",
      "execution_count": 10,
      "metadata": {
        "id": "oIIDw3ljx5gw"
      },
      "outputs": [],
      "source": [
        "model = GAT_PPI(num_features, num_labels)"
      ]
    },
    {
      "cell_type": "markdown",
      "metadata": {
        "id": "1tkKx8aZx5gx"
      },
      "source": [
        "##   Training\n",
        "\n",
        "###  Computational requirements\n",
        "For transductive learning:\n",
        "* type of hardware: CPU / GPU\n",
        "* GPU hrs used: ~3 GPU hrs\n",
        "* avg runtime for each epoch : ~0.07 sec for GPU ~7 sec for CPU (still need to test/verify)\n",
        "* number of training epochs : 200 for citeseer dataset, 300 for cora dataset\n",
        "* total number of trial: 10\n",
        "\n",
        "For inductive learning:\n",
        "* type of hardware: CPU / GPU\n",
        "* GPU hrs used: ~12 GPU hrs\n",
        "* avg runtime for each epoch : ~3.7 sec for GPU, ~7 min for CPU (still need to test/verify)\n",
        "* number of training epochs : 200 for PPI dataset\n",
        "* total number of trial: 10\n",
        "\n",
        "\n",
        "\n",
        "###  Hyperparams\n",
        "For transductive learning:\n",
        " * learning rate = 0.005\n",
        " * No batch size used\n",
        " * dropout p = 0.6\n",
        " * L2 regularization(weight decay) lambda = 0.0005\n",
        "\n",
        "     \n",
        "For inductive learning:\n",
        " * learning rate = 0.005\n",
        " * batch size = 2\n",
        " * dropout p = 0.6\n",
        " * L2 regularization(weight decay) = 0 (No L2 used)"
      ]
    },
    {
      "cell_type": "markdown",
      "metadata": {
        "id": "5_Cf-FDSx5gx"
      },
      "source": [
        "###  Implementation code"
      ]
    },
    {
      "cell_type": "markdown",
      "metadata": {
        "id": "62VN1mFq1Ia7"
      },
      "source": [
        "For transductive learning GAT:"
      ]
    },
    {
      "cell_type": "code",
      "execution_count": null,
      "metadata": {
        "colab": {
          "base_uri": "https://localhost:8080/"
        },
        "id": "DwhETYa7w1Of",
        "outputId": "f215070d-a5e2-40d8-a9cf-70f3c589adc8"
      },
      "outputs": [
        {
          "name": "stdout",
          "output_type": "stream",
          "text": [
            "Using cpu device\n"
          ]
        }
      ],
      "source": [
        "# set the epochs to 1 to test train_and_evaluate function\n",
        "import torch\n",
        "import os\n",
        "import requests\n",
        "import tarfile\n",
        "import glob\n",
        "# Set the parameters directly\n",
        "args = {\n",
        "    'seed': 42,  # 9\n",
        "    'no_cuda': False,\n",
        "    'no_mps': False,\n",
        "    'hidden_dim': 64,\n",
        "    'num_heads': 8,\n",
        "    'concat_heads': False,\n",
        "    'dropout_p': 0.6,\n",
        "    'lr': 0.005,\n",
        "    'l2': 5e-4,\n",
        "    'epochs': 1,   # 300\n",
        "    'patience': 100,\n",
        "}\n",
        "\n",
        "torch.manual_seed(args['seed'])\n",
        "use_cuda = not args['no_cuda'] and torch.cuda.is_available()\n",
        "use_mps = not args['no_mps'] and torch.backends.mps.is_available()\n",
        "\n",
        "# Set the device to run on\n",
        "if use_cuda:\n",
        "    device = torch.device('cuda')\n",
        "elif use_mps:\n",
        "    device = torch.device('mps')\n",
        "else:\n",
        "    device = torch.device('cpu')\n",
        "print(f'Using {device} device')"
      ]
    },
    {
      "cell_type": "code",
      "execution_count": null,
      "metadata": {
        "colab": {
          "base_uri": "https://localhost:8080/"
        },
        "id": "7al34qsTw95J",
        "outputId": "9a622ce0-83cd-498a-a899-1b95a0b99255"
      },
      "outputs": [
        {
          "name": "stdout",
          "output_type": "stream",
          "text": [
            "Epoch: 0001 (8.8123s) loss_train: 1.9420 acc_train: 0.4667 loss_val: 1.9440 acc_val: 0.3160\n",
            "Optimization Finished!\n",
            "Total time elapsed: 14.3566s\n",
            "Loading 1th epoch\n",
            "Test set results: loss 1.9437 accuracy 0.3530\n"
          ]
        }
      ],
      "source": [
        "# set the epochs to 1 to test train_and_evaluate function\n",
        "best_model, loss_values, acc_values, loss_test, acc_test = train_and_evaluate(GAT_cora, (features, adj_mat), labels, idx_train, idx_val, args['epochs'], args['patience'], args['print'])"
      ]
    },
    {
      "cell_type": "code",
      "execution_count": null,
      "metadata": {
        "colab": {
          "base_uri": "https://localhost:8080/"
        },
        "id": "2asZcR5C_Peh",
        "outputId": "afe4eec4-2c25-4b7b-9810-3f49fe52ad04"
      },
      "outputs": [
        {
          "name": "stdout",
          "output_type": "stream",
          "text": [
            "Using cuda device\n"
          ]
        }
      ],
      "source": [
        "# demonstrate train_and_evaluate function on cora\n",
        "import torch\n",
        "import os\n",
        "import requests\n",
        "import tarfile\n",
        "import glob\n",
        "# Set the parameters directly\n",
        "args = {\n",
        "    'seed': 42,  # 9\n",
        "    'no_cuda': False,\n",
        "    'no_mps': False,\n",
        "    'hidden_dim': 64,\n",
        "    'num_heads': 8,\n",
        "    'concat_heads': False,\n",
        "    'dropout_p': 0.6,\n",
        "    'lr': 0.005,\n",
        "    'l2': 5e-4,\n",
        "    'epochs': 300,\n",
        "    'patience': 100,\n",
        "    'print': True,\n",
        "}\n",
        "\n",
        "torch.manual_seed(args['seed'])\n",
        "use_cuda = not args['no_cuda'] and torch.cuda.is_available()\n",
        "use_mps = not args['no_mps'] and torch.backends.mps.is_available()\n",
        "\n",
        "# Set the device to run on\n",
        "if use_cuda:\n",
        "    device = torch.device('cuda')\n",
        "elif use_mps:\n",
        "    device = torch.device('mps')\n",
        "else:\n",
        "    device = torch.device('cpu')\n",
        "print(f'Using {device} device')\n"
      ]
    },
    {
      "cell_type": "code",
      "execution_count": null,
      "metadata": {
        "colab": {
          "base_uri": "https://localhost:8080/"
        },
        "id": "qg12BtSX8qHh",
        "outputId": "10f0e417-1cac-488e-d544-6b7b564123d4"
      },
      "outputs": [
        {
          "name": "stdout",
          "output_type": "stream",
          "text": [
            "Epoch: 0001 (0.0908s) loss_train: 1.4414 acc_train: 0.8962 loss_val: 1.5312 acc_val: 0.7650\n",
            "Epoch: 0002 (0.0908s) loss_train: 1.4451 acc_train: 0.8935 loss_val: 1.5328 acc_val: 0.7625\n",
            "Epoch: 0003 (0.0864s) loss_train: 1.4458 acc_train: 0.8890 loss_val: 1.5319 acc_val: 0.7625\n",
            "Epoch: 0004 (0.0761s) loss_train: 1.4454 acc_train: 0.8863 loss_val: 1.5302 acc_val: 0.7575\n",
            "Epoch: 0005 (0.0766s) loss_train: 1.4459 acc_train: 0.8863 loss_val: 1.5299 acc_val: 0.7550\n",
            "Epoch: 0006 (0.0746s) loss_train: 1.4455 acc_train: 0.8863 loss_val: 1.5292 acc_val: 0.7550\n",
            "Epoch: 0007 (0.0746s) loss_train: 1.4452 acc_train: 0.8818 loss_val: 1.5284 acc_val: 0.7525\n",
            "Epoch: 0008 (0.0745s) loss_train: 1.4454 acc_train: 0.8836 loss_val: 1.5281 acc_val: 0.7525\n",
            "Epoch: 0009 (0.0748s) loss_train: 1.4450 acc_train: 0.8836 loss_val: 1.5275 acc_val: 0.7475\n",
            "Epoch: 0010 (0.0747s) loss_train: 1.4452 acc_train: 0.8890 loss_val: 1.5278 acc_val: 0.7575\n",
            "Epoch: 0011 (0.0755s) loss_train: 1.4446 acc_train: 0.8899 loss_val: 1.5275 acc_val: 0.7650\n",
            "Epoch: 0012 (0.0747s) loss_train: 1.4439 acc_train: 0.8908 loss_val: 1.5271 acc_val: 0.7625\n",
            "Epoch: 0013 (0.0770s) loss_train: 1.4430 acc_train: 0.8926 loss_val: 1.5266 acc_val: 0.7575\n",
            "Epoch: 0014 (0.0757s) loss_train: 1.4420 acc_train: 0.8899 loss_val: 1.5262 acc_val: 0.7575\n",
            "Epoch: 0015 (0.0745s) loss_train: 1.4410 acc_train: 0.8899 loss_val: 1.5257 acc_val: 0.7575\n",
            "Epoch: 0016 (0.0750s) loss_train: 1.4397 acc_train: 0.8899 loss_val: 1.5247 acc_val: 0.7600\n",
            "Epoch: 0017 (0.0746s) loss_train: 1.4388 acc_train: 0.8881 loss_val: 1.5242 acc_val: 0.7575\n",
            "Epoch: 0018 (0.0747s) loss_train: 1.4383 acc_train: 0.8908 loss_val: 1.5239 acc_val: 0.7575\n",
            "Epoch: 0019 (0.0746s) loss_train: 1.4380 acc_train: 0.8926 loss_val: 1.5239 acc_val: 0.7600\n",
            "Epoch: 0020 (0.0747s) loss_train: 1.4377 acc_train: 0.8935 loss_val: 1.5239 acc_val: 0.7625\n",
            "Epoch: 0021 (0.0753s) loss_train: 1.4371 acc_train: 0.8944 loss_val: 1.5236 acc_val: 0.7625\n",
            "Epoch: 0022 (0.0746s) loss_train: 1.4368 acc_train: 0.8953 loss_val: 1.5234 acc_val: 0.7625\n",
            "Epoch: 0023 (0.0748s) loss_train: 1.4362 acc_train: 0.8953 loss_val: 1.5229 acc_val: 0.7625\n",
            "Epoch: 0024 (0.0748s) loss_train: 1.4359 acc_train: 0.8980 loss_val: 1.5229 acc_val: 0.7625\n",
            "Epoch: 0025 (0.0748s) loss_train: 1.4357 acc_train: 0.8971 loss_val: 1.5229 acc_val: 0.7675\n",
            "Epoch: 0026 (0.0751s) loss_train: 1.4353 acc_train: 0.8989 loss_val: 1.5227 acc_val: 0.7700\n",
            "Epoch: 0027 (0.0748s) loss_train: 1.4352 acc_train: 0.9025 loss_val: 1.5227 acc_val: 0.7700\n",
            "Epoch: 0028 (0.0749s) loss_train: 1.4348 acc_train: 0.9043 loss_val: 1.5222 acc_val: 0.7775\n",
            "Epoch: 0029 (0.0755s) loss_train: 1.4345 acc_train: 0.9070 loss_val: 1.5219 acc_val: 0.7725\n",
            "Epoch: 0030 (0.0749s) loss_train: 1.4343 acc_train: 0.9079 loss_val: 1.5217 acc_val: 0.7725\n",
            "Epoch: 0031 (0.0754s) loss_train: 1.4341 acc_train: 0.9116 loss_val: 1.5217 acc_val: 0.7750\n",
            "Epoch: 0032 (0.0757s) loss_train: 1.4337 acc_train: 0.9097 loss_val: 1.5214 acc_val: 0.7750\n",
            "Epoch: 0033 (0.0747s) loss_train: 1.4328 acc_train: 0.9116 loss_val: 1.5206 acc_val: 0.7725\n",
            "Epoch: 0034 (0.0748s) loss_train: 1.4316 acc_train: 0.9116 loss_val: 1.5196 acc_val: 0.7750\n",
            "Epoch: 0035 (0.0747s) loss_train: 1.4304 acc_train: 0.9088 loss_val: 1.5186 acc_val: 0.7775\n",
            "Epoch: 0036 (0.0747s) loss_train: 1.4292 acc_train: 0.9097 loss_val: 1.5175 acc_val: 0.7775\n",
            "Epoch: 0037 (0.0749s) loss_train: 1.4279 acc_train: 0.9088 loss_val: 1.5165 acc_val: 0.7800\n",
            "Epoch: 0038 (0.0747s) loss_train: 1.4264 acc_train: 0.9052 loss_val: 1.5154 acc_val: 0.7775\n",
            "Epoch: 0039 (0.0748s) loss_train: 1.4248 acc_train: 0.9043 loss_val: 1.5141 acc_val: 0.7725\n",
            "Epoch: 0040 (0.0747s) loss_train: 1.4228 acc_train: 0.9043 loss_val: 1.5126 acc_val: 0.7700\n",
            "Epoch: 0041 (0.0747s) loss_train: 1.4212 acc_train: 0.9052 loss_val: 1.5113 acc_val: 0.7700\n",
            "Epoch: 0042 (0.0747s) loss_train: 1.4196 acc_train: 0.9043 loss_val: 1.5100 acc_val: 0.7700\n",
            "Epoch: 0043 (0.0748s) loss_train: 1.4184 acc_train: 0.9043 loss_val: 1.5089 acc_val: 0.7700\n",
            "Epoch: 0044 (0.0747s) loss_train: 1.4179 acc_train: 0.9043 loss_val: 1.5083 acc_val: 0.7725\n",
            "Epoch: 0045 (0.0749s) loss_train: 1.4175 acc_train: 0.9061 loss_val: 1.5079 acc_val: 0.7725\n",
            "Epoch: 0046 (0.0748s) loss_train: 1.4177 acc_train: 0.9079 loss_val: 1.5079 acc_val: 0.7700\n",
            "Epoch: 0047 (0.0759s) loss_train: 1.4180 acc_train: 0.9097 loss_val: 1.5083 acc_val: 0.7725\n",
            "Epoch: 0048 (0.0752s) loss_train: 1.4183 acc_train: 0.9134 loss_val: 1.5087 acc_val: 0.7750\n",
            "Epoch: 0049 (0.0751s) loss_train: 1.4189 acc_train: 0.9125 loss_val: 1.5095 acc_val: 0.7750\n",
            "Epoch: 0050 (0.0752s) loss_train: 1.4198 acc_train: 0.9143 loss_val: 1.5105 acc_val: 0.7775\n",
            "Epoch: 0051 (0.0754s) loss_train: 1.4209 acc_train: 0.9152 loss_val: 1.5119 acc_val: 0.7750\n",
            "Epoch: 0052 (0.0759s) loss_train: 1.4213 acc_train: 0.9170 loss_val: 1.5125 acc_val: 0.7775\n",
            "Epoch: 0053 (0.0749s) loss_train: 1.4217 acc_train: 0.9179 loss_val: 1.5130 acc_val: 0.7800\n",
            "Epoch: 0054 (0.0754s) loss_train: 1.4218 acc_train: 0.9170 loss_val: 1.5134 acc_val: 0.7775\n",
            "Epoch: 0055 (0.0778s) loss_train: 1.4217 acc_train: 0.9152 loss_val: 1.5135 acc_val: 0.7750\n",
            "Epoch: 0056 (0.0754s) loss_train: 1.4217 acc_train: 0.9161 loss_val: 1.5136 acc_val: 0.7750\n",
            "Epoch: 0057 (0.0756s) loss_train: 1.4214 acc_train: 0.9152 loss_val: 1.5137 acc_val: 0.7725\n",
            "Epoch: 0058 (0.0760s) loss_train: 1.4209 acc_train: 0.9170 loss_val: 1.5135 acc_val: 0.7725\n",
            "Epoch: 0059 (0.0753s) loss_train: 1.4199 acc_train: 0.9161 loss_val: 1.5128 acc_val: 0.7725\n",
            "Epoch: 0060 (0.0756s) loss_train: 1.4189 acc_train: 0.9161 loss_val: 1.5121 acc_val: 0.7750\n",
            "Epoch: 0061 (0.0756s) loss_train: 1.4182 acc_train: 0.9170 loss_val: 1.5116 acc_val: 0.7725\n",
            "Epoch: 0062 (0.0754s) loss_train: 1.4176 acc_train: 0.9179 loss_val: 1.5112 acc_val: 0.7725\n",
            "Epoch: 0063 (0.0752s) loss_train: 1.4171 acc_train: 0.9206 loss_val: 1.5108 acc_val: 0.7700\n",
            "Epoch: 0064 (0.0755s) loss_train: 1.4168 acc_train: 0.9224 loss_val: 1.5105 acc_val: 0.7725\n",
            "Epoch: 0065 (0.0755s) loss_train: 1.4161 acc_train: 0.9233 loss_val: 1.5098 acc_val: 0.7725\n",
            "Epoch: 0066 (0.0753s) loss_train: 1.4162 acc_train: 0.9215 loss_val: 1.5099 acc_val: 0.7750\n",
            "Epoch: 0067 (0.0759s) loss_train: 1.4160 acc_train: 0.9188 loss_val: 1.5097 acc_val: 0.7750\n",
            "Epoch: 0068 (0.0755s) loss_train: 1.4159 acc_train: 0.9170 loss_val: 1.5095 acc_val: 0.7775\n",
            "Epoch: 0069 (0.0769s) loss_train: 1.4155 acc_train: 0.9188 loss_val: 1.5090 acc_val: 0.7800\n",
            "Epoch: 0070 (0.0752s) loss_train: 1.4153 acc_train: 0.9197 loss_val: 1.5087 acc_val: 0.7800\n",
            "Epoch: 0071 (0.0761s) loss_train: 1.4155 acc_train: 0.9188 loss_val: 1.5085 acc_val: 0.7800\n",
            "Epoch: 0072 (0.0753s) loss_train: 1.4156 acc_train: 0.9179 loss_val: 1.5084 acc_val: 0.7800\n",
            "Epoch: 0073 (0.0760s) loss_train: 1.4160 acc_train: 0.9161 loss_val: 1.5085 acc_val: 0.7825\n",
            "Epoch: 0074 (0.0747s) loss_train: 1.4161 acc_train: 0.9179 loss_val: 1.5085 acc_val: 0.7825\n",
            "Epoch: 0075 (0.0759s) loss_train: 1.4163 acc_train: 0.9179 loss_val: 1.5087 acc_val: 0.7825\n",
            "Epoch: 0076 (0.0755s) loss_train: 1.4167 acc_train: 0.9188 loss_val: 1.5089 acc_val: 0.7825\n",
            "Epoch: 0077 (0.0758s) loss_train: 1.4167 acc_train: 0.9179 loss_val: 1.5089 acc_val: 0.7800\n",
            "Epoch: 0078 (0.0756s) loss_train: 1.4167 acc_train: 0.9188 loss_val: 1.5087 acc_val: 0.7850\n",
            "Epoch: 0079 (0.0747s) loss_train: 1.4161 acc_train: 0.9215 loss_val: 1.5083 acc_val: 0.7850\n",
            "Epoch: 0080 (0.0759s) loss_train: 1.4159 acc_train: 0.9215 loss_val: 1.5081 acc_val: 0.7825\n",
            "Epoch: 0081 (0.0761s) loss_train: 1.4156 acc_train: 0.9215 loss_val: 1.5076 acc_val: 0.7850\n",
            "Epoch: 0082 (0.0746s) loss_train: 1.4153 acc_train: 0.9197 loss_val: 1.5073 acc_val: 0.7850\n",
            "Epoch: 0083 (0.0746s) loss_train: 1.4149 acc_train: 0.9188 loss_val: 1.5068 acc_val: 0.7875\n",
            "Epoch: 0084 (0.0748s) loss_train: 1.4151 acc_train: 0.9206 loss_val: 1.5070 acc_val: 0.7900\n",
            "Epoch: 0085 (0.0747s) loss_train: 1.4153 acc_train: 0.9188 loss_val: 1.5073 acc_val: 0.7900\n",
            "Epoch: 0086 (0.0759s) loss_train: 1.4152 acc_train: 0.9206 loss_val: 1.5074 acc_val: 0.7900\n",
            "Epoch: 0087 (0.0755s) loss_train: 1.4152 acc_train: 0.9215 loss_val: 1.5076 acc_val: 0.7925\n",
            "Epoch: 0088 (0.0747s) loss_train: 1.4149 acc_train: 0.9224 loss_val: 1.5075 acc_val: 0.7875\n",
            "Epoch: 0089 (0.0751s) loss_train: 1.4142 acc_train: 0.9215 loss_val: 1.5071 acc_val: 0.7875\n",
            "Epoch: 0090 (0.0752s) loss_train: 1.4137 acc_train: 0.9188 loss_val: 1.5069 acc_val: 0.7850\n",
            "Epoch: 0091 (0.0759s) loss_train: 1.4129 acc_train: 0.9197 loss_val: 1.5064 acc_val: 0.7875\n",
            "Epoch: 0092 (0.0751s) loss_train: 1.4124 acc_train: 0.9206 loss_val: 1.5060 acc_val: 0.7850\n",
            "Epoch: 0093 (0.0751s) loss_train: 1.4118 acc_train: 0.9215 loss_val: 1.5055 acc_val: 0.7825\n",
            "Epoch: 0094 (0.0748s) loss_train: 1.4116 acc_train: 0.9206 loss_val: 1.5053 acc_val: 0.7850\n",
            "Epoch: 0095 (0.0758s) loss_train: 1.4113 acc_train: 0.9179 loss_val: 1.5049 acc_val: 0.7850\n",
            "Epoch: 0096 (0.0748s) loss_train: 1.4112 acc_train: 0.9179 loss_val: 1.5047 acc_val: 0.7850\n",
            "Epoch: 0097 (0.0749s) loss_train: 1.4111 acc_train: 0.9152 loss_val: 1.5044 acc_val: 0.7850\n",
            "Epoch: 0098 (0.0747s) loss_train: 1.4111 acc_train: 0.9116 loss_val: 1.5044 acc_val: 0.7825\n",
            "Epoch: 0099 (0.0752s) loss_train: 1.4107 acc_train: 0.9125 loss_val: 1.5041 acc_val: 0.7825\n",
            "Epoch: 0100 (0.0759s) loss_train: 1.4109 acc_train: 0.9116 loss_val: 1.5046 acc_val: 0.7800\n",
            "Epoch: 0101 (0.0760s) loss_train: 1.4108 acc_train: 0.9106 loss_val: 1.5049 acc_val: 0.7775\n",
            "Epoch: 0102 (0.0758s) loss_train: 1.4108 acc_train: 0.9116 loss_val: 1.5052 acc_val: 0.7750\n",
            "Epoch: 0103 (0.0758s) loss_train: 1.4107 acc_train: 0.9097 loss_val: 1.5054 acc_val: 0.7800\n",
            "Epoch: 0104 (0.0760s) loss_train: 1.4110 acc_train: 0.9106 loss_val: 1.5058 acc_val: 0.7850\n",
            "Epoch: 0105 (0.0755s) loss_train: 1.4114 acc_train: 0.9116 loss_val: 1.5063 acc_val: 0.7775\n",
            "Epoch: 0106 (0.0757s) loss_train: 1.4120 acc_train: 0.9125 loss_val: 1.5069 acc_val: 0.7800\n",
            "Epoch: 0107 (0.0759s) loss_train: 1.4128 acc_train: 0.9152 loss_val: 1.5078 acc_val: 0.7825\n",
            "Epoch: 0108 (0.0760s) loss_train: 1.4137 acc_train: 0.9170 loss_val: 1.5090 acc_val: 0.7800\n",
            "Epoch: 0109 (0.0754s) loss_train: 1.4147 acc_train: 0.9170 loss_val: 1.5101 acc_val: 0.7825\n",
            "Epoch: 0110 (0.0761s) loss_train: 1.4154 acc_train: 0.9188 loss_val: 1.5112 acc_val: 0.7850\n",
            "Epoch: 0111 (0.0776s) loss_train: 1.4156 acc_train: 0.9170 loss_val: 1.5116 acc_val: 0.7825\n",
            "Epoch: 0112 (0.0769s) loss_train: 1.4155 acc_train: 0.9143 loss_val: 1.5116 acc_val: 0.7850\n",
            "Epoch: 0113 (0.0759s) loss_train: 1.4151 acc_train: 0.9152 loss_val: 1.5113 acc_val: 0.7825\n",
            "Epoch: 0114 (0.0758s) loss_train: 1.4144 acc_train: 0.9161 loss_val: 1.5108 acc_val: 0.7825\n",
            "Epoch: 0115 (0.0758s) loss_train: 1.4134 acc_train: 0.9170 loss_val: 1.5099 acc_val: 0.7800\n",
            "Epoch: 0116 (0.0761s) loss_train: 1.4125 acc_train: 0.9170 loss_val: 1.5090 acc_val: 0.7825\n",
            "Epoch: 0117 (0.0759s) loss_train: 1.4117 acc_train: 0.9170 loss_val: 1.5082 acc_val: 0.7800\n",
            "Epoch: 0118 (0.0759s) loss_train: 1.4105 acc_train: 0.9179 loss_val: 1.5071 acc_val: 0.7800\n",
            "Epoch: 0119 (0.0768s) loss_train: 1.4093 acc_train: 0.9197 loss_val: 1.5060 acc_val: 0.7800\n",
            "Epoch: 0120 (0.0754s) loss_train: 1.4080 acc_train: 0.9197 loss_val: 1.5045 acc_val: 0.7800\n",
            "Epoch: 0121 (0.0762s) loss_train: 1.4067 acc_train: 0.9197 loss_val: 1.5033 acc_val: 0.7850\n",
            "Epoch: 0122 (0.0750s) loss_train: 1.4060 acc_train: 0.9197 loss_val: 1.5025 acc_val: 0.7800\n",
            "Epoch: 0123 (0.0749s) loss_train: 1.4058 acc_train: 0.9197 loss_val: 1.5020 acc_val: 0.7825\n",
            "Epoch: 0124 (0.0751s) loss_train: 1.4061 acc_train: 0.9197 loss_val: 1.5018 acc_val: 0.7825\n",
            "Epoch: 0125 (0.0749s) loss_train: 1.4062 acc_train: 0.9224 loss_val: 1.5018 acc_val: 0.7900\n",
            "Epoch: 0126 (0.0749s) loss_train: 1.4066 acc_train: 0.9206 loss_val: 1.5019 acc_val: 0.7900\n",
            "Epoch: 0127 (0.0758s) loss_train: 1.4073 acc_train: 0.9197 loss_val: 1.5022 acc_val: 0.7875\n",
            "Epoch: 0128 (0.0759s) loss_train: 1.4079 acc_train: 0.9197 loss_val: 1.5025 acc_val: 0.7875\n",
            "Epoch: 0129 (0.0762s) loss_train: 1.4080 acc_train: 0.9224 loss_val: 1.5024 acc_val: 0.7850\n",
            "Epoch: 0130 (0.0760s) loss_train: 1.4080 acc_train: 0.9224 loss_val: 1.5020 acc_val: 0.7875\n",
            "Epoch: 0131 (0.0760s) loss_train: 1.4079 acc_train: 0.9215 loss_val: 1.5016 acc_val: 0.7875\n",
            "Epoch: 0132 (0.0749s) loss_train: 1.4078 acc_train: 0.9233 loss_val: 1.5013 acc_val: 0.7875\n",
            "Epoch: 0133 (0.0753s) loss_train: 1.4077 acc_train: 0.9224 loss_val: 1.5011 acc_val: 0.7875\n",
            "Epoch: 0134 (0.0749s) loss_train: 1.4079 acc_train: 0.9233 loss_val: 1.5011 acc_val: 0.7825\n",
            "Epoch: 0135 (0.0759s) loss_train: 1.4078 acc_train: 0.9242 loss_val: 1.5009 acc_val: 0.7875\n",
            "Epoch: 0136 (0.0757s) loss_train: 1.4074 acc_train: 0.9251 loss_val: 1.5006 acc_val: 0.7850\n",
            "Epoch: 0137 (0.0749s) loss_train: 1.4069 acc_train: 0.9224 loss_val: 1.5002 acc_val: 0.7925\n",
            "Epoch: 0138 (0.0749s) loss_train: 1.4066 acc_train: 0.9215 loss_val: 1.5000 acc_val: 0.7925\n",
            "Epoch: 0139 (0.0749s) loss_train: 1.4064 acc_train: 0.9215 loss_val: 1.5000 acc_val: 0.7925\n",
            "Epoch: 0140 (0.0748s) loss_train: 1.4063 acc_train: 0.9206 loss_val: 1.5000 acc_val: 0.7900\n",
            "Epoch: 0141 (0.0752s) loss_train: 1.4059 acc_train: 0.9188 loss_val: 1.4998 acc_val: 0.7950\n",
            "Epoch: 0142 (0.0749s) loss_train: 1.4053 acc_train: 0.9188 loss_val: 1.4997 acc_val: 0.7950\n",
            "Epoch: 0143 (0.0749s) loss_train: 1.4050 acc_train: 0.9188 loss_val: 1.4997 acc_val: 0.7950\n",
            "Epoch: 0144 (0.0750s) loss_train: 1.4046 acc_train: 0.9179 loss_val: 1.4997 acc_val: 0.7950\n",
            "Epoch: 0145 (0.0758s) loss_train: 1.4044 acc_train: 0.9188 loss_val: 1.4999 acc_val: 0.7925\n",
            "Epoch: 0146 (0.0759s) loss_train: 1.4043 acc_train: 0.9179 loss_val: 1.5001 acc_val: 0.7925\n",
            "Epoch: 0147 (0.0771s) loss_train: 1.4041 acc_train: 0.9197 loss_val: 1.5005 acc_val: 0.7925\n",
            "Epoch: 0148 (0.0762s) loss_train: 1.4041 acc_train: 0.9206 loss_val: 1.5012 acc_val: 0.7850\n",
            "Epoch: 0149 (0.0761s) loss_train: 1.4039 acc_train: 0.9197 loss_val: 1.5017 acc_val: 0.7800\n",
            "Epoch: 0150 (0.0763s) loss_train: 1.4037 acc_train: 0.9206 loss_val: 1.5020 acc_val: 0.7800\n",
            "Epoch: 0151 (0.0764s) loss_train: 1.4037 acc_train: 0.9206 loss_val: 1.5023 acc_val: 0.7800\n",
            "Epoch: 0152 (0.0764s) loss_train: 1.4037 acc_train: 0.9224 loss_val: 1.5027 acc_val: 0.7825\n",
            "Epoch: 0153 (0.0768s) loss_train: 1.4042 acc_train: 0.9224 loss_val: 1.5035 acc_val: 0.7875\n",
            "Epoch: 0154 (0.0765s) loss_train: 1.4049 acc_train: 0.9233 loss_val: 1.5045 acc_val: 0.7850\n",
            "Epoch: 0155 (0.0765s) loss_train: 1.4057 acc_train: 0.9233 loss_val: 1.5054 acc_val: 0.7850\n",
            "Epoch: 0156 (0.0771s) loss_train: 1.4061 acc_train: 0.9224 loss_val: 1.5057 acc_val: 0.7875\n",
            "Epoch: 0157 (0.0763s) loss_train: 1.4064 acc_train: 0.9215 loss_val: 1.5059 acc_val: 0.7875\n",
            "Epoch: 0158 (0.0759s) loss_train: 1.4065 acc_train: 0.9233 loss_val: 1.5058 acc_val: 0.7850\n",
            "Epoch: 0159 (0.0760s) loss_train: 1.4064 acc_train: 0.9197 loss_val: 1.5055 acc_val: 0.7850\n",
            "Epoch: 0160 (0.0759s) loss_train: 1.4064 acc_train: 0.9215 loss_val: 1.5053 acc_val: 0.7850\n",
            "Epoch: 0161 (0.0759s) loss_train: 1.4067 acc_train: 0.9224 loss_val: 1.5054 acc_val: 0.7800\n",
            "Epoch: 0162 (0.0761s) loss_train: 1.4071 acc_train: 0.9233 loss_val: 1.5055 acc_val: 0.7800\n",
            "Epoch: 0163 (0.0758s) loss_train: 1.4075 acc_train: 0.9242 loss_val: 1.5057 acc_val: 0.7850\n",
            "Epoch: 0164 (0.0761s) loss_train: 1.4077 acc_train: 0.9242 loss_val: 1.5058 acc_val: 0.7850\n",
            "Epoch: 0165 (0.0765s) loss_train: 1.4073 acc_train: 0.9251 loss_val: 1.5054 acc_val: 0.7850\n",
            "Epoch: 0166 (0.0772s) loss_train: 1.4072 acc_train: 0.9251 loss_val: 1.5051 acc_val: 0.7825\n",
            "Epoch: 0167 (0.0766s) loss_train: 1.4066 acc_train: 0.9242 loss_val: 1.5046 acc_val: 0.7825\n",
            "Epoch: 0168 (0.0763s) loss_train: 1.4062 acc_train: 0.9242 loss_val: 1.5043 acc_val: 0.7775\n",
            "Epoch: 0169 (0.0762s) loss_train: 1.4067 acc_train: 0.9215 loss_val: 1.5046 acc_val: 0.7800\n",
            "Epoch: 0170 (0.0767s) loss_train: 1.4073 acc_train: 0.9215 loss_val: 1.5050 acc_val: 0.7775\n",
            "Epoch: 0171 (0.0765s) loss_train: 1.4077 acc_train: 0.9206 loss_val: 1.5052 acc_val: 0.7800\n",
            "Epoch: 0172 (0.0757s) loss_train: 1.4081 acc_train: 0.9197 loss_val: 1.5057 acc_val: 0.7775\n",
            "Epoch: 0173 (0.0760s) loss_train: 1.4082 acc_train: 0.9197 loss_val: 1.5059 acc_val: 0.7700\n",
            "Epoch: 0174 (0.0760s) loss_train: 1.4081 acc_train: 0.9215 loss_val: 1.5058 acc_val: 0.7700\n",
            "Epoch: 0175 (0.0762s) loss_train: 1.4074 acc_train: 0.9224 loss_val: 1.5052 acc_val: 0.7725\n",
            "Epoch: 0176 (0.0758s) loss_train: 1.4068 acc_train: 0.9224 loss_val: 1.5047 acc_val: 0.7725\n",
            "Epoch: 0177 (0.0761s) loss_train: 1.4062 acc_train: 0.9224 loss_val: 1.5040 acc_val: 0.7725\n",
            "Epoch: 0178 (0.0763s) loss_train: 1.4055 acc_train: 0.9215 loss_val: 1.5034 acc_val: 0.7750\n",
            "Epoch: 0179 (0.0774s) loss_train: 1.4048 acc_train: 0.9188 loss_val: 1.5027 acc_val: 0.7750\n",
            "Epoch: 0180 (0.0763s) loss_train: 1.4045 acc_train: 0.9188 loss_val: 1.5026 acc_val: 0.7775\n",
            "Epoch: 0181 (0.0763s) loss_train: 1.4041 acc_train: 0.9188 loss_val: 1.5023 acc_val: 0.7800\n",
            "Epoch: 0182 (0.0756s) loss_train: 1.4042 acc_train: 0.9197 loss_val: 1.5025 acc_val: 0.7775\n",
            "Epoch: 0183 (0.0767s) loss_train: 1.4045 acc_train: 0.9170 loss_val: 1.5028 acc_val: 0.7750\n",
            "Epoch: 0184 (0.0763s) loss_train: 1.4048 acc_train: 0.9170 loss_val: 1.5033 acc_val: 0.7750\n",
            "Epoch: 0185 (0.0759s) loss_train: 1.4053 acc_train: 0.9143 loss_val: 1.5040 acc_val: 0.7725\n",
            "Epoch: 0186 (0.0753s) loss_train: 1.4059 acc_train: 0.9152 loss_val: 1.5049 acc_val: 0.7725\n",
            "Epoch: 0187 (0.0760s) loss_train: 1.4063 acc_train: 0.9161 loss_val: 1.5057 acc_val: 0.7725\n",
            "Epoch: 0188 (0.0759s) loss_train: 1.4066 acc_train: 0.9134 loss_val: 1.5061 acc_val: 0.7650\n",
            "Epoch: 0189 (0.0755s) loss_train: 1.4069 acc_train: 0.9134 loss_val: 1.5064 acc_val: 0.7675\n",
            "Epoch: 0190 (0.0754s) loss_train: 1.4075 acc_train: 0.9152 loss_val: 1.5069 acc_val: 0.7725\n",
            "Epoch: 0191 (0.0765s) loss_train: 1.4083 acc_train: 0.9170 loss_val: 1.5074 acc_val: 0.7750\n",
            "Epoch: 0192 (0.0761s) loss_train: 1.4093 acc_train: 0.9206 loss_val: 1.5079 acc_val: 0.7775\n",
            "Epoch: 0193 (0.0766s) loss_train: 1.4093 acc_train: 0.9215 loss_val: 1.5077 acc_val: 0.7800\n",
            "Epoch: 0194 (0.0762s) loss_train: 1.4087 acc_train: 0.9215 loss_val: 1.5068 acc_val: 0.7825\n",
            "Epoch: 0195 (0.0755s) loss_train: 1.4080 acc_train: 0.9224 loss_val: 1.5058 acc_val: 0.7800\n",
            "Epoch: 0196 (0.0767s) loss_train: 1.4073 acc_train: 0.9233 loss_val: 1.5051 acc_val: 0.7800\n",
            "Epoch: 0197 (0.0761s) loss_train: 1.4067 acc_train: 0.9233 loss_val: 1.5045 acc_val: 0.7800\n",
            "Epoch: 0198 (0.0760s) loss_train: 1.4060 acc_train: 0.9260 loss_val: 1.5039 acc_val: 0.7825\n",
            "Epoch: 0199 (0.0754s) loss_train: 1.4050 acc_train: 0.9242 loss_val: 1.5030 acc_val: 0.7850\n",
            "Epoch: 0200 (0.0757s) loss_train: 1.4039 acc_train: 0.9215 loss_val: 1.5021 acc_val: 0.7900\n",
            "Epoch: 0201 (0.0759s) loss_train: 1.4026 acc_train: 0.9224 loss_val: 1.5011 acc_val: 0.7925\n",
            "Epoch: 0202 (0.0781s) loss_train: 1.4016 acc_train: 0.9215 loss_val: 1.5003 acc_val: 0.7925\n",
            "Epoch: 0203 (0.0760s) loss_train: 1.4010 acc_train: 0.9206 loss_val: 1.4999 acc_val: 0.7950\n",
            "Epoch: 0204 (0.0756s) loss_train: 1.4010 acc_train: 0.9197 loss_val: 1.4998 acc_val: 0.7950\n",
            "Epoch: 0205 (0.0755s) loss_train: 1.4014 acc_train: 0.9206 loss_val: 1.5003 acc_val: 0.7925\n",
            "Epoch: 0206 (0.0760s) loss_train: 1.4021 acc_train: 0.9224 loss_val: 1.5008 acc_val: 0.7925\n",
            "Epoch: 0207 (0.0765s) loss_train: 1.4029 acc_train: 0.9233 loss_val: 1.5013 acc_val: 0.7900\n",
            "Epoch: 0208 (0.0762s) loss_train: 1.4038 acc_train: 0.9206 loss_val: 1.5019 acc_val: 0.7800\n",
            "Epoch: 0209 (0.0756s) loss_train: 1.4044 acc_train: 0.9197 loss_val: 1.5022 acc_val: 0.7825\n",
            "Epoch: 0210 (0.0767s) loss_train: 1.4045 acc_train: 0.9206 loss_val: 1.5020 acc_val: 0.7825\n",
            "Epoch: 0211 (0.0762s) loss_train: 1.4049 acc_train: 0.9206 loss_val: 1.5019 acc_val: 0.7800\n",
            "Epoch: 0212 (0.0764s) loss_train: 1.4055 acc_train: 0.9215 loss_val: 1.5021 acc_val: 0.7825\n",
            "Epoch: 0213 (0.0787s) loss_train: 1.4059 acc_train: 0.9233 loss_val: 1.5023 acc_val: 0.7850\n",
            "Epoch: 0214 (0.0754s) loss_train: 1.4060 acc_train: 0.9260 loss_val: 1.5022 acc_val: 0.7875\n",
            "Epoch: 0215 (0.0775s) loss_train: 1.4061 acc_train: 0.9269 loss_val: 1.5022 acc_val: 0.7850\n",
            "Epoch: 0216 (0.0766s) loss_train: 1.4066 acc_train: 0.9260 loss_val: 1.5027 acc_val: 0.7825\n",
            "Epoch: 0217 (0.0758s) loss_train: 1.4068 acc_train: 0.9260 loss_val: 1.5032 acc_val: 0.7800\n",
            "Epoch: 0218 (0.0760s) loss_train: 1.4070 acc_train: 0.9278 loss_val: 1.5036 acc_val: 0.7850\n",
            "Epoch: 0219 (0.0761s) loss_train: 1.4069 acc_train: 0.9269 loss_val: 1.5039 acc_val: 0.7825\n",
            "Epoch: 0220 (0.0766s) loss_train: 1.4070 acc_train: 0.9260 loss_val: 1.5043 acc_val: 0.7800\n",
            "Epoch: 0221 (0.0765s) loss_train: 1.4069 acc_train: 0.9296 loss_val: 1.5045 acc_val: 0.7750\n",
            "Epoch: 0222 (0.0768s) loss_train: 1.4070 acc_train: 0.9296 loss_val: 1.5047 acc_val: 0.7775\n",
            "Epoch: 0223 (0.0758s) loss_train: 1.4069 acc_train: 0.9269 loss_val: 1.5049 acc_val: 0.7750\n",
            "Epoch: 0224 (0.0758s) loss_train: 1.4068 acc_train: 0.9278 loss_val: 1.5049 acc_val: 0.7750\n",
            "Epoch: 0225 (0.0764s) loss_train: 1.4063 acc_train: 0.9278 loss_val: 1.5044 acc_val: 0.7750\n",
            "Epoch: 0226 (0.0767s) loss_train: 1.4056 acc_train: 0.9269 loss_val: 1.5037 acc_val: 0.7725\n",
            "Epoch: 0227 (0.0764s) loss_train: 1.4053 acc_train: 0.9260 loss_val: 1.5033 acc_val: 0.7775\n",
            "Epoch: 0228 (0.0754s) loss_train: 1.4050 acc_train: 0.9242 loss_val: 1.5030 acc_val: 0.7750\n",
            "Epoch: 0229 (0.0758s) loss_train: 1.4048 acc_train: 0.9251 loss_val: 1.5026 acc_val: 0.7750\n",
            "Epoch: 0230 (0.0767s) loss_train: 1.4046 acc_train: 0.9278 loss_val: 1.5023 acc_val: 0.7775\n",
            "Epoch: 0231 (0.0759s) loss_train: 1.4045 acc_train: 0.9269 loss_val: 1.5019 acc_val: 0.7750\n",
            "Epoch: 0232 (0.0757s) loss_train: 1.4041 acc_train: 0.9278 loss_val: 1.5013 acc_val: 0.7850\n",
            "Epoch: 0233 (0.0766s) loss_train: 1.4038 acc_train: 0.9287 loss_val: 1.5009 acc_val: 0.7850\n",
            "Epoch: 0234 (0.0759s) loss_train: 1.4039 acc_train: 0.9278 loss_val: 1.5010 acc_val: 0.7825\n",
            "Epoch: 0235 (0.0763s) loss_train: 1.4036 acc_train: 0.9215 loss_val: 1.5006 acc_val: 0.7825\n",
            "Epoch: 0236 (0.0757s) loss_train: 1.4032 acc_train: 0.9224 loss_val: 1.5002 acc_val: 0.7850\n",
            "Epoch: 0237 (0.0760s) loss_train: 1.4026 acc_train: 0.9233 loss_val: 1.4997 acc_val: 0.7900\n",
            "Epoch: 0238 (0.0763s) loss_train: 1.4020 acc_train: 0.9224 loss_val: 1.4992 acc_val: 0.7850\n",
            "Epoch: 0239 (0.0748s) loss_train: 1.4013 acc_train: 0.9233 loss_val: 1.4986 acc_val: 0.7825\n",
            "Epoch: 0240 (0.0751s) loss_train: 1.4006 acc_train: 0.9215 loss_val: 1.4981 acc_val: 0.7825\n",
            "Epoch: 0241 (0.0754s) loss_train: 1.4005 acc_train: 0.9215 loss_val: 1.4980 acc_val: 0.7800\n",
            "Epoch: 0242 (0.0748s) loss_train: 1.4010 acc_train: 0.9206 loss_val: 1.4983 acc_val: 0.7825\n",
            "Epoch: 0243 (0.0763s) loss_train: 1.4013 acc_train: 0.9215 loss_val: 1.4986 acc_val: 0.7850\n",
            "Epoch: 0244 (0.0756s) loss_train: 1.4017 acc_train: 0.9215 loss_val: 1.4989 acc_val: 0.7825\n",
            "Epoch: 0245 (0.0762s) loss_train: 1.4029 acc_train: 0.9224 loss_val: 1.4998 acc_val: 0.7850\n",
            "Epoch: 0246 (0.0756s) loss_train: 1.4042 acc_train: 0.9224 loss_val: 1.5008 acc_val: 0.7825\n",
            "Epoch: 0247 (0.0763s) loss_train: 1.4055 acc_train: 0.9224 loss_val: 1.5018 acc_val: 0.7800\n",
            "Epoch: 0248 (0.0766s) loss_train: 1.4067 acc_train: 0.9242 loss_val: 1.5029 acc_val: 0.7850\n",
            "Epoch: 0249 (0.0757s) loss_train: 1.4078 acc_train: 0.9233 loss_val: 1.5035 acc_val: 0.7825\n",
            "Epoch: 0250 (0.0760s) loss_train: 1.4093 acc_train: 0.9215 loss_val: 1.5045 acc_val: 0.7850\n",
            "Epoch: 0251 (0.0766s) loss_train: 1.4110 acc_train: 0.9224 loss_val: 1.5057 acc_val: 0.7825\n",
            "Epoch: 0252 (0.0767s) loss_train: 1.4119 acc_train: 0.9233 loss_val: 1.5064 acc_val: 0.7850\n",
            "Epoch: 0253 (0.0771s) loss_train: 1.4123 acc_train: 0.9233 loss_val: 1.5067 acc_val: 0.7850\n",
            "Epoch: 0254 (0.0765s) loss_train: 1.4124 acc_train: 0.9224 loss_val: 1.5067 acc_val: 0.7850\n",
            "Epoch: 0255 (0.0758s) loss_train: 1.4119 acc_train: 0.9233 loss_val: 1.5062 acc_val: 0.7850\n",
            "Epoch: 0256 (0.0764s) loss_train: 1.4115 acc_train: 0.9233 loss_val: 1.5059 acc_val: 0.7825\n",
            "Epoch: 0257 (0.0765s) loss_train: 1.4111 acc_train: 0.9224 loss_val: 1.5056 acc_val: 0.7850\n",
            "Epoch: 0258 (0.0760s) loss_train: 1.4107 acc_train: 0.9233 loss_val: 1.5052 acc_val: 0.7850\n",
            "Epoch: 0259 (0.0757s) loss_train: 1.4103 acc_train: 0.9206 loss_val: 1.5049 acc_val: 0.7850\n",
            "Epoch: 0260 (0.0769s) loss_train: 1.4101 acc_train: 0.9215 loss_val: 1.5047 acc_val: 0.7875\n",
            "Epoch: 0261 (0.0761s) loss_train: 1.4097 acc_train: 0.9179 loss_val: 1.5043 acc_val: 0.7900\n",
            "Epoch: 0262 (0.0757s) loss_train: 1.4093 acc_train: 0.9197 loss_val: 1.5040 acc_val: 0.7875\n",
            "Epoch: 0263 (0.0760s) loss_train: 1.4086 acc_train: 0.9197 loss_val: 1.5036 acc_val: 0.7825\n",
            "Epoch: 0264 (0.0765s) loss_train: 1.4081 acc_train: 0.9224 loss_val: 1.5031 acc_val: 0.7775\n",
            "Epoch: 0265 (0.0765s) loss_train: 1.4081 acc_train: 0.9215 loss_val: 1.5030 acc_val: 0.7800\n",
            "Epoch: 0266 (0.0766s) loss_train: 1.4079 acc_train: 0.9206 loss_val: 1.5029 acc_val: 0.7800\n",
            "Epoch: 0267 (0.0769s) loss_train: 1.4074 acc_train: 0.9206 loss_val: 1.5025 acc_val: 0.7825\n",
            "Epoch: 0268 (0.0761s) loss_train: 1.4072 acc_train: 0.9206 loss_val: 1.5026 acc_val: 0.7850\n",
            "Epoch: 0269 (0.0774s) loss_train: 1.4068 acc_train: 0.9197 loss_val: 1.5023 acc_val: 0.7825\n",
            "Epoch: 0270 (0.0764s) loss_train: 1.4063 acc_train: 0.9197 loss_val: 1.5021 acc_val: 0.7800\n",
            "Epoch: 0271 (0.0758s) loss_train: 1.4056 acc_train: 0.9197 loss_val: 1.5018 acc_val: 0.7800\n",
            "Epoch: 0272 (0.0764s) loss_train: 1.4052 acc_train: 0.9188 loss_val: 1.5018 acc_val: 0.7800\n",
            "Epoch: 0273 (0.0763s) loss_train: 1.4049 acc_train: 0.9206 loss_val: 1.5021 acc_val: 0.7800\n",
            "Epoch: 0274 (0.0762s) loss_train: 1.4045 acc_train: 0.9206 loss_val: 1.5023 acc_val: 0.7800\n",
            "Epoch: 0275 (0.0763s) loss_train: 1.4045 acc_train: 0.9188 loss_val: 1.5027 acc_val: 0.7800\n",
            "Epoch: 0276 (0.0762s) loss_train: 1.4047 acc_train: 0.9206 loss_val: 1.5034 acc_val: 0.7800\n",
            "Epoch: 0277 (0.0763s) loss_train: 1.4050 acc_train: 0.9197 loss_val: 1.5042 acc_val: 0.7725\n",
            "Epoch: 0278 (0.0769s) loss_train: 1.4057 acc_train: 0.9197 loss_val: 1.5051 acc_val: 0.7775\n",
            "Epoch: 0279 (0.0763s) loss_train: 1.4063 acc_train: 0.9197 loss_val: 1.5059 acc_val: 0.7750\n",
            "Epoch: 0280 (0.0764s) loss_train: 1.4065 acc_train: 0.9215 loss_val: 1.5064 acc_val: 0.7750\n",
            "Epoch: 0281 (0.0763s) loss_train: 1.4065 acc_train: 0.9215 loss_val: 1.5065 acc_val: 0.7725\n",
            "Epoch: 0282 (0.0776s) loss_train: 1.4067 acc_train: 0.9233 loss_val: 1.5068 acc_val: 0.7725\n",
            "Epoch: 0283 (0.0771s) loss_train: 1.4070 acc_train: 0.9224 loss_val: 1.5071 acc_val: 0.7725\n",
            "Epoch: 0284 (0.0757s) loss_train: 1.4076 acc_train: 0.9233 loss_val: 1.5075 acc_val: 0.7775\n",
            "Epoch: 0285 (0.0763s) loss_train: 1.4085 acc_train: 0.9242 loss_val: 1.5080 acc_val: 0.7800\n",
            "Epoch: 0286 (0.0766s) loss_train: 1.4095 acc_train: 0.9251 loss_val: 1.5088 acc_val: 0.7800\n",
            "Epoch: 0287 (0.0772s) loss_train: 1.4107 acc_train: 0.9242 loss_val: 1.5097 acc_val: 0.7825\n",
            "Epoch: 0288 (0.0762s) loss_train: 1.4119 acc_train: 0.9233 loss_val: 1.5108 acc_val: 0.7800\n",
            "Epoch: 0289 (0.0758s) loss_train: 1.4132 acc_train: 0.9224 loss_val: 1.5121 acc_val: 0.7825\n",
            "Epoch: 0290 (0.0765s) loss_train: 1.4148 acc_train: 0.9224 loss_val: 1.5134 acc_val: 0.7825\n",
            "Epoch: 0291 (0.0764s) loss_train: 1.4165 acc_train: 0.9251 loss_val: 1.5148 acc_val: 0.7800\n",
            "Epoch: 0292 (0.0762s) loss_train: 1.4174 acc_train: 0.9251 loss_val: 1.5158 acc_val: 0.7800\n",
            "Epoch: 0293 (0.0764s) loss_train: 1.4182 acc_train: 0.9260 loss_val: 1.5167 acc_val: 0.7825\n",
            "Epoch: 0294 (0.0767s) loss_train: 1.4187 acc_train: 0.9260 loss_val: 1.5173 acc_val: 0.7850\n",
            "Epoch: 0295 (0.0770s) loss_train: 1.4189 acc_train: 0.9251 loss_val: 1.5177 acc_val: 0.7800\n",
            "Epoch: 0296 (0.0772s) loss_train: 1.4188 acc_train: 0.9287 loss_val: 1.5177 acc_val: 0.7775\n",
            "Epoch: 0297 (0.0762s) loss_train: 1.4184 acc_train: 0.9287 loss_val: 1.5174 acc_val: 0.7750\n",
            "Epoch: 0298 (0.0761s) loss_train: 1.4180 acc_train: 0.9278 loss_val: 1.5172 acc_val: 0.7725\n",
            "Epoch: 0299 (0.0764s) loss_train: 1.4172 acc_train: 0.9260 loss_val: 1.5166 acc_val: 0.7725\n",
            "Epoch: 0300 (0.0768s) loss_train: 1.4165 acc_train: 0.9251 loss_val: 1.5160 acc_val: 0.7700\n",
            "Optimization Finished!\n",
            "Total time elapsed: 26.9694s\n",
            "Loading 241th epoch\n",
            "Test set results: loss 1.4712 accuracy 0.8208\n"
          ]
        }
      ],
      "source": [
        "# demonstrate train_and_evaluate function on cora\n",
        "# (This is for the demonstration, you can run it. However running this cell will add chance to exceed the 8 minutes limits depends on the device )\n",
        "best_model, loss_values, acc_values, loss_test, acc_test = train_and_evaluate(GAT_cora, (features, adj_mat), labels, idx_train, idx_val, args['epochs'], args['patience'], args['print'])"
      ]
    },
    {
      "cell_type": "code",
      "execution_count": null,
      "metadata": {
        "id": "UZoE3MGp_ikc"
      },
      "outputs": [],
      "source": [
        "# (This is for the demonstration, you can run it. However running this cell will add chance to exceed the 8 minutes limits depends on the device )\n",
        "import torch\n",
        "import os\n",
        "import requests\n",
        "import tarfile\n",
        "import glob\n",
        "# Set the parameters directly\n",
        "args = {\n",
        "    'seed': 42,  # 9\n",
        "    'no_cuda': False,\n",
        "    'no_mps': False,\n",
        "    'hidden_dim': 64,\n",
        "    'num_heads': 8,\n",
        "    'concat_heads': False,\n",
        "    'dropout_p': 0.6,\n",
        "    'lr': 0.005,\n",
        "    'l2': 5e-4,\n",
        "    'epochs': 200,\n",
        "    'patience': 100,\n",
        "    'print': True,\n",
        "}"
      ]
    },
    {
      "cell_type": "code",
      "execution_count": null,
      "metadata": {
        "colab": {
          "base_uri": "https://localhost:8080/"
        },
        "id": "a-dO1rSi9GZO",
        "outputId": "5c92ee08-8098-403a-97e4-8cc3fa56e5ad"
      },
      "outputs": [
        {
          "name": "stdout",
          "output_type": "stream",
          "text": [
            "Epoch: 0001 (0.1442s) loss_train: 1.5972 acc_train: 0.7794 loss_val: 1.6414 acc_val: 0.7100\n",
            "Epoch: 0002 (0.1302s) loss_train: 1.6003 acc_train: 0.7771 loss_val: 1.6440 acc_val: 0.7050\n",
            "Epoch: 0003 (0.1203s) loss_train: 1.6019 acc_train: 0.7713 loss_val: 1.6452 acc_val: 0.7050\n",
            "Epoch: 0004 (0.1167s) loss_train: 1.6017 acc_train: 0.7690 loss_val: 1.6450 acc_val: 0.7050\n",
            "Epoch: 0005 (0.1158s) loss_train: 1.6003 acc_train: 0.7695 loss_val: 1.6439 acc_val: 0.7100\n",
            "Epoch: 0006 (0.1174s) loss_train: 1.5985 acc_train: 0.7713 loss_val: 1.6428 acc_val: 0.7125\n",
            "Epoch: 0007 (0.1152s) loss_train: 1.5962 acc_train: 0.7713 loss_val: 1.6413 acc_val: 0.7175\n",
            "Epoch: 0008 (0.1154s) loss_train: 1.5936 acc_train: 0.7736 loss_val: 1.6393 acc_val: 0.7200\n",
            "Epoch: 0009 (0.1152s) loss_train: 1.5912 acc_train: 0.7748 loss_val: 1.6369 acc_val: 0.7175\n",
            "Epoch: 0010 (0.1155s) loss_train: 1.5884 acc_train: 0.7759 loss_val: 1.6344 acc_val: 0.7150\n",
            "Epoch: 0011 (0.1164s) loss_train: 1.5859 acc_train: 0.7782 loss_val: 1.6322 acc_val: 0.7225\n",
            "Epoch: 0012 (0.1207s) loss_train: 1.5830 acc_train: 0.7817 loss_val: 1.6298 acc_val: 0.7275\n",
            "Epoch: 0013 (0.1153s) loss_train: 1.5801 acc_train: 0.7834 loss_val: 1.6276 acc_val: 0.7225\n",
            "Epoch: 0014 (0.1159s) loss_train: 1.5775 acc_train: 0.7858 loss_val: 1.6257 acc_val: 0.7175\n",
            "Epoch: 0015 (0.1154s) loss_train: 1.5757 acc_train: 0.7863 loss_val: 1.6244 acc_val: 0.7225\n",
            "Epoch: 0016 (0.1152s) loss_train: 1.5741 acc_train: 0.7858 loss_val: 1.6234 acc_val: 0.7200\n",
            "Epoch: 0017 (0.1158s) loss_train: 1.5726 acc_train: 0.7863 loss_val: 1.6224 acc_val: 0.7225\n",
            "Epoch: 0018 (0.1163s) loss_train: 1.5715 acc_train: 0.7898 loss_val: 1.6218 acc_val: 0.7300\n",
            "Epoch: 0019 (0.1168s) loss_train: 1.5707 acc_train: 0.7927 loss_val: 1.6214 acc_val: 0.7325\n",
            "Epoch: 0020 (0.1158s) loss_train: 1.5699 acc_train: 0.7939 loss_val: 1.6209 acc_val: 0.7375\n",
            "Epoch: 0021 (0.1155s) loss_train: 1.5691 acc_train: 0.7962 loss_val: 1.6205 acc_val: 0.7375\n",
            "Epoch: 0022 (0.1161s) loss_train: 1.5683 acc_train: 0.7950 loss_val: 1.6200 acc_val: 0.7325\n",
            "Epoch: 0023 (0.1154s) loss_train: 1.5674 acc_train: 0.7950 loss_val: 1.6193 acc_val: 0.7275\n",
            "Epoch: 0024 (0.1155s) loss_train: 1.5665 acc_train: 0.7973 loss_val: 1.6184 acc_val: 0.7275\n",
            "Epoch: 0025 (0.1162s) loss_train: 1.5657 acc_train: 0.7997 loss_val: 1.6174 acc_val: 0.7200\n",
            "Epoch: 0026 (0.1154s) loss_train: 1.5651 acc_train: 0.7997 loss_val: 1.6169 acc_val: 0.7200\n",
            "Epoch: 0027 (0.1155s) loss_train: 1.5645 acc_train: 0.7991 loss_val: 1.6165 acc_val: 0.7175\n",
            "Epoch: 0028 (0.1156s) loss_train: 1.5638 acc_train: 0.7997 loss_val: 1.6160 acc_val: 0.7250\n",
            "Epoch: 0029 (0.1154s) loss_train: 1.5636 acc_train: 0.8002 loss_val: 1.6159 acc_val: 0.7250\n",
            "Epoch: 0030 (0.1157s) loss_train: 1.5633 acc_train: 0.7997 loss_val: 1.6158 acc_val: 0.7250\n",
            "Epoch: 0031 (0.1157s) loss_train: 1.5632 acc_train: 0.8020 loss_val: 1.6160 acc_val: 0.7250\n",
            "Epoch: 0032 (0.1166s) loss_train: 1.5634 acc_train: 0.8043 loss_val: 1.6164 acc_val: 0.7325\n",
            "Epoch: 0033 (0.1176s) loss_train: 1.5637 acc_train: 0.8049 loss_val: 1.6169 acc_val: 0.7350\n",
            "Epoch: 0034 (0.1174s) loss_train: 1.5641 acc_train: 0.8066 loss_val: 1.6175 acc_val: 0.7350\n",
            "Epoch: 0035 (0.1175s) loss_train: 1.5644 acc_train: 0.8089 loss_val: 1.6178 acc_val: 0.7375\n",
            "Epoch: 0036 (0.1171s) loss_train: 1.5643 acc_train: 0.8066 loss_val: 1.6178 acc_val: 0.7375\n",
            "Epoch: 0037 (0.1176s) loss_train: 1.5641 acc_train: 0.8060 loss_val: 1.6178 acc_val: 0.7350\n",
            "Epoch: 0038 (0.1201s) loss_train: 1.5638 acc_train: 0.8025 loss_val: 1.6177 acc_val: 0.7350\n",
            "Epoch: 0039 (0.1181s) loss_train: 1.5636 acc_train: 0.8008 loss_val: 1.6176 acc_val: 0.7400\n",
            "Epoch: 0040 (0.1154s) loss_train: 1.5634 acc_train: 0.8020 loss_val: 1.6176 acc_val: 0.7350\n",
            "Epoch: 0041 (0.1179s) loss_train: 1.5632 acc_train: 0.8020 loss_val: 1.6175 acc_val: 0.7375\n",
            "Epoch: 0042 (0.1171s) loss_train: 1.5628 acc_train: 0.8014 loss_val: 1.6172 acc_val: 0.7375\n",
            "Epoch: 0043 (0.1176s) loss_train: 1.5622 acc_train: 0.8031 loss_val: 1.6167 acc_val: 0.7375\n",
            "Epoch: 0044 (0.1165s) loss_train: 1.5615 acc_train: 0.8025 loss_val: 1.6160 acc_val: 0.7275\n",
            "Epoch: 0045 (0.1172s) loss_train: 1.5611 acc_train: 0.8014 loss_val: 1.6155 acc_val: 0.7225\n",
            "Epoch: 0046 (0.1160s) loss_train: 1.5607 acc_train: 0.8002 loss_val: 1.6150 acc_val: 0.7225\n",
            "Epoch: 0047 (0.1159s) loss_train: 1.5603 acc_train: 0.8014 loss_val: 1.6146 acc_val: 0.7250\n",
            "Epoch: 0048 (0.1156s) loss_train: 1.5598 acc_train: 0.8025 loss_val: 1.6140 acc_val: 0.7225\n",
            "Epoch: 0049 (0.1158s) loss_train: 1.5592 acc_train: 0.8014 loss_val: 1.6132 acc_val: 0.7225\n",
            "Epoch: 0050 (0.1159s) loss_train: 1.5585 acc_train: 0.8037 loss_val: 1.6124 acc_val: 0.7275\n",
            "Epoch: 0051 (0.1159s) loss_train: 1.5580 acc_train: 0.8025 loss_val: 1.6116 acc_val: 0.7225\n",
            "Epoch: 0052 (0.1155s) loss_train: 1.5572 acc_train: 0.7991 loss_val: 1.6110 acc_val: 0.7275\n",
            "Epoch: 0053 (0.1159s) loss_train: 1.5571 acc_train: 0.7991 loss_val: 1.6107 acc_val: 0.7275\n",
            "Epoch: 0054 (0.1159s) loss_train: 1.5569 acc_train: 0.8020 loss_val: 1.6105 acc_val: 0.7275\n",
            "Epoch: 0055 (0.1155s) loss_train: 1.5567 acc_train: 0.8031 loss_val: 1.6102 acc_val: 0.7275\n",
            "Epoch: 0056 (0.1169s) loss_train: 1.5566 acc_train: 0.8043 loss_val: 1.6100 acc_val: 0.7275\n",
            "Epoch: 0057 (0.1153s) loss_train: 1.5564 acc_train: 0.8049 loss_val: 1.6100 acc_val: 0.7250\n",
            "Epoch: 0058 (0.1161s) loss_train: 1.5563 acc_train: 0.8078 loss_val: 1.6100 acc_val: 0.7225\n",
            "Epoch: 0059 (0.1177s) loss_train: 1.5561 acc_train: 0.8066 loss_val: 1.6099 acc_val: 0.7175\n",
            "Epoch: 0060 (0.1159s) loss_train: 1.5558 acc_train: 0.8049 loss_val: 1.6099 acc_val: 0.7200\n",
            "Epoch: 0061 (0.1159s) loss_train: 1.5554 acc_train: 0.8054 loss_val: 1.6098 acc_val: 0.7225\n",
            "Epoch: 0062 (0.1159s) loss_train: 1.5548 acc_train: 0.8020 loss_val: 1.6094 acc_val: 0.7200\n",
            "Epoch: 0063 (0.1159s) loss_train: 1.5541 acc_train: 0.8014 loss_val: 1.6090 acc_val: 0.7225\n",
            "Epoch: 0064 (0.1156s) loss_train: 1.5534 acc_train: 0.8008 loss_val: 1.6084 acc_val: 0.7200\n",
            "Epoch: 0065 (0.1160s) loss_train: 1.5529 acc_train: 0.8014 loss_val: 1.6080 acc_val: 0.7200\n",
            "Epoch: 0066 (0.1159s) loss_train: 1.5524 acc_train: 0.8020 loss_val: 1.6075 acc_val: 0.7200\n",
            "Epoch: 0067 (0.1159s) loss_train: 1.5519 acc_train: 0.8020 loss_val: 1.6070 acc_val: 0.7225\n",
            "Epoch: 0068 (0.1158s) loss_train: 1.5515 acc_train: 0.8025 loss_val: 1.6065 acc_val: 0.7300\n",
            "Epoch: 0069 (0.1158s) loss_train: 1.5507 acc_train: 0.8025 loss_val: 1.6057 acc_val: 0.7350\n",
            "Epoch: 0070 (0.1158s) loss_train: 1.5500 acc_train: 0.8020 loss_val: 1.6046 acc_val: 0.7350\n",
            "Epoch: 0071 (0.1160s) loss_train: 1.5494 acc_train: 0.7985 loss_val: 1.6039 acc_val: 0.7325\n",
            "Epoch: 0072 (0.1158s) loss_train: 1.5486 acc_train: 0.7973 loss_val: 1.6030 acc_val: 0.7325\n",
            "Epoch: 0073 (0.1159s) loss_train: 1.5483 acc_train: 0.7985 loss_val: 1.6025 acc_val: 0.7325\n",
            "Epoch: 0074 (0.1156s) loss_train: 1.5480 acc_train: 0.8020 loss_val: 1.6021 acc_val: 0.7350\n",
            "Epoch: 0075 (0.1185s) loss_train: 1.5477 acc_train: 0.8054 loss_val: 1.6017 acc_val: 0.7400\n",
            "Epoch: 0076 (0.1157s) loss_train: 1.5476 acc_train: 0.8049 loss_val: 1.6017 acc_val: 0.7425\n",
            "Epoch: 0077 (0.1162s) loss_train: 1.5477 acc_train: 0.8060 loss_val: 1.6019 acc_val: 0.7375\n",
            "Epoch: 0078 (0.1168s) loss_train: 1.5481 acc_train: 0.8054 loss_val: 1.6022 acc_val: 0.7400\n",
            "Epoch: 0079 (0.1198s) loss_train: 1.5491 acc_train: 0.8083 loss_val: 1.6029 acc_val: 0.7325\n",
            "Epoch: 0080 (0.1173s) loss_train: 1.5499 acc_train: 0.8066 loss_val: 1.6037 acc_val: 0.7250\n",
            "Epoch: 0081 (0.1183s) loss_train: 1.5503 acc_train: 0.8072 loss_val: 1.6042 acc_val: 0.7275\n",
            "Epoch: 0082 (0.1168s) loss_train: 1.5511 acc_train: 0.8060 loss_val: 1.6051 acc_val: 0.7275\n",
            "Epoch: 0083 (0.1175s) loss_train: 1.5518 acc_train: 0.8054 loss_val: 1.6061 acc_val: 0.7325\n",
            "Epoch: 0084 (0.1230s) loss_train: 1.5520 acc_train: 0.8072 loss_val: 1.6067 acc_val: 0.7325\n",
            "Epoch: 0085 (0.1186s) loss_train: 1.5522 acc_train: 0.8066 loss_val: 1.6072 acc_val: 0.7325\n",
            "Epoch: 0086 (0.1174s) loss_train: 1.5522 acc_train: 0.8078 loss_val: 1.6077 acc_val: 0.7375\n",
            "Epoch: 0087 (0.1174s) loss_train: 1.5521 acc_train: 0.8060 loss_val: 1.6079 acc_val: 0.7425\n",
            "Epoch: 0088 (0.1177s) loss_train: 1.5518 acc_train: 0.8083 loss_val: 1.6079 acc_val: 0.7425\n",
            "Epoch: 0089 (0.1177s) loss_train: 1.5516 acc_train: 0.8072 loss_val: 1.6078 acc_val: 0.7400\n",
            "Epoch: 0090 (0.1177s) loss_train: 1.5513 acc_train: 0.8072 loss_val: 1.6080 acc_val: 0.7400\n",
            "Epoch: 0091 (0.1174s) loss_train: 1.5508 acc_train: 0.8060 loss_val: 1.6079 acc_val: 0.7400\n",
            "Epoch: 0092 (0.1171s) loss_train: 1.5504 acc_train: 0.8049 loss_val: 1.6078 acc_val: 0.7400\n",
            "Epoch: 0093 (0.1194s) loss_train: 1.5499 acc_train: 0.8060 loss_val: 1.6077 acc_val: 0.7350\n",
            "Epoch: 0094 (0.1179s) loss_train: 1.5495 acc_train: 0.8043 loss_val: 1.6076 acc_val: 0.7350\n",
            "Epoch: 0095 (0.1187s) loss_train: 1.5492 acc_train: 0.8054 loss_val: 1.6075 acc_val: 0.7325\n",
            "Epoch: 0096 (0.1178s) loss_train: 1.5489 acc_train: 0.8037 loss_val: 1.6074 acc_val: 0.7300\n",
            "Epoch: 0097 (0.1172s) loss_train: 1.5489 acc_train: 0.8049 loss_val: 1.6075 acc_val: 0.7275\n",
            "Epoch: 0098 (0.1180s) loss_train: 1.5487 acc_train: 0.8037 loss_val: 1.6074 acc_val: 0.7250\n",
            "Epoch: 0099 (0.1177s) loss_train: 1.5481 acc_train: 0.8060 loss_val: 1.6070 acc_val: 0.7225\n",
            "Epoch: 0100 (0.1177s) loss_train: 1.5478 acc_train: 0.8043 loss_val: 1.6066 acc_val: 0.7225\n",
            "Epoch: 0101 (0.1197s) loss_train: 1.5479 acc_train: 0.8020 loss_val: 1.6066 acc_val: 0.7200\n",
            "Epoch: 0102 (0.1187s) loss_train: 1.5480 acc_train: 0.8031 loss_val: 1.6067 acc_val: 0.7225\n",
            "Epoch: 0103 (0.1193s) loss_train: 1.5481 acc_train: 0.8031 loss_val: 1.6067 acc_val: 0.7275\n",
            "Epoch: 0104 (0.1185s) loss_train: 1.5482 acc_train: 0.8025 loss_val: 1.6068 acc_val: 0.7275\n",
            "Epoch: 0105 (0.1184s) loss_train: 1.5485 acc_train: 0.8072 loss_val: 1.6069 acc_val: 0.7275\n",
            "Epoch: 0106 (0.1175s) loss_train: 1.5483 acc_train: 0.8078 loss_val: 1.6064 acc_val: 0.7300\n",
            "Epoch: 0107 (0.1177s) loss_train: 1.5479 acc_train: 0.8072 loss_val: 1.6059 acc_val: 0.7325\n",
            "Epoch: 0108 (0.1186s) loss_train: 1.5472 acc_train: 0.8083 loss_val: 1.6051 acc_val: 0.7225\n",
            "Epoch: 0109 (0.1182s) loss_train: 1.5464 acc_train: 0.8066 loss_val: 1.6044 acc_val: 0.7225\n",
            "Epoch: 0110 (0.1187s) loss_train: 1.5461 acc_train: 0.8089 loss_val: 1.6040 acc_val: 0.7225\n",
            "Epoch: 0111 (0.1193s) loss_train: 1.5460 acc_train: 0.8095 loss_val: 1.6039 acc_val: 0.7275\n",
            "Epoch: 0112 (0.1186s) loss_train: 1.5457 acc_train: 0.8066 loss_val: 1.6036 acc_val: 0.7250\n",
            "Epoch: 0113 (0.1179s) loss_train: 1.5455 acc_train: 0.8072 loss_val: 1.6034 acc_val: 0.7250\n",
            "Epoch: 0114 (0.1172s) loss_train: 1.5454 acc_train: 0.8089 loss_val: 1.6033 acc_val: 0.7225\n",
            "Epoch: 0115 (0.1181s) loss_train: 1.5454 acc_train: 0.8118 loss_val: 1.6033 acc_val: 0.7225\n",
            "Epoch: 0116 (0.1186s) loss_train: 1.5458 acc_train: 0.8124 loss_val: 1.6036 acc_val: 0.7225\n",
            "Epoch: 0117 (0.1185s) loss_train: 1.5464 acc_train: 0.8141 loss_val: 1.6043 acc_val: 0.7225\n",
            "Epoch: 0118 (0.1183s) loss_train: 1.5473 acc_train: 0.8124 loss_val: 1.6052 acc_val: 0.7250\n",
            "Epoch: 0119 (0.1188s) loss_train: 1.5480 acc_train: 0.8135 loss_val: 1.6058 acc_val: 0.7250\n",
            "Epoch: 0120 (0.1180s) loss_train: 1.5485 acc_train: 0.8135 loss_val: 1.6062 acc_val: 0.7250\n",
            "Epoch: 0121 (0.1172s) loss_train: 1.5492 acc_train: 0.8141 loss_val: 1.6066 acc_val: 0.7250\n",
            "Epoch: 0122 (0.1191s) loss_train: 1.5501 acc_train: 0.8141 loss_val: 1.6072 acc_val: 0.7250\n",
            "Epoch: 0123 (0.1180s) loss_train: 1.5512 acc_train: 0.8147 loss_val: 1.6078 acc_val: 0.7275\n",
            "Epoch: 0124 (0.1182s) loss_train: 1.5520 acc_train: 0.8147 loss_val: 1.6083 acc_val: 0.7300\n",
            "Epoch: 0125 (0.1183s) loss_train: 1.5524 acc_train: 0.8159 loss_val: 1.6084 acc_val: 0.7275\n",
            "Epoch: 0126 (0.1181s) loss_train: 1.5528 acc_train: 0.8147 loss_val: 1.6087 acc_val: 0.7250\n",
            "Epoch: 0127 (0.1180s) loss_train: 1.5532 acc_train: 0.8130 loss_val: 1.6090 acc_val: 0.7275\n",
            "Epoch: 0128 (0.1190s) loss_train: 1.5533 acc_train: 0.8118 loss_val: 1.6093 acc_val: 0.7250\n",
            "Epoch: 0129 (0.1186s) loss_train: 1.5532 acc_train: 0.8107 loss_val: 1.6093 acc_val: 0.7225\n",
            "Epoch: 0130 (0.1181s) loss_train: 1.5533 acc_train: 0.8101 loss_val: 1.6097 acc_val: 0.7250\n",
            "Epoch: 0131 (0.1182s) loss_train: 1.5532 acc_train: 0.8101 loss_val: 1.6099 acc_val: 0.7250\n",
            "Epoch: 0132 (0.1174s) loss_train: 1.5530 acc_train: 0.8089 loss_val: 1.6101 acc_val: 0.7225\n",
            "Epoch: 0133 (0.1179s) loss_train: 1.5530 acc_train: 0.8101 loss_val: 1.6105 acc_val: 0.7250\n",
            "Epoch: 0134 (0.1176s) loss_train: 1.5533 acc_train: 0.8101 loss_val: 1.6109 acc_val: 0.7225\n",
            "Epoch: 0135 (0.1188s) loss_train: 1.5534 acc_train: 0.8135 loss_val: 1.6110 acc_val: 0.7175\n",
            "Epoch: 0136 (0.1179s) loss_train: 1.5531 acc_train: 0.8141 loss_val: 1.6112 acc_val: 0.7150\n",
            "Epoch: 0137 (0.1187s) loss_train: 1.5527 acc_train: 0.8130 loss_val: 1.6112 acc_val: 0.7150\n",
            "Epoch: 0138 (0.1188s) loss_train: 1.5522 acc_train: 0.8124 loss_val: 1.6110 acc_val: 0.7075\n",
            "Epoch: 0139 (0.1181s) loss_train: 1.5518 acc_train: 0.8095 loss_val: 1.6110 acc_val: 0.7125\n",
            "Epoch: 0140 (0.1183s) loss_train: 1.5511 acc_train: 0.8072 loss_val: 1.6107 acc_val: 0.7100\n",
            "Epoch: 0141 (0.1179s) loss_train: 1.5500 acc_train: 0.8072 loss_val: 1.6096 acc_val: 0.7175\n",
            "Epoch: 0142 (0.1184s) loss_train: 1.5490 acc_train: 0.8066 loss_val: 1.6087 acc_val: 0.7150\n",
            "Epoch: 0143 (0.1177s) loss_train: 1.5482 acc_train: 0.8083 loss_val: 1.6079 acc_val: 0.7150\n",
            "Epoch: 0144 (0.1180s) loss_train: 1.5474 acc_train: 0.8083 loss_val: 1.6072 acc_val: 0.7175\n",
            "Epoch: 0145 (0.1185s) loss_train: 1.5464 acc_train: 0.8095 loss_val: 1.6061 acc_val: 0.7175\n",
            "Epoch: 0146 (0.1182s) loss_train: 1.5452 acc_train: 0.8089 loss_val: 1.6050 acc_val: 0.7225\n",
            "Epoch: 0147 (0.1176s) loss_train: 1.5443 acc_train: 0.8078 loss_val: 1.6040 acc_val: 0.7250\n",
            "Epoch: 0148 (0.1179s) loss_train: 1.5435 acc_train: 0.8049 loss_val: 1.6033 acc_val: 0.7275\n",
            "Epoch: 0149 (0.1180s) loss_train: 1.5431 acc_train: 0.8043 loss_val: 1.6031 acc_val: 0.7275\n",
            "Epoch: 0150 (0.1183s) loss_train: 1.5430 acc_train: 0.8049 loss_val: 1.6032 acc_val: 0.7250\n",
            "Epoch: 0151 (0.1188s) loss_train: 1.5433 acc_train: 0.8060 loss_val: 1.6034 acc_val: 0.7275\n",
            "Epoch: 0152 (0.1175s) loss_train: 1.5439 acc_train: 0.8078 loss_val: 1.6038 acc_val: 0.7300\n",
            "Epoch: 0153 (0.1178s) loss_train: 1.5448 acc_train: 0.8066 loss_val: 1.6044 acc_val: 0.7250\n",
            "Epoch: 0154 (0.1188s) loss_train: 1.5462 acc_train: 0.8095 loss_val: 1.6057 acc_val: 0.7350\n",
            "Epoch: 0155 (0.1184s) loss_train: 1.5479 acc_train: 0.8066 loss_val: 1.6073 acc_val: 0.7300\n",
            "Epoch: 0156 (0.1182s) loss_train: 1.5499 acc_train: 0.8066 loss_val: 1.6090 acc_val: 0.7300\n",
            "Epoch: 0157 (0.1180s) loss_train: 1.5516 acc_train: 0.8089 loss_val: 1.6105 acc_val: 0.7300\n",
            "Epoch: 0158 (0.1180s) loss_train: 1.5530 acc_train: 0.8089 loss_val: 1.6117 acc_val: 0.7300\n",
            "Epoch: 0159 (0.1179s) loss_train: 1.5541 acc_train: 0.8101 loss_val: 1.6125 acc_val: 0.7275\n",
            "Epoch: 0160 (0.1168s) loss_train: 1.5550 acc_train: 0.8112 loss_val: 1.6132 acc_val: 0.7275\n",
            "Epoch: 0161 (0.1188s) loss_train: 1.5556 acc_train: 0.8095 loss_val: 1.6136 acc_val: 0.7250\n",
            "Epoch: 0162 (0.1185s) loss_train: 1.5558 acc_train: 0.8066 loss_val: 1.6141 acc_val: 0.7200\n",
            "Epoch: 0163 (0.1177s) loss_train: 1.5561 acc_train: 0.8054 loss_val: 1.6146 acc_val: 0.7200\n",
            "Epoch: 0164 (0.1180s) loss_train: 1.5563 acc_train: 0.8066 loss_val: 1.6150 acc_val: 0.7250\n",
            "Epoch: 0165 (0.1182s) loss_train: 1.5563 acc_train: 0.8060 loss_val: 1.6152 acc_val: 0.7250\n",
            "Epoch: 0166 (0.1173s) loss_train: 1.5561 acc_train: 0.8072 loss_val: 1.6152 acc_val: 0.7250\n",
            "Epoch: 0167 (0.1187s) loss_train: 1.5561 acc_train: 0.8078 loss_val: 1.6152 acc_val: 0.7200\n",
            "Epoch: 0168 (0.1177s) loss_train: 1.5560 acc_train: 0.8089 loss_val: 1.6151 acc_val: 0.7200\n",
            "Epoch: 0169 (0.1178s) loss_train: 1.5557 acc_train: 0.8089 loss_val: 1.6147 acc_val: 0.7175\n",
            "Epoch: 0170 (0.1185s) loss_train: 1.5555 acc_train: 0.8107 loss_val: 1.6144 acc_val: 0.7125\n",
            "Epoch: 0171 (0.1180s) loss_train: 1.5553 acc_train: 0.8095 loss_val: 1.6137 acc_val: 0.7150\n",
            "Epoch: 0172 (0.1181s) loss_train: 1.5554 acc_train: 0.8083 loss_val: 1.6131 acc_val: 0.7125\n",
            "Epoch: 0173 (0.1180s) loss_train: 1.5556 acc_train: 0.8107 loss_val: 1.6129 acc_val: 0.7100\n",
            "Epoch: 0174 (0.1190s) loss_train: 1.5558 acc_train: 0.8112 loss_val: 1.6127 acc_val: 0.7075\n",
            "Epoch: 0175 (0.1182s) loss_train: 1.5560 acc_train: 0.8130 loss_val: 1.6126 acc_val: 0.7050\n",
            "Epoch: 0176 (0.1173s) loss_train: 1.5558 acc_train: 0.8124 loss_val: 1.6122 acc_val: 0.7025\n",
            "Early stopping...\n",
            "Best Val Loss: 1.6017, Best Val Acc: 0.7425\n",
            "Optimization Finished!\n",
            "Total time elapsed: 28.1098s\n",
            "Loading 76th epoch\n",
            "Test set results: loss 1.6022 accuracy 0.7208\n"
          ]
        }
      ],
      "source": [
        "# test train_and_evaluate function on citeseer\n",
        "# (This is for the  demonstration, you can run it. However running this cell will exceed the 8 minutes limits )\n",
        "best_model, loss_values, acc_values, loss_test, acc_test = train_and_evaluate(GAT_citeseer, (features, adj_mat), labels, idx_train, idx_val, args['epochs'], args['patience'], args['print'])"
      ]
    },
    {
      "cell_type": "markdown",
      "metadata": {
        "id": "F-UoHpk11IBL"
      },
      "source": [
        "For inductive learning GAT:"
      ]
    },
    {
      "cell_type": "code",
      "execution_count": 11,
      "metadata": {
        "colab": {
          "base_uri": "https://localhost:8080/"
        },
        "id": "LrZymBgCEfGn",
        "outputId": "e0f6525b-f13a-4e3c-ad4b-c17dcde59410"
      },
      "outputs": [
        {
          "output_type": "stream",
          "name": "stdout",
          "text": [
            "Training model...\n",
            "Epoch: 0001 | time: 5.4065s | Train loss: 0.7525 | Train micro F1: 0.4247 | Val loss: 0.5892 | Val micro F1: 0.4316\n",
            "\n",
            "Total time elapsed: 5.5106s  |  Average time elapsed: 5.5106s\n",
            "\n",
            "Best model performance @ Epoch 0001: \n",
            "Test loss: 0.5942  |  Test micro F1: 0.4330\n"
          ]
        }
      ],
      "source": [
        "# demonstration of train function for GAT PPI dataset\n",
        "ppi_train_params_demo = {\n",
        "  \"lr\": 5e-3,\n",
        "  \"weight_decay\": 0,\n",
        "  \"epochs\": 1,\n",
        "  \"patience\": 100,\n",
        "  \"model_name\": 'gat_ppi_demo'\n",
        "}\n",
        "best_model,_ ,_ ,_ ,_ = training_loop(model, ppi_train_params_demo)"
      ]
    },
    {
      "cell_type": "code",
      "execution_count": 14,
      "metadata": {
        "colab": {
          "base_uri": "https://localhost:8080/"
        },
        "id": "ef_Lt6OBIBy3",
        "outputId": "9060b1d5-dba9-4cf6-c7d8-a2b4cb4b0b73"
      },
      "outputs": [
        {
          "output_type": "stream",
          "name": "stdout",
          "text": [
            "Training model...\n",
            "Epoch: 0001 | time: 3.4501s | Train loss: 0.7459 | Train micro F1: 0.4315 | Val loss: 0.5772 | Val micro F1: 0.4321\n",
            "Epoch: 0002 | time: 3.3759s | Train loss: 0.5651 | Train micro F1: 0.4604 | Val loss: 0.5357 | Val micro F1: 0.5081\n",
            "Epoch: 0003 | time: 3.8666s | Train loss: 0.5293 | Train micro F1: 0.4915 | Val loss: 0.5040 | Val micro F1: 0.5050\n",
            "Epoch: 0004 | time: 3.3955s | Train loss: 0.5094 | Train micro F1: 0.5162 | Val loss: 0.4932 | Val micro F1: 0.4869\n",
            "Epoch: 0005 | time: 3.3813s | Train loss: 0.5001 | Train micro F1: 0.5267 | Val loss: 0.4862 | Val micro F1: 0.4938\n",
            "Epoch: 0006 | time: 3.7261s | Train loss: 0.4899 | Train micro F1: 0.5410 | Val loss: 0.4776 | Val micro F1: 0.5501\n",
            "Epoch: 0007 | time: 3.6333s | Train loss: 0.4810 | Train micro F1: 0.5633 | Val loss: 0.4705 | Val micro F1: 0.5435\n",
            "Epoch: 0008 | time: 3.3986s | Train loss: 0.4705 | Train micro F1: 0.5753 | Val loss: 0.4633 | Val micro F1: 0.5884\n",
            "Epoch: 0009 | time: 3.4399s | Train loss: 0.4811 | Train micro F1: 0.5630 | Val loss: 0.4713 | Val micro F1: 0.5805\n",
            "Epoch: 0010 | time: 3.8965s | Train loss: 0.4659 | Train micro F1: 0.5857 | Val loss: 0.4566 | Val micro F1: 0.5858\n",
            "Epoch: 0011 | time: 3.4402s | Train loss: 0.4511 | Train micro F1: 0.6082 | Val loss: 0.4449 | Val micro F1: 0.5773\n",
            "Epoch: 0012 | time: 3.4483s | Train loss: 0.4393 | Train micro F1: 0.6228 | Val loss: 0.4352 | Val micro F1: 0.5826\n",
            "Epoch: 0013 | time: 3.7041s | Train loss: 0.4265 | Train micro F1: 0.6379 | Val loss: 0.4254 | Val micro F1: 0.6279\n",
            "Epoch: 0014 | time: 3.7747s | Train loss: 0.4205 | Train micro F1: 0.6516 | Val loss: 0.4360 | Val micro F1: 0.5553\n",
            "Epoch: 0015 | time: 3.4657s | Train loss: 0.4292 | Train micro F1: 0.6371 | Val loss: 0.4210 | Val micro F1: 0.6179\n",
            "Epoch: 0016 | time: 3.4442s | Train loss: 0.4120 | Train micro F1: 0.6562 | Val loss: 0.4082 | Val micro F1: 0.6324\n",
            "Epoch: 0017 | time: 3.9184s | Train loss: 0.3888 | Train micro F1: 0.6872 | Val loss: 0.3899 | Val micro F1: 0.6692\n",
            "Epoch: 0018 | time: 3.7559s | Train loss: 0.3729 | Train micro F1: 0.7051 | Val loss: 0.3759 | Val micro F1: 0.6901\n",
            "Epoch: 0019 | time: 3.4591s | Train loss: 0.3579 | Train micro F1: 0.7214 | Val loss: 0.3635 | Val micro F1: 0.7007\n",
            "Epoch: 0020 | time: 3.7289s | Train loss: 0.3531 | Train micro F1: 0.7262 | Val loss: 0.3605 | Val micro F1: 0.6910\n",
            "Epoch: 0021 | time: 3.7536s | Train loss: 0.3463 | Train micro F1: 0.7321 | Val loss: 0.3512 | Val micro F1: 0.7332\n",
            "Epoch: 0022 | time: 3.4465s | Train loss: 0.3326 | Train micro F1: 0.7494 | Val loss: 0.3430 | Val micro F1: 0.7320\n",
            "Epoch: 0023 | time: 3.4670s | Train loss: 0.3184 | Train micro F1: 0.7620 | Val loss: 0.3402 | Val micro F1: 0.7514\n",
            "Epoch: 0024 | time: 4.5712s | Train loss: 0.3124 | Train micro F1: 0.7697 | Val loss: 0.3251 | Val micro F1: 0.7358\n",
            "Epoch: 0025 | time: 3.4634s | Train loss: 0.3087 | Train micro F1: 0.7713 | Val loss: 0.3343 | Val micro F1: 0.7599\n",
            "Epoch: 0026 | time: 3.4521s | Train loss: 0.3043 | Train micro F1: 0.7780 | Val loss: 0.3129 | Val micro F1: 0.7604\n",
            "Epoch: 0027 | time: 3.7153s | Train loss: 0.2799 | Train micro F1: 0.7998 | Val loss: 0.2977 | Val micro F1: 0.7796\n",
            "Epoch: 0028 | time: 3.7308s | Train loss: 0.2687 | Train micro F1: 0.8103 | Val loss: 0.2901 | Val micro F1: 0.7901\n",
            "Epoch: 0029 | time: 3.4740s | Train loss: 0.2611 | Train micro F1: 0.8167 | Val loss: 0.2843 | Val micro F1: 0.7864\n",
            "Epoch: 0030 | time: 3.4866s | Train loss: 0.2730 | Train micro F1: 0.8050 | Val loss: 0.3151 | Val micro F1: 0.7453\n",
            "Epoch: 0031 | time: 3.9698s | Train loss: 0.2809 | Train micro F1: 0.7984 | Val loss: 0.2988 | Val micro F1: 0.7885\n",
            "Epoch: 0032 | time: 3.4638s | Train loss: 0.2593 | Train micro F1: 0.8195 | Val loss: 0.2768 | Val micro F1: 0.7959\n",
            "Epoch: 0033 | time: 3.4856s | Train loss: 0.2341 | Train micro F1: 0.8420 | Val loss: 0.2586 | Val micro F1: 0.8169\n",
            "Epoch: 0034 | time: 3.7223s | Train loss: 0.2171 | Train micro F1: 0.8566 | Val loss: 0.2496 | Val micro F1: 0.8250\n",
            "Epoch: 0035 | time: 3.8268s | Train loss: 0.2060 | Train micro F1: 0.8656 | Val loss: 0.2398 | Val micro F1: 0.8329\n",
            "Epoch: 0036 | time: 3.4804s | Train loss: 0.1968 | Train micro F1: 0.8725 | Val loss: 0.2361 | Val micro F1: 0.8352\n",
            "Epoch: 0037 | time: 3.4904s | Train loss: 0.1910 | Train micro F1: 0.8766 | Val loss: 0.2316 | Val micro F1: 0.8417\n",
            "Epoch: 0038 | time: 3.9682s | Train loss: 0.1943 | Train micro F1: 0.8729 | Val loss: 0.2443 | Val micro F1: 0.8220\n",
            "Epoch: 0039 | time: 3.4976s | Train loss: 0.1954 | Train micro F1: 0.8715 | Val loss: 0.2371 | Val micro F1: 0.8425\n",
            "Epoch: 0040 | time: 3.4760s | Train loss: 0.2189 | Train micro F1: 0.8514 | Val loss: 0.2464 | Val micro F1: 0.8338\n",
            "Epoch: 0041 | time: 4.0562s | Train loss: 0.2079 | Train micro F1: 0.8613 | Val loss: 0.2409 | Val micro F1: 0.8398\n",
            "Epoch: 0042 | time: 4.0966s | Train loss: 0.1931 | Train micro F1: 0.8737 | Val loss: 0.2296 | Val micro F1: 0.8429\n",
            "Epoch: 0043 | time: 3.4960s | Train loss: 0.1949 | Train micro F1: 0.8705 | Val loss: 0.2278 | Val micro F1: 0.8489\n",
            "Epoch: 0044 | time: 3.4783s | Train loss: 0.1819 | Train micro F1: 0.8819 | Val loss: 0.2160 | Val micro F1: 0.8585\n",
            "Epoch: 0045 | time: 3.8878s | Train loss: 0.1649 | Train micro F1: 0.8965 | Val loss: 0.2065 | Val micro F1: 0.8681\n",
            "Epoch: 0046 | time: 3.6120s | Train loss: 0.1537 | Train micro F1: 0.9050 | Val loss: 0.1970 | Val micro F1: 0.8746\n",
            "Epoch: 0047 | time: 3.7449s | Train loss: 0.1443 | Train micro F1: 0.9123 | Val loss: 0.1935 | Val micro F1: 0.8778\n",
            "Epoch: 0048 | time: 3.5520s | Train loss: 0.1369 | Train micro F1: 0.9176 | Val loss: 0.1886 | Val micro F1: 0.8811\n",
            "Epoch: 0049 | time: 3.9165s | Train loss: 0.1321 | Train micro F1: 0.9209 | Val loss: 0.1832 | Val micro F1: 0.8880\n",
            "Epoch: 0050 | time: 3.4793s | Train loss: 0.1296 | Train micro F1: 0.9223 | Val loss: 0.1854 | Val micro F1: 0.8876\n",
            "Epoch: 0051 | time: 3.4830s | Train loss: 0.1321 | Train micro F1: 0.9193 | Val loss: 0.1897 | Val micro F1: 0.8858\n",
            "Epoch: 0052 | time: 4.6763s | Train loss: 0.1345 | Train micro F1: 0.9174 | Val loss: 0.1887 | Val micro F1: 0.8801\n",
            "Epoch: 0053 | time: 3.5614s | Train loss: 0.1579 | Train micro F1: 0.8980 | Val loss: 0.2136 | Val micro F1: 0.8598\n",
            "Epoch: 0054 | time: 3.4910s | Train loss: 0.1615 | Train micro F1: 0.8969 | Val loss: 0.2116 | Val micro F1: 0.8678\n",
            "Epoch: 0055 | time: 3.5952s | Train loss: 0.1739 | Train micro F1: 0.8880 | Val loss: 0.2100 | Val micro F1: 0.8661\n",
            "Epoch: 0056 | time: 3.9449s | Train loss: 0.1467 | Train micro F1: 0.9078 | Val loss: 0.1925 | Val micro F1: 0.8824\n",
            "Epoch: 0057 | time: 3.4670s | Train loss: 0.1294 | Train micro F1: 0.9213 | Val loss: 0.1761 | Val micro F1: 0.8937\n",
            "Epoch: 0058 | time: 3.4851s | Train loss: 0.1193 | Train micro F1: 0.9286 | Val loss: 0.1681 | Val micro F1: 0.9016\n",
            "Epoch: 0059 | time: 3.9094s | Train loss: 0.1131 | Train micro F1: 0.9328 | Val loss: 0.1657 | Val micro F1: 0.9017\n",
            "Epoch: 0060 | time: 3.6264s | Train loss: 0.1106 | Train micro F1: 0.9341 | Val loss: 0.1648 | Val micro F1: 0.9027\n",
            "Epoch: 0061 | time: 3.4700s | Train loss: 0.1092 | Train micro F1: 0.9355 | Val loss: 0.1693 | Val micro F1: 0.8979\n",
            "Epoch: 0062 | time: 3.4904s | Train loss: 0.1068 | Train micro F1: 0.9368 | Val loss: 0.1658 | Val micro F1: 0.9019\n",
            "Epoch: 0063 | time: 4.0494s | Train loss: 0.1054 | Train micro F1: 0.9371 | Val loss: 0.1679 | Val micro F1: 0.9003\n",
            "Epoch: 0064 | time: 3.4886s | Train loss: 0.1017 | Train micro F1: 0.9397 | Val loss: 0.1563 | Val micro F1: 0.9100\n",
            "Epoch: 0065 | time: 3.5184s | Train loss: 0.1050 | Train micro F1: 0.9367 | Val loss: 0.1603 | Val micro F1: 0.9063\n",
            "Epoch: 0066 | time: 3.8401s | Train loss: 0.1010 | Train micro F1: 0.9399 | Val loss: 0.1606 | Val micro F1: 0.9076\n",
            "Epoch: 0067 | time: 3.6879s | Train loss: 0.1033 | Train micro F1: 0.9382 | Val loss: 0.1611 | Val micro F1: 0.9067\n",
            "Epoch: 0068 | time: 3.5010s | Train loss: 0.1023 | Train micro F1: 0.9384 | Val loss: 0.1624 | Val micro F1: 0.9092\n",
            "Epoch: 0069 | time: 3.4833s | Train loss: 0.1039 | Train micro F1: 0.9375 | Val loss: 0.1610 | Val micro F1: 0.9079\n",
            "Epoch: 0070 | time: 3.9739s | Train loss: 0.1070 | Train micro F1: 0.9348 | Val loss: 0.1679 | Val micro F1: 0.9050\n",
            "Epoch: 0071 | time: 3.5055s | Train loss: 0.1071 | Train micro F1: 0.9352 | Val loss: 0.1609 | Val micro F1: 0.9057\n",
            "Epoch: 0072 | time: 3.5118s | Train loss: 0.1056 | Train micro F1: 0.9357 | Val loss: 0.1739 | Val micro F1: 0.9019\n",
            "Epoch: 0073 | time: 3.7201s | Train loss: 0.1027 | Train micro F1: 0.9387 | Val loss: 0.1546 | Val micro F1: 0.9123\n",
            "Epoch: 0074 | time: 3.8105s | Train loss: 0.0931 | Train micro F1: 0.9449 | Val loss: 0.1515 | Val micro F1: 0.9170\n",
            "Epoch: 0075 | time: 3.4827s | Train loss: 0.0868 | Train micro F1: 0.9498 | Val loss: 0.1493 | Val micro F1: 0.9182\n",
            "Epoch: 0076 | time: 3.4738s | Train loss: 0.0831 | Train micro F1: 0.9524 | Val loss: 0.1475 | Val micro F1: 0.9198\n",
            "Epoch: 0077 | time: 4.0535s | Train loss: 0.0828 | Train micro F1: 0.9523 | Val loss: 0.1516 | Val micro F1: 0.9178\n",
            "Epoch: 0078 | time: 3.5096s | Train loss: 0.0838 | Train micro F1: 0.9514 | Val loss: 0.1487 | Val micro F1: 0.9186\n",
            "Epoch: 0079 | time: 3.4863s | Train loss: 0.0828 | Train micro F1: 0.9519 | Val loss: 0.1472 | Val micro F1: 0.9200\n",
            "Epoch: 0080 | time: 3.6867s | Train loss: 0.0816 | Train micro F1: 0.9526 | Val loss: 0.1467 | Val micro F1: 0.9188\n",
            "Epoch: 0081 | time: 4.0265s | Train loss: 0.0826 | Train micro F1: 0.9515 | Val loss: 0.1490 | Val micro F1: 0.9176\n",
            "Epoch: 0082 | time: 3.4840s | Train loss: 0.0841 | Train micro F1: 0.9502 | Val loss: 0.1530 | Val micro F1: 0.9135\n",
            "Epoch: 0083 | time: 3.9424s | Train loss: 0.0856 | Train micro F1: 0.9491 | Val loss: 0.1488 | Val micro F1: 0.9201\n",
            "Epoch: 0084 | time: 4.0770s | Train loss: 0.0992 | Train micro F1: 0.9398 | Val loss: 0.1792 | Val micro F1: 0.8964\n",
            "Epoch: 0085 | time: 3.4943s | Train loss: 0.1047 | Train micro F1: 0.9360 | Val loss: 0.1667 | Val micro F1: 0.9077\n",
            "Epoch: 0086 | time: 3.5059s | Train loss: 0.1095 | Train micro F1: 0.9345 | Val loss: 0.1605 | Val micro F1: 0.9092\n",
            "Epoch: 0087 | time: 3.7715s | Train loss: 0.0910 | Train micro F1: 0.9460 | Val loss: 0.1509 | Val micro F1: 0.9178\n",
            "Epoch: 0088 | time: 3.7803s | Train loss: 0.0841 | Train micro F1: 0.9499 | Val loss: 0.1415 | Val micro F1: 0.9243\n",
            "Epoch: 0089 | time: 3.4674s | Train loss: 0.0821 | Train micro F1: 0.9512 | Val loss: 0.1461 | Val micro F1: 0.9209\n",
            "Epoch: 0090 | time: 3.5222s | Train loss: 0.0816 | Train micro F1: 0.9513 | Val loss: 0.1440 | Val micro F1: 0.9229\n",
            "Epoch: 0091 | time: 3.9955s | Train loss: 0.0794 | Train micro F1: 0.9534 | Val loss: 0.1433 | Val micro F1: 0.9220\n",
            "Epoch: 0092 | time: 3.4863s | Train loss: 0.0759 | Train micro F1: 0.9562 | Val loss: 0.1383 | Val micro F1: 0.9260\n",
            "Epoch: 0093 | time: 3.4828s | Train loss: 0.0752 | Train micro F1: 0.9561 | Val loss: 0.1392 | Val micro F1: 0.9266\n",
            "Epoch: 0094 | time: 3.7058s | Train loss: 0.0738 | Train micro F1: 0.9570 | Val loss: 0.1417 | Val micro F1: 0.9260\n",
            "Epoch: 0095 | time: 3.8713s | Train loss: 0.0759 | Train micro F1: 0.9554 | Val loss: 0.1460 | Val micro F1: 0.9250\n",
            "Epoch: 0096 | time: 3.4744s | Train loss: 0.0839 | Train micro F1: 0.9495 | Val loss: 0.1403 | Val micro F1: 0.9269\n",
            "Epoch: 0097 | time: 3.4969s | Train loss: 0.0803 | Train micro F1: 0.9527 | Val loss: 0.1451 | Val micro F1: 0.9224\n",
            "Epoch: 0098 | time: 4.0328s | Train loss: 0.0769 | Train micro F1: 0.9550 | Val loss: 0.1443 | Val micro F1: 0.9233\n",
            "Epoch: 0099 | time: 3.5146s | Train loss: 0.0751 | Train micro F1: 0.9563 | Val loss: 0.1424 | Val micro F1: 0.9263\n",
            "Epoch: 0100 | time: 3.4863s | Train loss: 0.0706 | Train micro F1: 0.9594 | Val loss: 0.1385 | Val micro F1: 0.9301\n",
            "Epoch: 0101 | time: 3.5592s | Train loss: 0.0674 | Train micro F1: 0.9616 | Val loss: 0.1287 | Val micro F1: 0.9344\n",
            "Epoch: 0102 | time: 3.9349s | Train loss: 0.0613 | Train micro F1: 0.9656 | Val loss: 0.1234 | Val micro F1: 0.9369\n",
            "Epoch: 0103 | time: 3.4978s | Train loss: 0.0566 | Train micro F1: 0.9685 | Val loss: 0.1241 | Val micro F1: 0.9379\n",
            "Epoch: 0104 | time: 3.4776s | Train loss: 0.0584 | Train micro F1: 0.9680 | Val loss: 0.1270 | Val micro F1: 0.9371\n",
            "Epoch: 0105 | time: 3.9085s | Train loss: 0.0536 | Train micro F1: 0.9712 | Val loss: 0.1215 | Val micro F1: 0.9399\n",
            "Epoch: 0106 | time: 3.5798s | Train loss: 0.0497 | Train micro F1: 0.9735 | Val loss: 0.1179 | Val micro F1: 0.9434\n",
            "Epoch: 0107 | time: 3.4966s | Train loss: 0.0454 | Train micro F1: 0.9758 | Val loss: 0.1153 | Val micro F1: 0.9441\n",
            "Epoch: 0108 | time: 3.5762s | Train loss: 0.0431 | Train micro F1: 0.9775 | Val loss: 0.1155 | Val micro F1: 0.9448\n",
            "Epoch: 0109 | time: 3.9269s | Train loss: 0.0426 | Train micro F1: 0.9778 | Val loss: 0.1157 | Val micro F1: 0.9453\n",
            "Epoch: 0110 | time: 3.5246s | Train loss: 0.0418 | Train micro F1: 0.9779 | Val loss: 0.1198 | Val micro F1: 0.9431\n",
            "Epoch: 0111 | time: 3.5282s | Train loss: 0.0434 | Train micro F1: 0.9769 | Val loss: 0.1178 | Val micro F1: 0.9438\n",
            "Epoch: 0112 | time: 3.9292s | Train loss: 0.0448 | Train micro F1: 0.9758 | Val loss: 0.1182 | Val micro F1: 0.9438\n",
            "Epoch: 0113 | time: 3.6183s | Train loss: 0.0454 | Train micro F1: 0.9751 | Val loss: 0.1241 | Val micro F1: 0.9402\n",
            "Epoch: 0114 | time: 3.4925s | Train loss: 0.0486 | Train micro F1: 0.9729 | Val loss: 0.1249 | Val micro F1: 0.9404\n",
            "Epoch: 0115 | time: 3.4727s | Train loss: 0.0522 | Train micro F1: 0.9704 | Val loss: 0.1298 | Val micro F1: 0.9378\n",
            "Epoch: 0116 | time: 3.9794s | Train loss: 0.0529 | Train micro F1: 0.9702 | Val loss: 0.1248 | Val micro F1: 0.9408\n",
            "Epoch: 0117 | time: 3.4767s | Train loss: 0.0542 | Train micro F1: 0.9693 | Val loss: 0.1233 | Val micro F1: 0.9401\n",
            "Epoch: 0118 | time: 3.4917s | Train loss: 0.0513 | Train micro F1: 0.9713 | Val loss: 0.1225 | Val micro F1: 0.9411\n",
            "Epoch: 0119 | time: 3.7786s | Train loss: 0.0524 | Train micro F1: 0.9704 | Val loss: 0.1267 | Val micro F1: 0.9403\n",
            "Epoch: 0120 | time: 3.7849s | Train loss: 0.0482 | Train micro F1: 0.9730 | Val loss: 0.1195 | Val micro F1: 0.9438\n",
            "Epoch: 0121 | time: 3.5108s | Train loss: 0.0456 | Train micro F1: 0.9746 | Val loss: 0.1165 | Val micro F1: 0.9444\n",
            "Epoch: 0122 | time: 3.4668s | Train loss: 0.0416 | Train micro F1: 0.9774 | Val loss: 0.1180 | Val micro F1: 0.9458\n",
            "Epoch: 0123 | time: 4.0149s | Train loss: 0.0384 | Train micro F1: 0.9796 | Val loss: 0.1154 | Val micro F1: 0.9467\n",
            "Epoch: 0124 | time: 3.4824s | Train loss: 0.0353 | Train micro F1: 0.9817 | Val loss: 0.1090 | Val micro F1: 0.9504\n",
            "Epoch: 0125 | time: 3.4711s | Train loss: 0.0345 | Train micro F1: 0.9822 | Val loss: 0.1126 | Val micro F1: 0.9486\n",
            "Epoch: 0126 | time: 4.2029s | Train loss: 0.0344 | Train micro F1: 0.9825 | Val loss: 0.1142 | Val micro F1: 0.9486\n",
            "Epoch: 0127 | time: 4.0329s | Train loss: 0.0338 | Train micro F1: 0.9826 | Val loss: 0.1122 | Val micro F1: 0.9496\n",
            "Epoch: 0128 | time: 3.4829s | Train loss: 0.0336 | Train micro F1: 0.9826 | Val loss: 0.1127 | Val micro F1: 0.9500\n",
            "Epoch: 0129 | time: 3.4755s | Train loss: 0.0337 | Train micro F1: 0.9829 | Val loss: 0.1136 | Val micro F1: 0.9495\n",
            "Epoch: 0130 | time: 3.8152s | Train loss: 0.0321 | Train micro F1: 0.9836 | Val loss: 0.1148 | Val micro F1: 0.9490\n",
            "Epoch: 0131 | time: 3.6869s | Train loss: 0.0378 | Train micro F1: 0.9812 | Val loss: 0.1220 | Val micro F1: 0.9464\n",
            "Epoch: 0132 | time: 3.4899s | Train loss: 0.0391 | Train micro F1: 0.9811 | Val loss: 0.1164 | Val micro F1: 0.9481\n",
            "Epoch: 0133 | time: 3.4948s | Train loss: 0.0339 | Train micro F1: 0.9825 | Val loss: 0.1100 | Val micro F1: 0.9514\n",
            "Epoch: 0134 | time: 3.9601s | Train loss: 0.0362 | Train micro F1: 0.9807 | Val loss: 0.1147 | Val micro F1: 0.9492\n",
            "Epoch: 0135 | time: 3.5065s | Train loss: 0.0360 | Train micro F1: 0.9811 | Val loss: 0.1150 | Val micro F1: 0.9487\n",
            "Epoch: 0136 | time: 3.5297s | Train loss: 0.0372 | Train micro F1: 0.9797 | Val loss: 0.1187 | Val micro F1: 0.9469\n",
            "Epoch: 0137 | time: 3.7356s | Train loss: 0.0380 | Train micro F1: 0.9790 | Val loss: 0.1156 | Val micro F1: 0.9492\n",
            "Epoch: 0138 | time: 3.7846s | Train loss: 0.0410 | Train micro F1: 0.9773 | Val loss: 0.1210 | Val micro F1: 0.9466\n",
            "Epoch: 0139 | time: 3.4888s | Train loss: 0.0385 | Train micro F1: 0.9789 | Val loss: 0.1174 | Val micro F1: 0.9476\n",
            "Epoch: 0140 | time: 3.4775s | Train loss: 0.0372 | Train micro F1: 0.9795 | Val loss: 0.1204 | Val micro F1: 0.9468\n",
            "Epoch: 0141 | time: 4.0048s | Train loss: 0.0383 | Train micro F1: 0.9795 | Val loss: 0.1196 | Val micro F1: 0.9482\n",
            "Epoch: 0142 | time: 3.5126s | Train loss: 0.0349 | Train micro F1: 0.9815 | Val loss: 0.1162 | Val micro F1: 0.9507\n",
            "Epoch: 0143 | time: 3.4815s | Train loss: 0.0311 | Train micro F1: 0.9836 | Val loss: 0.1096 | Val micro F1: 0.9525\n",
            "Epoch: 0144 | time: 3.6745s | Train loss: 0.0299 | Train micro F1: 0.9847 | Val loss: 0.1120 | Val micro F1: 0.9526\n",
            "Epoch: 0145 | time: 3.9086s | Train loss: 0.0292 | Train micro F1: 0.9857 | Val loss: 0.1126 | Val micro F1: 0.9523\n",
            "Epoch: 0146 | time: 3.5543s | Train loss: 0.0266 | Train micro F1: 0.9866 | Val loss: 0.1079 | Val micro F1: 0.9544\n",
            "Epoch: 0147 | time: 3.5042s | Train loss: 0.0257 | Train micro F1: 0.9876 | Val loss: 0.1106 | Val micro F1: 0.9542\n",
            "Epoch: 0148 | time: 4.0660s | Train loss: 0.0244 | Train micro F1: 0.9882 | Val loss: 0.1086 | Val micro F1: 0.9555\n",
            "Epoch: 0149 | time: 3.5316s | Train loss: 0.0230 | Train micro F1: 0.9893 | Val loss: 0.1094 | Val micro F1: 0.9554\n",
            "Epoch: 0150 | time: 3.4777s | Train loss: 0.0227 | Train micro F1: 0.9892 | Val loss: 0.1107 | Val micro F1: 0.9554\n",
            "Epoch: 0151 | time: 3.6487s | Train loss: 0.0230 | Train micro F1: 0.9896 | Val loss: 0.1120 | Val micro F1: 0.9540\n",
            "Epoch: 0152 | time: 3.9495s | Train loss: 0.0222 | Train micro F1: 0.9895 | Val loss: 0.1132 | Val micro F1: 0.9544\n",
            "Epoch: 0153 | time: 3.4723s | Train loss: 0.0226 | Train micro F1: 0.9895 | Val loss: 0.1087 | Val micro F1: 0.9558\n",
            "Epoch: 0154 | time: 3.5016s | Train loss: 0.0238 | Train micro F1: 0.9885 | Val loss: 0.1113 | Val micro F1: 0.9550\n",
            "Epoch: 0155 | time: 3.9527s | Train loss: 0.0255 | Train micro F1: 0.9880 | Val loss: 0.1118 | Val micro F1: 0.9543\n",
            "Epoch: 0156 | time: 3.6201s | Train loss: 0.0246 | Train micro F1: 0.9877 | Val loss: 0.1123 | Val micro F1: 0.9548\n",
            "Epoch: 0157 | time: 3.4813s | Train loss: 0.0255 | Train micro F1: 0.9872 | Val loss: 0.1122 | Val micro F1: 0.9541\n",
            "Epoch: 0158 | time: 3.4859s | Train loss: 0.0275 | Train micro F1: 0.9856 | Val loss: 0.1156 | Val micro F1: 0.9532\n",
            "Epoch: 0159 | time: 3.9772s | Train loss: 0.0291 | Train micro F1: 0.9850 | Val loss: 0.1239 | Val micro F1: 0.9487\n",
            "Epoch: 0160 | time: 3.4803s | Train loss: 0.0320 | Train micro F1: 0.9834 | Val loss: 0.1224 | Val micro F1: 0.9503\n",
            "Epoch: 0161 | time: 3.4825s | Train loss: 0.0354 | Train micro F1: 0.9818 | Val loss: 0.1240 | Val micro F1: 0.9489\n",
            "Epoch: 0162 | time: 3.7818s | Train loss: 0.0363 | Train micro F1: 0.9805 | Val loss: 0.1221 | Val micro F1: 0.9501\n",
            "Epoch: 0163 | time: 3.7360s | Train loss: 0.0468 | Train micro F1: 0.9730 | Val loss: 0.1346 | Val micro F1: 0.9416\n",
            "Epoch: 0164 | time: 3.5095s | Train loss: 0.0475 | Train micro F1: 0.9730 | Val loss: 0.1457 | Val micro F1: 0.9361\n",
            "Epoch: 0165 | time: 3.5047s | Train loss: 0.0627 | Train micro F1: 0.9640 | Val loss: 0.1494 | Val micro F1: 0.9332\n",
            "Epoch: 0166 | time: 3.9929s | Train loss: 0.0733 | Train micro F1: 0.9574 | Val loss: 0.1737 | Val micro F1: 0.9177\n",
            "Epoch: 0167 | time: 3.4819s | Train loss: 0.0734 | Train micro F1: 0.9578 | Val loss: 0.1524 | Val micro F1: 0.9319\n",
            "Epoch: 0168 | time: 3.4910s | Train loss: 0.0940 | Train micro F1: 0.9464 | Val loss: 0.1760 | Val micro F1: 0.9169\n",
            "Epoch: 0169 | time: 3.7040s | Train loss: 0.0854 | Train micro F1: 0.9504 | Val loss: 0.1559 | Val micro F1: 0.9275\n",
            "Epoch: 0170 | time: 4.3786s | Train loss: 0.0670 | Train micro F1: 0.9614 | Val loss: 0.1411 | Val micro F1: 0.9356\n",
            "Epoch: 0171 | time: 3.5729s | Train loss: 0.0565 | Train micro F1: 0.9677 | Val loss: 0.1333 | Val micro F1: 0.9409\n",
            "Epoch: 0172 | time: 3.4707s | Train loss: 0.0475 | Train micro F1: 0.9732 | Val loss: 0.1298 | Val micro F1: 0.9436\n",
            "Epoch: 0173 | time: 3.7686s | Train loss: 0.0424 | Train micro F1: 0.9762 | Val loss: 0.1242 | Val micro F1: 0.9474\n",
            "Epoch: 0174 | time: 3.8444s | Train loss: 0.0359 | Train micro F1: 0.9806 | Val loss: 0.1179 | Val micro F1: 0.9511\n",
            "Epoch: 0175 | time: 3.5018s | Train loss: 0.0299 | Train micro F1: 0.9845 | Val loss: 0.1112 | Val micro F1: 0.9535\n",
            "Epoch: 0176 | time: 3.5252s | Train loss: 0.0254 | Train micro F1: 0.9873 | Val loss: 0.1107 | Val micro F1: 0.9559\n",
            "Epoch: 0177 | time: 4.0351s | Train loss: 0.0219 | Train micro F1: 0.9895 | Val loss: 0.1068 | Val micro F1: 0.9580\n",
            "Epoch: 0178 | time: 3.5020s | Train loss: 0.0201 | Train micro F1: 0.9907 | Val loss: 0.1060 | Val micro F1: 0.9594\n",
            "Epoch: 0179 | time: 3.5180s | Train loss: 0.0196 | Train micro F1: 0.9912 | Val loss: 0.1037 | Val micro F1: 0.9600\n",
            "Epoch: 0180 | time: 3.7214s | Train loss: 0.0195 | Train micro F1: 0.9913 | Val loss: 0.1080 | Val micro F1: 0.9582\n",
            "Epoch: 0181 | time: 3.8324s | Train loss: 0.0200 | Train micro F1: 0.9910 | Val loss: 0.1088 | Val micro F1: 0.9581\n",
            "Epoch: 0182 | time: 3.5288s | Train loss: 0.0199 | Train micro F1: 0.9914 | Val loss: 0.1089 | Val micro F1: 0.9586\n",
            "Epoch: 0183 | time: 3.4881s | Train loss: 0.0192 | Train micro F1: 0.9916 | Val loss: 0.1091 | Val micro F1: 0.9581\n",
            "Epoch: 0184 | time: 3.9782s | Train loss: 0.0191 | Train micro F1: 0.9914 | Val loss: 0.1107 | Val micro F1: 0.9583\n",
            "Epoch: 0185 | time: 3.6028s | Train loss: 0.0196 | Train micro F1: 0.9910 | Val loss: 0.1126 | Val micro F1: 0.9571\n",
            "Epoch: 0186 | time: 3.4972s | Train loss: 0.0200 | Train micro F1: 0.9907 | Val loss: 0.1131 | Val micro F1: 0.9576\n",
            "Epoch: 0187 | time: 3.5340s | Train loss: 0.0198 | Train micro F1: 0.9907 | Val loss: 0.1131 | Val micro F1: 0.9583\n",
            "Epoch: 0188 | time: 3.9408s | Train loss: 0.0207 | Train micro F1: 0.9907 | Val loss: 0.1134 | Val micro F1: 0.9570\n",
            "Epoch: 0189 | time: 3.4843s | Train loss: 0.0200 | Train micro F1: 0.9906 | Val loss: 0.1129 | Val micro F1: 0.9569\n",
            "Epoch: 0190 | time: 3.5260s | Train loss: 0.0196 | Train micro F1: 0.9908 | Val loss: 0.1143 | Val micro F1: 0.9567\n",
            "Epoch: 0191 | time: 3.8448s | Train loss: 0.0197 | Train micro F1: 0.9907 | Val loss: 0.1135 | Val micro F1: 0.9573\n",
            "Epoch: 0192 | time: 3.7059s | Train loss: 0.0200 | Train micro F1: 0.9910 | Val loss: 0.1110 | Val micro F1: 0.9577\n",
            "Epoch: 0193 | time: 3.5374s | Train loss: 0.0186 | Train micro F1: 0.9913 | Val loss: 0.1100 | Val micro F1: 0.9587\n",
            "Epoch: 0194 | time: 3.4983s | Train loss: 0.0188 | Train micro F1: 0.9913 | Val loss: 0.1124 | Val micro F1: 0.9583\n",
            "Epoch: 0195 | time: 3.9831s | Train loss: 0.0196 | Train micro F1: 0.9909 | Val loss: 0.1162 | Val micro F1: 0.9568\n",
            "Epoch: 0196 | time: 3.4963s | Train loss: 0.0204 | Train micro F1: 0.9905 | Val loss: 0.1151 | Val micro F1: 0.9566\n",
            "Epoch: 0197 | time: 3.5091s | Train loss: 0.0181 | Train micro F1: 0.9913 | Val loss: 0.1159 | Val micro F1: 0.9578\n",
            "Epoch: 0198 | time: 3.7449s | Train loss: 0.0185 | Train micro F1: 0.9914 | Val loss: 0.1121 | Val micro F1: 0.9583\n",
            "Epoch: 0199 | time: 3.8070s | Train loss: 0.0190 | Train micro F1: 0.9909 | Val loss: 0.1152 | Val micro F1: 0.9580\n",
            "Epoch: 0200 | time: 3.5378s | Train loss: 0.0213 | Train micro F1: 0.9906 | Val loss: 0.1172 | Val micro F1: 0.9567\n",
            "\n",
            "Total time elapsed: 739.8786s  |  Average time elapsed: 3.6994s\n",
            "\n",
            "Best model performance @ Epoch 0179: \n",
            "Test loss: 0.0580  |  Test micro F1: 0.9766\n"
          ]
        }
      ],
      "source": [
        "# test train_and_evaluate function on PPI dataset\n",
        "# (This is for the demonstration, you can run it. However running this cell will exceed the 8 minutes limits)\n",
        "ppi_train_params = {\n",
        "  \"lr\": 5e-3,\n",
        "  \"weight_decay\": 0,\n",
        "  \"epochs\": 200,\n",
        "  \"patience\": 100,\n",
        "  \"model_name\": 'GAT_ppi'\n",
        "}\n",
        "best_model, train_losses, train_scores, val_losses, val_scores = training_loop(model, ppi_train_params)"
      ]
    },
    {
      "cell_type": "code",
      "execution_count": 15,
      "metadata": {
        "colab": {
          "base_uri": "https://localhost:8080/",
          "height": 487
        },
        "id": "A6QtmXMdBJxo",
        "outputId": "d46621d6-19bc-4233-846c-e48c4e413a1f"
      },
      "outputs": [
        {
          "output_type": "display_data",
          "data": {
            "text/plain": [
              "<Figure size 1000x500 with 1 Axes>"
            ],
            "image/png": "[encoded data removed]"
          },
          "metadata": {}
        }
      ],
      "source": [
        "import matplotlib.pyplot as plt\n",
        "\n",
        "def plot_f1_score(epoch_list, train_losses, val_scores):\n",
        "    plt.figure(figsize = [10,5])\n",
        "    plt.plot(epoch_list, train_losses, 'b', label = \"train Loss\")\n",
        "    plt.plot(epoch_list, val_scores, 'r', label = \"validation F1 score\")\n",
        "    plt.title(\"Evolution of validation F1 score and training Loss w.r.t epochs\")\n",
        "    plt.ylim([0.0, 1.0])\n",
        "    plt.xlabel(\"Epochs\")\n",
        "    plt.ylabel(\"F1-Score/Loss\")\n",
        "    plt.legend()\n",
        "    plt.savefig('/content/drive/My Drive/GAT_ppi_200_epoch.png')\n",
        "    plt.show()\n",
        "\n",
        "\n",
        "epoch_list = list(range(1, 201))\n",
        "plot_f1_score(epoch_list, train_losses, val_scores)\n"
      ]
    },
    {
      "cell_type": "markdown",
      "metadata": {
        "id": "2LRnMBgzx5gx"
      },
      "source": [
        "##  Evaluation\n",
        "### Metrics descriptions\n",
        "\n",
        "As mentioned in model descriptions, an early stopping strategy was used on both the cross-entropy loss and accuracy (transductive) or micro-F1 (inductive) score on the validation nodes, with a patience of 100 epochs."
      ]
    },
    {
      "cell_type": "markdown",
      "metadata": {
        "id": "AzeIaHGDx5gx"
      },
      "source": [
        "### Implementation code"
      ]
    },
    {
      "cell_type": "markdown",
      "metadata": {
        "id": "jJinNGC4Rg2b"
      },
      "source": [
        "For transductive learning GAT:"
      ]
    },
    {
      "cell_type": "code",
      "execution_count": null,
      "metadata": {
        "id": "IpR7zDMgPgas"
      },
      "outputs": [],
      "source": [
        "# demonstrate evaluate function as show in the model section\n",
        "def evaluate(model, criterion, input, target, mask):\n",
        "    # model = model.to(device)\n",
        "    model.eval()\n",
        "    with torch.no_grad():\n",
        "        output = model(*input)\n",
        "        output, target = output[mask], target[mask]\n",
        "\n",
        "        loss = criterion(output, target)\n",
        "        acc = (output.argmax(dim=1) == target).float().sum() / len(target)\n",
        "\n",
        "    return loss.item(), acc.item()"
      ]
    },
    {
      "cell_type": "code",
      "execution_count": null,
      "metadata": {
        "colab": {
          "base_uri": "https://localhost:8080/"
        },
        "id": "DUG4Bgmx8Hc_",
        "outputId": "411238c1-c82b-4a0e-9671-f6b98818cab6"
      },
      "outputs": [
        {
          "name": "stdout",
          "output_type": "stream",
          "text": [
            "Test set results: loss 1.6022 accuracy 0.7208\n"
          ]
        }
      ],
      "source": [
        "# demonstrate evaluate function on cora, the load model is not the best model\n",
        "state = torch.load('GAT_Cora')\n",
        "GAT_cora.load_state_dict(state['model_state_dict'])\n",
        "criterion = nn.NLLLoss()\n",
        "loss_test, acc_test = evaluate(GAT_cora, criterion, (features, adj_mat), labels, idx_test)\n",
        "print(f'Test set results: loss {loss_test:.4f} accuracy {acc_test:.4f}')"
      ]
    },
    {
      "cell_type": "markdown",
      "metadata": {
        "id": "KhiAs-X1RlAe"
      },
      "source": [
        "For inductive learning GAT:"
      ]
    },
    {
      "cell_type": "code",
      "execution_count": null,
      "metadata": {
        "id": "QMC6douNPg8n"
      },
      "outputs": [],
      "source": [
        "# evaluate function as show in the model section\n",
        "import torch\n",
        "import torch.nn as nn\n",
        "from sklearn.metrics import f1_score\n",
        "import numpy as np\n",
        "\n",
        "def evaluate(model, batch_loader):\n",
        "    model = model.to(device)\n",
        "\n",
        "    loss_fcn = nn.BCEWithLogitsLoss()\n",
        "\n",
        "    total_score = 0\n",
        "    total_loss = 0\n",
        "\n",
        "    model.eval()\n",
        "    with torch.no_grad():\n",
        "        for (batch_id, batched_graph) in enumerate(batch_loader):\n",
        "            node_features = batched_graph.x.to(device)\n",
        "            edge_index = batched_graph.edge_index.to(device)\n",
        "            labels = batched_graph.y.to(device)\n",
        "\n",
        "            logits = model(node_features, edge_index)\n",
        "            pred = (logits >= 0).float().cpu().numpy() # torch.where(logits >= 0, 1, 0)\n",
        "            loss = loss_fcn(logits, labels)\n",
        "            score = torch.tensor(f1_score(labels.cpu().numpy(), pred, average='micro'), dtype=torch.float32, device=device) #\n",
        "\n",
        "        total_loss += loss.item()\n",
        "        total_score += score.item()\n",
        "\n",
        "    avg_loss = total_loss / (batch_id + 1)\n",
        "    avg_score = total_score / (batch_id + 1)\n",
        "\n",
        "    return avg_loss, avg_score"
      ]
    },
    {
      "cell_type": "code",
      "execution_count": 17,
      "metadata": {
        "colab": {
          "base_uri": "https://localhost:8080/"
        },
        "id": "Zl2oOPtqx5gx",
        "outputId": "c1f04a67-0e18-4711-d177-693c9c820d13"
      },
      "outputs": [
        {
          "output_type": "execute_result",
          "data": {
            "text/plain": [
              "(0.057982299476861954, 0.9765520691871643)"
            ]
          },
          "metadata": {},
          "execution_count": 17
        }
      ],
      "source": [
        "# demonstrate evaluate function on PPI, the load model is the best model\n",
        "state = torch.load('GAT_ppi')\n",
        "model.load_state_dict(state['model_state_dict'])\n",
        "\n",
        "evaluate(model, test_loader)"
      ]
    },
    {
      "cell_type": "markdown",
      "metadata": {
        "id": "gX6bCcZNuxmz"
      },
      "source": [
        "# Results\n",
        "\n",
        "\n",
        "###  Results\n",
        "\n"
      ]
    },
    {
      "cell_type": "markdown",
      "metadata": {
        "id": "jXNm-SjfRUMo"
      },
      "source": [
        "For transductive learning:"
      ]
    },
    {
      "cell_type": "markdown",
      "metadata": {
        "id": "sL0uvE34x5gy"
      },
      "source": [
        "In transductive learning, the GAT model was trained for 200 epochs over 10 runs using default hyperparameters on randomly split train/val/test data. The model achieved approximately 81.25% classification accuracy on the test split of the Cora Dataset and 72.82% classification accuracy on the test split of the Citeseer Dataset. These results are consistent with the performance reported in the original paper, supporting hypotheses 1 and 2. It is important to note that the variability in results can be attributed to the randomness of the train/val/test split."
      ]
    },
    {
      "cell_type": "code",
      "execution_count": null,
      "metadata": {
        "id": "LwE-6vfjLG6B"
      },
      "outputs": [],
      "source": [
        "def run_transductive_experiment_cora(iters=100):\n",
        "  losses = []\n",
        "  scores = []\n",
        "  t1 = time.time()\n",
        "  for iter in range(iters):\n",
        "    print(\"Run:\", iter+1)\n",
        "    best_model, loss_values, acc_values, loss_test, acc_test = train_and_evaluate(GAT_cora, (features, adj_mat), labels, idx_train, idx_val, args['epochs'], args['patience'], False)\n",
        "    losses.append(loss_test)\n",
        "    scores.append(acc_test)\n",
        "  losses = torch.tensor(losses)\n",
        "  scores = torch.tensor(scores)\n",
        "  loss_std, loss_mean = torch.std_mean(losses)\n",
        "  score_std, score_mean = torch.std_mean(scores)\n",
        "\n",
        "  # return (torch.std_mean(losses), torch.std_mean(scores))\n",
        "  print()\n",
        "  print(f\"Test Accuracy:  mean: {loss_mean:.4f} | std: {loss_std:.4f}\")\n",
        "  print(f\"Test Loss: mean: {score_mean:.4f} | std: {score_std:.4f}\")\n",
        "  print(f\"Total training time: {time.time()-t1:.4f} seconds | Average training time:  {(time.time()-t1)/iters:.4f} seconds\")\n",
        "  return losses, scores"
      ]
    },
    {
      "cell_type": "code",
      "execution_count": null,
      "metadata": {
        "id": "gZBeSLXfLKHX"
      },
      "outputs": [],
      "source": [
        "# (This is for the demonstration, you can run it. However running this cell will exceed the 8 minutes limits)\n",
        "losses_cora, scores_cora = run_transductive_experiment_cora(10)"
      ]
    },
    {
      "cell_type": "code",
      "execution_count": null,
      "metadata": {
        "colab": {
          "base_uri": "https://localhost:8080/"
        },
        "id": "fD3nfrVrLLID",
        "outputId": "6c568aa4-2e03-4c7b-a2d9-00fa38482dda"
      },
      "outputs": [
        {
          "name": "stdout",
          "output_type": "stream",
          "text": [
            "GAT Cora test loss:\t\t1.4994 +/- 0.0108\n",
            "GAT Cora test accuracy: \t0.8303 +/- 0.0166\n"
          ]
        }
      ],
      "source": [
        "# this result is from cell output in pytorch_GAT_draft.ipynb\n",
        "loss_std_cora, loss_mean_cora = torch.std_mean(torch.tensor([ 1.4761, 1.4836, 1.5032, 1.5019, 1.5035, 1.5052, 1.4995, 1.5094, 1.5048, 1.5070 ]))\n",
        "score_std_cora, score_mean_cora = torch.std_mean(torch.tensor([ 0.8583, 0.8625, 0.8175, 0.8267, 0.8208, 0.8183, 0.8258, 0.8325, 0.8242, 0.8167]))\n",
        "\n",
        "print(f'GAT Cora test loss:\\t\\t{loss_mean_cora:.4f} +/- {loss_std_cora:.4f}')\n",
        "print(f'GAT Cora test accuracy: \\t{score_mean_cora:.4f} +/- {score_std_cora:.4f}')"
      ]
    },
    {
      "cell_type": "code",
      "execution_count": null,
      "metadata": {
        "id": "qm8woEM-3MT1"
      },
      "outputs": [],
      "source": [
        "def run_transductive_experiment_citeseer(iters=100):\n",
        "  losses = []\n",
        "  scores = []\n",
        "  for iter in range(iters):\n",
        "    best_model, loss_values, acc_values, loss_test, acc_test = train_and_evaluate(GAT_citeseer, (features, adj_mat), labels, idx_train, idx_val, args['epochs'], args['patience'], False)\n",
        "    losses.append(loss_test)\n",
        "    scores.append(acc_test)\n",
        "  losses = torch.tensor(losses)\n",
        "  scores = torch.tensor(scores)\n",
        "  # return (torch.std_mean(losses), torch.std_mean(scores))\n",
        "  return losses, scores"
      ]
    },
    {
      "cell_type": "code",
      "execution_count": null,
      "metadata": {
        "id": "mkh73lZLEqRw"
      },
      "outputs": [],
      "source": [
        "# (This is for the demonstration, you can run it. However running this cell will exceed the 8 minutes limits)\n",
        "losses_citeseer, scores_citeseer = run_transductive_experiment_citeseer(10)"
      ]
    },
    {
      "cell_type": "code",
      "execution_count": null,
      "metadata": {
        "colab": {
          "base_uri": "https://localhost:8080/"
        },
        "id": "3LSSpHgVIbpv",
        "outputId": "bf259207-c5dd-4851-8e81-072d38922f18"
      },
      "outputs": [
        {
          "name": "stdout",
          "output_type": "stream",
          "text": [
            "GAT Citeseer test loss:\t\t1.6309 +/- 0.0045\n",
            "GAT Citeseer test accuracy: \t0.7282 +/- 0.0043\n"
          ]
        }
      ],
      "source": [
        "# this result is from cell output in pytorch_GAT_draft.ipynb\n",
        "loss_std_citeseer, loss_mean_citeseer = torch.std_mean(torch.tensor([ 1.6249, 1.6336, 1.6267, 1.6395, 1.6273, 1.6290, 1.6277, 1.6322, 1.6351, 1.6327 ]))\n",
        "score_std_citeseer, score_mean_citeseer = torch.std_mean(torch.tensor([ 0.7290, 0.7330, 0.7320, 0.7230, 0.7320, 0.7200, 0.7280, 0.7300, 0.7300, 0.7250]))\n",
        "\n",
        "print(f'GAT Citeseer test loss:\\t\\t{loss_mean_citeseer:.4f} +/- {loss_std_citeseer:.4f}')\n",
        "print(f'GAT Citeseer test accuracy: \\t{score_mean_citeseer:.4f} +/- {score_std_citeseer:.4f}')"
      ]
    },
    {
      "cell_type": "code",
      "execution_count": null,
      "metadata": {
        "colab": {
          "base_uri": "https://localhost:8080/",
          "height": 425
        },
        "id": "XnosmNcIJTEb",
        "outputId": "7e12afd7-66c8-4da4-9014-c7a19fd3f345"
      },
      "outputs": [
        {
          "data": {
            "text/html": [
              "<table border=\"1\" class=\"dataframe\">\n",
              "  <thead>\n",
              "    <tr style=\"text-align: right;\">\n",
              "      <th>Iteration #</th>\n",
              "      <th>GAT Cora Test Loss</th>\n",
              "      <th>GAT Cora Test Accuracy</th>\n",
              "      <th>GAT Citeseer Test Loss</th>\n",
              "      <th>GAT Citeseer Test Accuracy</th>\n",
              "    </tr>\n",
              "  </thead>\n",
              "  <tbody>\n",
              "    <tr>\n",
              "      <td>1</td>\n",
              "      <td>1.476100</td>\n",
              "      <td>0.858300</td>\n",
              "      <td>1.624900</td>\n",
              "      <td>0.729000</td>\n",
              "    </tr>\n",
              "    <tr>\n",
              "      <td>2</td>\n",
              "      <td>1.483600</td>\n",
              "      <td>0.862500</td>\n",
              "      <td>1.633600</td>\n",
              "      <td>0.733000</td>\n",
              "    </tr>\n",
              "    <tr>\n",
              "      <td>3</td>\n",
              "      <td>1.503200</td>\n",
              "      <td>0.817500</td>\n",
              "      <td>1.626700</td>\n",
              "      <td>0.732000</td>\n",
              "    </tr>\n",
              "    <tr>\n",
              "      <td>4</td>\n",
              "      <td>1.501900</td>\n",
              "      <td>0.826700</td>\n",
              "      <td>1.639500</td>\n",
              "      <td>0.723000</td>\n",
              "    </tr>\n",
              "    <tr>\n",
              "      <td>5</td>\n",
              "      <td>1.503500</td>\n",
              "      <td>0.820800</td>\n",
              "      <td>1.627300</td>\n",
              "      <td>0.732000</td>\n",
              "    </tr>\n",
              "    <tr>\n",
              "      <td>6</td>\n",
              "      <td>1.505200</td>\n",
              "      <td>0.818300</td>\n",
              "      <td>1.629000</td>\n",
              "      <td>0.720000</td>\n",
              "    </tr>\n",
              "    <tr>\n",
              "      <td>7</td>\n",
              "      <td>1.499500</td>\n",
              "      <td>0.825800</td>\n",
              "      <td>1.627700</td>\n",
              "      <td>0.728000</td>\n",
              "    </tr>\n",
              "    <tr>\n",
              "      <td>8</td>\n",
              "      <td>1.509400</td>\n",
              "      <td>0.832500</td>\n",
              "      <td>1.632200</td>\n",
              "      <td>0.730000</td>\n",
              "    </tr>\n",
              "    <tr>\n",
              "      <td>9</td>\n",
              "      <td>1.504800</td>\n",
              "      <td>0.824200</td>\n",
              "      <td>1.635100</td>\n",
              "      <td>0.730000</td>\n",
              "    </tr>\n",
              "    <tr>\n",
              "      <td>10</td>\n",
              "      <td>1.507000</td>\n",
              "      <td>0.816700</td>\n",
              "      <td>1.632700</td>\n",
              "      <td>0.725000</td>\n",
              "    </tr>\n",
              "    <tr>\n",
              "      <td>Mean</td>\n",
              "      <td>1.499420</td>\n",
              "      <td>0.830330</td>\n",
              "      <td>1.630870</td>\n",
              "      <td>0.728200</td>\n",
              "    </tr>\n",
              "    <tr>\n",
              "      <td>Standard Deviation</td>\n",
              "      <td>0.010804</td>\n",
              "      <td>0.016597</td>\n",
              "      <td>0.004525</td>\n",
              "      <td>0.004264</td>\n",
              "    </tr>\n",
              "  </tbody>\n",
              "</table>"
            ],
            "text/plain": [
              "<IPython.core.display.HTML object>"
            ]
          },
          "metadata": {},
          "output_type": "display_data"
        }
      ],
      "source": [
        "# this result is from cell output in pytorch_GAT_draft.ipynb\n",
        "from IPython.display import display, HTML\n",
        "import pandas as pd\n",
        "\n",
        "df = pd.DataFrame({'Iteration #' : [1, 2, 3, 4, 5, 6, 7, 8, 9, 10, 'Mean', 'Standard Deviation'],\n",
        "                            'GAT Cora Test Loss' : [ 1.4761, 1.4836, 1.5032, 1.5019, 1.5035, 1.5052, 1.4995, 1.5094, 1.5048, 1.5070 , loss_mean_cora.item(), loss_std_cora.item() ],\n",
        "                            'GAT Cora Test Accuracy' : [ 0.8583, 0.8625, 0.8175, 0.8267, 0.8208, 0.8183, 0.8258, 0.8325, 0.8242, 0.8167, score_mean_cora.item(), score_std_cora.item()],\n",
        "                            'GAT Citeseer Test Loss' : [ 1.6249, 1.6336, 1.6267, 1.6395, 1.6273, 1.6290, 1.6277, 1.6322, 1.6351, 1.6327 , loss_mean_citeseer.item(), loss_std_citeseer.item() ],\n",
        "                            'GAT Citeseer Test Accuracy' : [ 0.7290, 0.7330, 0.7320, 0.7230, 0.7320, 0.7200, 0.7280, 0.7300, 0.7300, 0.7250, score_mean_citeseer.item(), score_std_citeseer.item()],\n",
        "                            })\n",
        "#display(df)\n",
        "display(HTML(df.to_html(index=False)))"
      ]
    },
    {
      "cell_type": "markdown",
      "metadata": {
        "id": "g1EadUEPRaVe"
      },
      "source": [
        "For inductive learning:"
      ]
    },
    {
      "cell_type": "markdown",
      "metadata": {
        "id": "2iGO7ws5x5gy"
      },
      "source": [
        "In the case of inductive learning, after 10 runs of training for 200 epochs, the GAT model achieved an average of 97.51% +/- 0.16% classification micro F1 score on the test split, further supporting hypothesis 3."
      ]
    },
    {
      "cell_type": "code",
      "execution_count": null,
      "metadata": {
        "id": "KFVbMBtXx5g2"
      },
      "outputs": [],
      "source": [
        "# function to run inductive experiment\n",
        "def run_inductive_experiment(iters=10):\n",
        "  losses = []\n",
        "  scores = []\n",
        "  t1 = time.time()\n",
        "  for iter in range(iters):\n",
        "    print(\"Run:\", iter+1)\n",
        "    best_model,_ ,_ ,_ ,_ = training_loop(model, ppi_train_params, verbose=False)\n",
        "    loss, score = evaluate(best_model, test_loader)\n",
        "    losses.append(loss)\n",
        "    scores.append(score)\n",
        "  losses = torch.tensor(losses)\n",
        "  scores = torch.tensor(scores)\n",
        "\n",
        "  print()\n",
        "  print(f\"Test micro F1 score:  mean: {loss_mean:.4f} | std: {loss_std:.4f}\")\n",
        "  print(f\"Test Loss: mean: {score_mean:.4f} | std: {score_std:.4f}\")\n",
        "  print(f\"Total training time: {time.time()-t1:.4f} seconds | Average training time:  {(time.time()-t1)/iters:.4f} seconds\")\n",
        "  return (torch.std_mean(losses), torch.std_mean(scores))"
      ]
    },
    {
      "cell_type": "code",
      "execution_count": null,
      "metadata": {
        "id": "CA1VXeKt1k9f"
      },
      "outputs": [],
      "source": [
        "# (This is for the demonstration, you can run it. However running this cell will exceed the 8 minutes limits )\n",
        "loss_ci, score_ci = run_inductive_experiment(10)\n",
        "loss_std, loss_mean = loss_ci\n",
        "score_std, score_mean = score_ci\n",
        "\n",
        "print(f'loss:\\t\\t{loss_mean:.4f} +/- {loss_std:.4f}')\n",
        "print(f'micro F1 score: {score_mean:.4f} +/- {score_std:.4f}')"
      ]
    },
    {
      "cell_type": "code",
      "execution_count": null,
      "metadata": {
        "colab": {
          "base_uri": "https://localhost:8080/"
        },
        "id": "xgcUBu1I1p-b",
        "outputId": "51af431e-4668-453b-bfa6-e7d7f96170db"
      },
      "outputs": [
        {
          "name": "stdout",
          "output_type": "stream",
          "text": [
            "test loss:\t\t0.0629 +/- 0.0038\n",
            "test micro F1 score: \t0.9751 +/- 0.0016\n"
          ]
        }
      ],
      "source": [
        "# this result is from cell output in pytorch_GAT_draft.ipynb\n",
        "loss_std, loss_mean = torch.std_mean(torch.tensor([ 0.0619, 0.0638, 0.0563, 0.0717, 0.0623, 0.0619, 0.0622, 0.0632, 0.0618, 0.0639 ]))\n",
        "score_std, score_mean = torch.std_mean(torch.tensor([ 0.9765, 0.9735, 0.9773, 0.9724, 0.9751, 0.9761, 0.9745, 0.9770, 0.9740, 0.9751]))\n",
        "\n",
        "print(f'test loss:\\t\\t{loss_mean:.4f} +/- {loss_std:.4f}')\n",
        "print(f'test micro F1 score: \\t{score_mean:.4f} +/- {score_std:.4f}')"
      ]
    },
    {
      "cell_type": "code",
      "execution_count": null,
      "metadata": {
        "colab": {
          "base_uri": "https://localhost:8080/",
          "height": 425
        },
        "id": "pZ8LEimV1y_I",
        "outputId": "68f3a62e-3cb8-4ca0-cd65-ce7287bda665"
      },
      "outputs": [
        {
          "data": {
            "text/html": [
              "<table border=\"1\" class=\"dataframe\">\n",
              "  <thead>\n",
              "    <tr style=\"text-align: right;\">\n",
              "      <th>Iteration #</th>\n",
              "      <th>GAT PPI Test Loss</th>\n",
              "      <th>GAT PPI Test micro F1 Score</th>\n",
              "    </tr>\n",
              "  </thead>\n",
              "  <tbody>\n",
              "    <tr>\n",
              "      <td>1</td>\n",
              "      <td>0.061900</td>\n",
              "      <td>0.976500</td>\n",
              "    </tr>\n",
              "    <tr>\n",
              "      <td>2</td>\n",
              "      <td>0.063800</td>\n",
              "      <td>0.973500</td>\n",
              "    </tr>\n",
              "    <tr>\n",
              "      <td>3</td>\n",
              "      <td>0.056300</td>\n",
              "      <td>0.977300</td>\n",
              "    </tr>\n",
              "    <tr>\n",
              "      <td>4</td>\n",
              "      <td>0.071700</td>\n",
              "      <td>0.972400</td>\n",
              "    </tr>\n",
              "    <tr>\n",
              "      <td>5</td>\n",
              "      <td>0.062300</td>\n",
              "      <td>0.975100</td>\n",
              "    </tr>\n",
              "    <tr>\n",
              "      <td>6</td>\n",
              "      <td>0.061900</td>\n",
              "      <td>0.976100</td>\n",
              "    </tr>\n",
              "    <tr>\n",
              "      <td>7</td>\n",
              "      <td>0.062200</td>\n",
              "      <td>0.974500</td>\n",
              "    </tr>\n",
              "    <tr>\n",
              "      <td>8</td>\n",
              "      <td>0.063200</td>\n",
              "      <td>0.977000</td>\n",
              "    </tr>\n",
              "    <tr>\n",
              "      <td>9</td>\n",
              "      <td>0.061800</td>\n",
              "      <td>0.974000</td>\n",
              "    </tr>\n",
              "    <tr>\n",
              "      <td>10</td>\n",
              "      <td>0.063900</td>\n",
              "      <td>0.975100</td>\n",
              "    </tr>\n",
              "    <tr>\n",
              "      <td>Mean</td>\n",
              "      <td>0.062900</td>\n",
              "      <td>0.975150</td>\n",
              "    </tr>\n",
              "    <tr>\n",
              "      <td>Standard Deviation</td>\n",
              "      <td>0.003756</td>\n",
              "      <td>0.001592</td>\n",
              "    </tr>\n",
              "  </tbody>\n",
              "</table>"
            ],
            "text/plain": [
              "<IPython.core.display.HTML object>"
            ]
          },
          "metadata": {},
          "output_type": "display_data"
        }
      ],
      "source": [
        "# this result is from cell output in pytorch_GAT_draft.ipynb\n",
        "from IPython.display import display, HTML\n",
        "import pandas as pd\n",
        "\n",
        "df = pd.DataFrame({'Iteration #' : [1, 2, 3, 4, 5, 6, 7, 8, 9, 10, 'Mean', 'Standard Deviation'],\n",
        "                   'GAT PPI Test Loss' : [ 0.0619, 0.0638, 0.0563, 0.0717, 0.0623, 0.0619, 0.0622, 0.0632, 0.0618, 0.0639, loss_mean.item(), loss_std.item() ],\n",
        "                   'GAT PPI Test micro F1 Score' : [0.9765, 0.9735, 0.9773, 0.9724, 0.9751, 0.9761, 0.9745, 0.9770, 0.9740, 0.9751, score_mean.item(), score_std.item()],})\n",
        "#display(df)\n",
        "display(HTML(df.to_html(index=False)))"
      ]
    },
    {
      "cell_type": "markdown",
      "metadata": {
        "id": "R1Y3exoDGIBq"
      },
      "source": [
        "###  Analyses\n",
        "\n",
        "#### Model comparison\n",
        "In comparing transductive GAT with transductive GCN(in Pytorch GCN.ipynb), it is observed that GAT outperforms GCN in terms of accuracy (83.03% vs. 80.74%) but takes longer to train (28s vs. 10s). This tradeoff can lead to scalability issues when dealing with large graphs.\n",
        "\n",
        "It's important to carefully consider the tradeoffs between accuracy and training time when selecting a model, especially in scenarios involving large graphs.\n",
        "\n",
        "The reported results align closely with the obtained performance, with GAT achieving 83.03% on Cora and achieving 72.82% on Citeseer. The slight variation can be attributed to additional preprocessing steps in GCN, as well as differences in the size of the training, validation, and test sets.\n",
        "\n",
        "\n",
        "\n",
        "###  Plans\n",
        "\n",
        "\n",
        "Future plans include conducting an Ablation Study focusing on the model parameter that counts the number of patience as mentioned in the paper. Additionally, the comparison of GAT with GCN in a transductive learning setting is underway, with the coding part completed and the report pending finalization.\n"
      ]
    },
    {
      "cell_type": "markdown",
      "metadata": {
        "id": "8EAWAy_LwHlV"
      },
      "source": [
        "##  Ablation Study：Model comparison"
      ]
    },
    {
      "cell_type": "code",
      "execution_count": null,
      "metadata": {
        "id": "uOdhGrbwwG71"
      },
      "outputs": [],
      "source": [
        "# compare you model with others\n",
        "# you don't need to re-run all other experiments, instead, you can directly refer the metrics/numbers in the paper"
      ]
    },
    {
      "cell_type": "markdown",
      "metadata": {
        "id": "qH75TNU71eRH"
      },
      "source": [
        "# Discussion\n",
        "\n",
        "In this section,you should discuss your work and make future plan. The discussion should address the following questions:\n",
        "  * Make assessment that the paper is reproducible or not.\n",
        "  * Explain why it is not reproducible if your results are kind negative.\n",
        "  * Describe “What was easy” and “What was difficult” during the reproduction.\n",
        "  * Make suggestions to the author or other reproducers on how to improve the reproducibility.\n",
        "  * What will you do in next phase.\n",
        "\n"
      ]
    },
    {
      "cell_type": "code",
      "execution_count": null,
      "metadata": {
        "id": "E2VDXo5F4Frm"
      },
      "outputs": [],
      "source": [
        "# no code is required for this section\n",
        "'''\n",
        "if you want to use an image outside this notebook for explanaition,\n",
        "you can read and plot it here like the Scope of Reproducibility\n",
        "'''"
      ]
    },
    {
      "cell_type": "markdown",
      "metadata": {
        "id": "SHMI2chl9omn"
      },
      "source": [
        "# References\n",
        "\n",
        "1.   Sun, J, [paper title], [journal title], [year], [volume]:[issue], doi: [doi link to paper]\n",
        "\n"
      ]
    },
    {
      "cell_type": "markdown",
      "metadata": {
        "id": "xmVuzQ724HbO"
      },
      "source": [
        "# Feel free to add new sections"
      ]
    }
  ],
  "metadata": {
    "accelerator": "GPU",
    "colab": {
      "gpuType": "T4",
      "provenance": []
    },
    "kernelspec": {
      "display_name": "Python 3",
      "name": "python3"
    },
    "language_info": {
      "name": "python"
    }
  },
  "nbformat": 4,
  "nbformat_minor": 0
}